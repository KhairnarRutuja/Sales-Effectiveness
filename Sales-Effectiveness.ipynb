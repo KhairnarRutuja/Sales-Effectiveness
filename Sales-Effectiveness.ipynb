{
 "cells": [
  {
   "cell_type": "markdown",
   "id": "c5541321",
   "metadata": {},
   "source": [
    "# BUSINESS CASE:- BASED ON THE GIVEN FEATURE OF DATASET WE NEED TO PREDICT THE PROSPECTIVE LEAD CATEGORY, DISTINGUISHING BETWEEN 'HIGH POTENTIAL AND 'LOW POTENTIAL' CUSTOMERS."
   ]
  },
  {
   "cell_type": "markdown",
   "id": "aaa69dc2",
   "metadata": {},
   "source": [
    "## IMPORT BASIC LIBRARIES"
   ]
  },
  {
   "cell_type": "code",
   "execution_count": 1,
   "id": "34704471",
   "metadata": {},
   "outputs": [],
   "source": [
    "import pandas as pd\n",
    "import numpy as np\n",
    "import seaborn as sns\n",
    "import matplotlib.pyplot as plt\n",
    "%matplotlib inline\n",
    "import mysql.connector\n",
    "import warnings\n",
    "warnings.filterwarnings(\"ignore\")"
   ]
  },
  {
   "cell_type": "markdown",
   "id": "65718b92",
   "metadata": {},
   "source": [
    "## LOAD DATA"
   ]
  },
  {
   "cell_type": "code",
   "execution_count": 2,
   "id": "ef0db6a2",
   "metadata": {},
   "outputs": [
    {
     "name": "stdout",
     "output_type": "stream",
     "text": [
      "Requirement already satisfied: mysql-connector-python in c:\\users\\hemant\\anaconda3\\lib\\site-packages (8.2.0)\n",
      "Requirement already satisfied: protobuf<=4.21.12,>=4.21.1 in c:\\users\\hemant\\anaconda3\\lib\\site-packages (from mysql-connector-python) (4.21.12)\n",
      "Note: you may need to restart the kernel to use updated packages.\n"
     ]
    },
    {
     "name": "stderr",
     "output_type": "stream",
     "text": [
      "WARNING: Ignoring invalid distribution -weetviz (c:\\users\\hemant\\anaconda3\\lib\\site-packages)\n",
      "WARNING: Ignoring invalid distribution -weetviz (c:\\users\\hemant\\anaconda3\\lib\\site-packages)\n"
     ]
    }
   ],
   "source": [
    "pip install mysql-connector-python"
   ]
  },
  {
   "cell_type": "code",
   "execution_count": 3,
   "id": "568f5e54",
   "metadata": {},
   "outputs": [],
   "source": [
    "# Establish a connection\n",
    "connection = mysql.connector.connect(\n",
    "    host='18.136.157.135',\n",
    "    user='dm_team2',\n",
    "    password='DM!$Team&27@9!20!',\n",
    "    database='project_sales'\n",
    ")"
   ]
  },
  {
   "cell_type": "code",
   "execution_count": 4,
   "id": "e5b55e51",
   "metadata": {},
   "outputs": [
    {
     "data": {
      "text/html": [
       "<div>\n",
       "<style scoped>\n",
       "    .dataframe tbody tr th:only-of-type {\n",
       "        vertical-align: middle;\n",
       "    }\n",
       "\n",
       "    .dataframe tbody tr th {\n",
       "        vertical-align: top;\n",
       "    }\n",
       "\n",
       "    .dataframe thead th {\n",
       "        text-align: right;\n",
       "    }\n",
       "</style>\n",
       "<table border=\"1\" class=\"dataframe\">\n",
       "  <thead>\n",
       "    <tr style=\"text-align: right;\">\n",
       "      <th></th>\n",
       "      <th>Created</th>\n",
       "      <th>Product_ID</th>\n",
       "      <th>Source</th>\n",
       "      <th>Mobile</th>\n",
       "      <th>EMAIL</th>\n",
       "      <th>Sales_Agent</th>\n",
       "      <th>Location</th>\n",
       "      <th>Delivery_Mode</th>\n",
       "      <th>Status</th>\n",
       "    </tr>\n",
       "  </thead>\n",
       "  <tbody>\n",
       "    <tr>\n",
       "      <th>0</th>\n",
       "      <td>14-11-2018 10:05</td>\n",
       "      <td></td>\n",
       "      <td>Website</td>\n",
       "      <td>984XXXXXXX</td>\n",
       "      <td>aXXXXXXX@gmail.com</td>\n",
       "      <td>Sales-Agent-11</td>\n",
       "      <td></td>\n",
       "      <td>Mode-5</td>\n",
       "      <td>Open</td>\n",
       "    </tr>\n",
       "    <tr>\n",
       "      <th>1</th>\n",
       "      <td>14-11-2018 09:22</td>\n",
       "      <td></td>\n",
       "      <td>Website</td>\n",
       "      <td>XXXXXXX</td>\n",
       "      <td>#VALUE!</td>\n",
       "      <td>Sales-Agent-10</td>\n",
       "      <td></td>\n",
       "      <td>Mode-5</td>\n",
       "      <td>Open</td>\n",
       "    </tr>\n",
       "    <tr>\n",
       "      <th>2</th>\n",
       "      <td>14-11-2018 09:21</td>\n",
       "      <td></td>\n",
       "      <td>Website</td>\n",
       "      <td>XXXXXXX</td>\n",
       "      <td>dXXXXXXX@yahoo.com</td>\n",
       "      <td>Sales-Agent-10</td>\n",
       "      <td></td>\n",
       "      <td>Mode-5</td>\n",
       "      <td>Open</td>\n",
       "    </tr>\n",
       "    <tr>\n",
       "      <th>3</th>\n",
       "      <td>14-11-2018 08:46</td>\n",
       "      <td></td>\n",
       "      <td>Website</td>\n",
       "      <td>XXXXXXX</td>\n",
       "      <td>wXXXXXXX@gmail.com</td>\n",
       "      <td>Sales-Agent-10</td>\n",
       "      <td></td>\n",
       "      <td>Mode-5</td>\n",
       "      <td>Open</td>\n",
       "    </tr>\n",
       "    <tr>\n",
       "      <th>4</th>\n",
       "      <td>14-11-2018 07:34</td>\n",
       "      <td></td>\n",
       "      <td>Website</td>\n",
       "      <td>XXXXXXX</td>\n",
       "      <td>cXXXXXXX@gmail.com</td>\n",
       "      <td>Sales-Agent-10</td>\n",
       "      <td></td>\n",
       "      <td>Mode-5</td>\n",
       "      <td>Open</td>\n",
       "    </tr>\n",
       "    <tr>\n",
       "      <th>...</th>\n",
       "      <td>...</td>\n",
       "      <td>...</td>\n",
       "      <td>...</td>\n",
       "      <td>...</td>\n",
       "      <td>...</td>\n",
       "      <td>...</td>\n",
       "      <td>...</td>\n",
       "      <td>...</td>\n",
       "      <td>...</td>\n",
       "    </tr>\n",
       "    <tr>\n",
       "      <th>7417</th>\n",
       "      <td>28-04-2018 09:45</td>\n",
       "      <td>9</td>\n",
       "      <td>Call</td>\n",
       "      <td></td>\n",
       "      <td>aXXXXXXX@gmail.com</td>\n",
       "      <td>Sales-Agent-6</td>\n",
       "      <td>Mumbai</td>\n",
       "      <td>Mode-4</td>\n",
       "      <td>LOST</td>\n",
       "    </tr>\n",
       "    <tr>\n",
       "      <th>7418</th>\n",
       "      <td>28-04-2018 09:43</td>\n",
       "      <td>15</td>\n",
       "      <td>Call</td>\n",
       "      <td></td>\n",
       "      <td>#VALUE!</td>\n",
       "      <td>Sales-Agent-12</td>\n",
       "      <td>Other Locations</td>\n",
       "      <td>Mode-5</td>\n",
       "      <td>LOST</td>\n",
       "    </tr>\n",
       "    <tr>\n",
       "      <th>7419</th>\n",
       "      <td>28-04-2018 09:20</td>\n",
       "      <td>5</td>\n",
       "      <td>Live Chat-Direct</td>\n",
       "      <td></td>\n",
       "      <td>sXXXXXXX@gmail.com</td>\n",
       "      <td>Sales-Agent-11</td>\n",
       "      <td>Bangalore</td>\n",
       "      <td>Mode-1</td>\n",
       "      <td>Not Responding</td>\n",
       "    </tr>\n",
       "    <tr>\n",
       "      <th>7420</th>\n",
       "      <td>28-04-2018 08:04</td>\n",
       "      <td>21</td>\n",
       "      <td>CRM form</td>\n",
       "      <td></td>\n",
       "      <td>YXXXXXXX@gmail.com</td>\n",
       "      <td>Sales-Agent-4</td>\n",
       "      <td>Other Locations</td>\n",
       "      <td>Mode-1</td>\n",
       "      <td>Just Enquiry</td>\n",
       "    </tr>\n",
       "    <tr>\n",
       "      <th>7421</th>\n",
       "      <td>28-04-2018 07:54</td>\n",
       "      <td>25</td>\n",
       "      <td>Website</td>\n",
       "      <td></td>\n",
       "      <td>cXXXXXXX@gmail.com</td>\n",
       "      <td>Sales-Agent-3</td>\n",
       "      <td>Chennai</td>\n",
       "      <td>Mode-1</td>\n",
       "      <td>CONVERTED</td>\n",
       "    </tr>\n",
       "  </tbody>\n",
       "</table>\n",
       "<p>7422 rows × 9 columns</p>\n",
       "</div>"
      ],
      "text/plain": [
       "               Created Product_ID            Source      Mobile  \\\n",
       "0     14-11-2018 10:05                      Website  984XXXXXXX   \n",
       "1     14-11-2018 09:22                      Website     XXXXXXX   \n",
       "2     14-11-2018 09:21                      Website     XXXXXXX   \n",
       "3     14-11-2018 08:46                      Website     XXXXXXX   \n",
       "4     14-11-2018 07:34                      Website     XXXXXXX   \n",
       "...                ...        ...               ...         ...   \n",
       "7417  28-04-2018 09:45          9              Call               \n",
       "7418  28-04-2018 09:43         15              Call               \n",
       "7419  28-04-2018 09:20          5  Live Chat-Direct               \n",
       "7420  28-04-2018 08:04         21          CRM form               \n",
       "7421  28-04-2018 07:54         25           Website               \n",
       "\n",
       "                   EMAIL     Sales_Agent         Location Delivery_Mode  \\\n",
       "0     aXXXXXXX@gmail.com  Sales-Agent-11                         Mode-5   \n",
       "1                #VALUE!  Sales-Agent-10                         Mode-5   \n",
       "2     dXXXXXXX@yahoo.com  Sales-Agent-10                         Mode-5   \n",
       "3     wXXXXXXX@gmail.com  Sales-Agent-10                         Mode-5   \n",
       "4     cXXXXXXX@gmail.com  Sales-Agent-10                         Mode-5   \n",
       "...                  ...             ...              ...           ...   \n",
       "7417  aXXXXXXX@gmail.com   Sales-Agent-6           Mumbai        Mode-4   \n",
       "7418             #VALUE!  Sales-Agent-12  Other Locations        Mode-5   \n",
       "7419  sXXXXXXX@gmail.com  Sales-Agent-11        Bangalore        Mode-1   \n",
       "7420  YXXXXXXX@gmail.com   Sales-Agent-4  Other Locations        Mode-1   \n",
       "7421  cXXXXXXX@gmail.com   Sales-Agent-3          Chennai        Mode-1   \n",
       "\n",
       "              Status  \n",
       "0               Open  \n",
       "1               Open  \n",
       "2               Open  \n",
       "3               Open  \n",
       "4               Open  \n",
       "...              ...  \n",
       "7417            LOST  \n",
       "7418            LOST  \n",
       "7419  Not Responding  \n",
       "7420    Just Enquiry  \n",
       "7421       CONVERTED  \n",
       "\n",
       "[7422 rows x 9 columns]"
      ]
     },
     "execution_count": 4,
     "metadata": {},
     "output_type": "execute_result"
    }
   ],
   "source": [
    "# SQL query\n",
    "query = \"SELECT * FROM data\"\n",
    "# execute the query \n",
    "data = pd.read_sql(query, connection)\n",
    "data"
   ]
  },
  {
   "cell_type": "markdown",
   "id": "011186fd",
   "metadata": {},
   "source": [
    "**NOTE - Here we clearly seen special character present in this data**"
   ]
  },
  {
   "cell_type": "code",
   "execution_count": 5,
   "id": "16f12a78",
   "metadata": {},
   "outputs": [
    {
     "data": {
      "text/html": [
       "<div>\n",
       "<style scoped>\n",
       "    .dataframe tbody tr th:only-of-type {\n",
       "        vertical-align: middle;\n",
       "    }\n",
       "\n",
       "    .dataframe tbody tr th {\n",
       "        vertical-align: top;\n",
       "    }\n",
       "\n",
       "    .dataframe thead th {\n",
       "        text-align: right;\n",
       "    }\n",
       "</style>\n",
       "<table border=\"1\" class=\"dataframe\">\n",
       "  <thead>\n",
       "    <tr style=\"text-align: right;\">\n",
       "      <th></th>\n",
       "      <th>Created</th>\n",
       "      <th>Product_ID</th>\n",
       "      <th>Source</th>\n",
       "      <th>Mobile</th>\n",
       "      <th>EMAIL</th>\n",
       "      <th>Sales_Agent</th>\n",
       "      <th>Location</th>\n",
       "      <th>Delivery_Mode</th>\n",
       "      <th>Status</th>\n",
       "    </tr>\n",
       "  </thead>\n",
       "  <tbody>\n",
       "    <tr>\n",
       "      <th>0</th>\n",
       "      <td>14112018 1005</td>\n",
       "      <td></td>\n",
       "      <td>Website</td>\n",
       "      <td>984XXXXXXX</td>\n",
       "      <td>aXXXXXXXgmailcom</td>\n",
       "      <td>SalesAgent11</td>\n",
       "      <td></td>\n",
       "      <td>Mode5</td>\n",
       "      <td>Open</td>\n",
       "    </tr>\n",
       "    <tr>\n",
       "      <th>1</th>\n",
       "      <td>14112018 0922</td>\n",
       "      <td></td>\n",
       "      <td>Website</td>\n",
       "      <td>XXXXXXX</td>\n",
       "      <td>VALUE!</td>\n",
       "      <td>SalesAgent10</td>\n",
       "      <td></td>\n",
       "      <td>Mode5</td>\n",
       "      <td>Open</td>\n",
       "    </tr>\n",
       "    <tr>\n",
       "      <th>2</th>\n",
       "      <td>14112018 0921</td>\n",
       "      <td></td>\n",
       "      <td>Website</td>\n",
       "      <td>XXXXXXX</td>\n",
       "      <td>dXXXXXXXyahoocom</td>\n",
       "      <td>SalesAgent10</td>\n",
       "      <td></td>\n",
       "      <td>Mode5</td>\n",
       "      <td>Open</td>\n",
       "    </tr>\n",
       "    <tr>\n",
       "      <th>3</th>\n",
       "      <td>14112018 0846</td>\n",
       "      <td></td>\n",
       "      <td>Website</td>\n",
       "      <td>XXXXXXX</td>\n",
       "      <td>wXXXXXXXgmailcom</td>\n",
       "      <td>SalesAgent10</td>\n",
       "      <td></td>\n",
       "      <td>Mode5</td>\n",
       "      <td>Open</td>\n",
       "    </tr>\n",
       "    <tr>\n",
       "      <th>4</th>\n",
       "      <td>14112018 0734</td>\n",
       "      <td></td>\n",
       "      <td>Website</td>\n",
       "      <td>XXXXXXX</td>\n",
       "      <td>cXXXXXXXgmailcom</td>\n",
       "      <td>SalesAgent10</td>\n",
       "      <td></td>\n",
       "      <td>Mode5</td>\n",
       "      <td>Open</td>\n",
       "    </tr>\n",
       "  </tbody>\n",
       "</table>\n",
       "</div>"
      ],
      "text/plain": [
       "         Created Product_ID   Source      Mobile             EMAIL  \\\n",
       "0  14112018 1005             Website  984XXXXXXX  aXXXXXXXgmailcom   \n",
       "1  14112018 0922             Website     XXXXXXX            VALUE!   \n",
       "2  14112018 0921             Website     XXXXXXX  dXXXXXXXyahoocom   \n",
       "3  14112018 0846             Website     XXXXXXX  wXXXXXXXgmailcom   \n",
       "4  14112018 0734             Website     XXXXXXX  cXXXXXXXgmailcom   \n",
       "\n",
       "    Sales_Agent Location Delivery_Mode Status  \n",
       "0  SalesAgent11                  Mode5   Open  \n",
       "1  SalesAgent10                  Mode5   Open  \n",
       "2  SalesAgent10                  Mode5   Open  \n",
       "3  SalesAgent10                  Mode5   Open  \n",
       "4  SalesAgent10                  Mode5   Open  "
      ]
     },
     "execution_count": 5,
     "metadata": {},
     "output_type": "execute_result"
    }
   ],
   "source": [
    "# Replace special character with NaN\n",
    "data = data.replace('[\\£#$%&\\'()*+,-./:;<=>?@[\\\\]^_`{|}~]','',regex=True) # Remove special character\n",
    "data.head()"
   ]
  },
  {
   "cell_type": "markdown",
   "id": "2258f86e",
   "metadata": {},
   "source": [
    "## DOMAIN ANALYSIS"
   ]
  },
  {
   "cell_type": "markdown",
   "id": "46bec722",
   "metadata": {},
   "source": [
    "**1. CREATED:-**\n",
    "- This column likely represents the date or timestamp when the record was created or the transaction occurred.\n",
    "\n",
    "**2. PRODUCT_ID:-**\n",
    "- An identifier for the specific product being sold or referenced.\n",
    "\n",
    "**3. SOURCE:-**\n",
    "- Indicates the origin or channel through which the product was acquired or sold. This could be online, offline, referrals, etc.\n",
    "\n",
    "**4. MOBILE:-**\n",
    "- Possibly denotes a mobile number associated with the transaction or customer.\n",
    "\n",
    "**5. EMAIL:-**\n",
    "- Represents the email address related to the transaction or customer.\n",
    "\n",
    "**6. SALES_AGENT:-**\n",
    "- Refers to the person responsible for making the sale or handling the transaction.\n",
    "\n",
    "**7. LOCATION:-**\n",
    "- Indicates the geographical location or address associated with the transaction, likely where the product is delivered or the customer is located.\n",
    "\n",
    "**8. DELIVARY_MODE:-**\n",
    "- Specifies the method or mode of delivery for the product—whether it's digitally delivered.\n",
    "- **Mode1, Mode2, Mode3, Mode4, Mode5** could stand for various delivery options or methods. \n",
    "\n",
    "**9. STATUS:-**\n",
    "- Represents the current status of the transaction or order. \n",
    "- This could include\n",
    "\n",
    "**1. JUST ENQUIRY:-**\n",
    "- Represents leads that are inquiring but haven't progressed further in the sales funnel.\n",
    "\n",
    "**2. POTENTIAL:-**\n",
    "- Likely signifies leads that have potential for conversion but haven't reached that stage yet.\n",
    "\n",
    "**3. LONG TERM:-**\n",
    "- Represents leads that might convert in the long run but are not immediate prospects.\n",
    "\n",
    "**4. IN PROGRESS POSITIVE:-**\n",
    "- Indicates leads that are actively progressing towards a positive conversion.\n",
    "\n",
    "**5. IN PROGRESS NEGATIVE:-**\n",
    "- Represents leads that are progressing but might not result in a successful conversion.\n",
    "\n",
    "**6. LOST:-**\n",
    "- Denotes leads that were pursued but eventually lost or did not convert.\n",
    "\n",
    "**7. OPEN:-**\n",
    "- Possibly represents leads that are still being actively worked on but haven't progressed significantly."
   ]
  },
  {
   "cell_type": "markdown",
   "id": "a7dab049",
   "metadata": {},
   "source": [
    "## BASICS CHECKS"
   ]
  },
  {
   "cell_type": "code",
   "execution_count": 6,
   "id": "0e5e3e39",
   "metadata": {},
   "outputs": [
    {
     "data": {
      "text/html": [
       "<div>\n",
       "<style scoped>\n",
       "    .dataframe tbody tr th:only-of-type {\n",
       "        vertical-align: middle;\n",
       "    }\n",
       "\n",
       "    .dataframe tbody tr th {\n",
       "        vertical-align: top;\n",
       "    }\n",
       "\n",
       "    .dataframe thead th {\n",
       "        text-align: right;\n",
       "    }\n",
       "</style>\n",
       "<table border=\"1\" class=\"dataframe\">\n",
       "  <thead>\n",
       "    <tr style=\"text-align: right;\">\n",
       "      <th></th>\n",
       "      <th>Created</th>\n",
       "      <th>Product_ID</th>\n",
       "      <th>Source</th>\n",
       "      <th>Mobile</th>\n",
       "      <th>EMAIL</th>\n",
       "      <th>Sales_Agent</th>\n",
       "      <th>Location</th>\n",
       "      <th>Delivery_Mode</th>\n",
       "      <th>Status</th>\n",
       "    </tr>\n",
       "  </thead>\n",
       "  <tbody>\n",
       "    <tr>\n",
       "      <th>0</th>\n",
       "      <td>14112018 1005</td>\n",
       "      <td></td>\n",
       "      <td>Website</td>\n",
       "      <td>984XXXXXXX</td>\n",
       "      <td>aXXXXXXXgmailcom</td>\n",
       "      <td>SalesAgent11</td>\n",
       "      <td></td>\n",
       "      <td>Mode5</td>\n",
       "      <td>Open</td>\n",
       "    </tr>\n",
       "    <tr>\n",
       "      <th>1</th>\n",
       "      <td>14112018 0922</td>\n",
       "      <td></td>\n",
       "      <td>Website</td>\n",
       "      <td>XXXXXXX</td>\n",
       "      <td>VALUE!</td>\n",
       "      <td>SalesAgent10</td>\n",
       "      <td></td>\n",
       "      <td>Mode5</td>\n",
       "      <td>Open</td>\n",
       "    </tr>\n",
       "    <tr>\n",
       "      <th>2</th>\n",
       "      <td>14112018 0921</td>\n",
       "      <td></td>\n",
       "      <td>Website</td>\n",
       "      <td>XXXXXXX</td>\n",
       "      <td>dXXXXXXXyahoocom</td>\n",
       "      <td>SalesAgent10</td>\n",
       "      <td></td>\n",
       "      <td>Mode5</td>\n",
       "      <td>Open</td>\n",
       "    </tr>\n",
       "    <tr>\n",
       "      <th>3</th>\n",
       "      <td>14112018 0846</td>\n",
       "      <td></td>\n",
       "      <td>Website</td>\n",
       "      <td>XXXXXXX</td>\n",
       "      <td>wXXXXXXXgmailcom</td>\n",
       "      <td>SalesAgent10</td>\n",
       "      <td></td>\n",
       "      <td>Mode5</td>\n",
       "      <td>Open</td>\n",
       "    </tr>\n",
       "    <tr>\n",
       "      <th>4</th>\n",
       "      <td>14112018 0734</td>\n",
       "      <td></td>\n",
       "      <td>Website</td>\n",
       "      <td>XXXXXXX</td>\n",
       "      <td>cXXXXXXXgmailcom</td>\n",
       "      <td>SalesAgent10</td>\n",
       "      <td></td>\n",
       "      <td>Mode5</td>\n",
       "      <td>Open</td>\n",
       "    </tr>\n",
       "  </tbody>\n",
       "</table>\n",
       "</div>"
      ],
      "text/plain": [
       "         Created Product_ID   Source      Mobile             EMAIL  \\\n",
       "0  14112018 1005             Website  984XXXXXXX  aXXXXXXXgmailcom   \n",
       "1  14112018 0922             Website     XXXXXXX            VALUE!   \n",
       "2  14112018 0921             Website     XXXXXXX  dXXXXXXXyahoocom   \n",
       "3  14112018 0846             Website     XXXXXXX  wXXXXXXXgmailcom   \n",
       "4  14112018 0734             Website     XXXXXXX  cXXXXXXXgmailcom   \n",
       "\n",
       "    Sales_Agent Location Delivery_Mode Status  \n",
       "0  SalesAgent11                  Mode5   Open  \n",
       "1  SalesAgent10                  Mode5   Open  \n",
       "2  SalesAgent10                  Mode5   Open  \n",
       "3  SalesAgent10                  Mode5   Open  \n",
       "4  SalesAgent10                  Mode5   Open  "
      ]
     },
     "execution_count": 6,
     "metadata": {},
     "output_type": "execute_result"
    }
   ],
   "source": [
    "data.head()"
   ]
  },
  {
   "cell_type": "code",
   "execution_count": 7,
   "id": "0593d752",
   "metadata": {},
   "outputs": [
    {
     "data": {
      "text/html": [
       "<div>\n",
       "<style scoped>\n",
       "    .dataframe tbody tr th:only-of-type {\n",
       "        vertical-align: middle;\n",
       "    }\n",
       "\n",
       "    .dataframe tbody tr th {\n",
       "        vertical-align: top;\n",
       "    }\n",
       "\n",
       "    .dataframe thead th {\n",
       "        text-align: right;\n",
       "    }\n",
       "</style>\n",
       "<table border=\"1\" class=\"dataframe\">\n",
       "  <thead>\n",
       "    <tr style=\"text-align: right;\">\n",
       "      <th></th>\n",
       "      <th>Created</th>\n",
       "      <th>Product_ID</th>\n",
       "      <th>Source</th>\n",
       "      <th>Mobile</th>\n",
       "      <th>EMAIL</th>\n",
       "      <th>Sales_Agent</th>\n",
       "      <th>Location</th>\n",
       "      <th>Delivery_Mode</th>\n",
       "      <th>Status</th>\n",
       "    </tr>\n",
       "  </thead>\n",
       "  <tbody>\n",
       "    <tr>\n",
       "      <th>7417</th>\n",
       "      <td>28042018 0945</td>\n",
       "      <td>9</td>\n",
       "      <td>Call</td>\n",
       "      <td></td>\n",
       "      <td>aXXXXXXXgmailcom</td>\n",
       "      <td>SalesAgent6</td>\n",
       "      <td>Mumbai</td>\n",
       "      <td>Mode4</td>\n",
       "      <td>LOST</td>\n",
       "    </tr>\n",
       "    <tr>\n",
       "      <th>7418</th>\n",
       "      <td>28042018 0943</td>\n",
       "      <td>15</td>\n",
       "      <td>Call</td>\n",
       "      <td></td>\n",
       "      <td>VALUE!</td>\n",
       "      <td>SalesAgent12</td>\n",
       "      <td>Other Locations</td>\n",
       "      <td>Mode5</td>\n",
       "      <td>LOST</td>\n",
       "    </tr>\n",
       "    <tr>\n",
       "      <th>7419</th>\n",
       "      <td>28042018 0920</td>\n",
       "      <td>5</td>\n",
       "      <td>Live ChatDirect</td>\n",
       "      <td></td>\n",
       "      <td>sXXXXXXXgmailcom</td>\n",
       "      <td>SalesAgent11</td>\n",
       "      <td>Bangalore</td>\n",
       "      <td>Mode1</td>\n",
       "      <td>Not Responding</td>\n",
       "    </tr>\n",
       "    <tr>\n",
       "      <th>7420</th>\n",
       "      <td>28042018 0804</td>\n",
       "      <td>21</td>\n",
       "      <td>CRM form</td>\n",
       "      <td></td>\n",
       "      <td>YXXXXXXXgmailcom</td>\n",
       "      <td>SalesAgent4</td>\n",
       "      <td>Other Locations</td>\n",
       "      <td>Mode1</td>\n",
       "      <td>Just Enquiry</td>\n",
       "    </tr>\n",
       "    <tr>\n",
       "      <th>7421</th>\n",
       "      <td>28042018 0754</td>\n",
       "      <td>25</td>\n",
       "      <td>Website</td>\n",
       "      <td></td>\n",
       "      <td>cXXXXXXXgmailcom</td>\n",
       "      <td>SalesAgent3</td>\n",
       "      <td>Chennai</td>\n",
       "      <td>Mode1</td>\n",
       "      <td>CONVERTED</td>\n",
       "    </tr>\n",
       "  </tbody>\n",
       "</table>\n",
       "</div>"
      ],
      "text/plain": [
       "            Created Product_ID           Source Mobile             EMAIL  \\\n",
       "7417  28042018 0945          9             Call         aXXXXXXXgmailcom   \n",
       "7418  28042018 0943         15             Call                   VALUE!   \n",
       "7419  28042018 0920          5  Live ChatDirect         sXXXXXXXgmailcom   \n",
       "7420  28042018 0804         21         CRM form         YXXXXXXXgmailcom   \n",
       "7421  28042018 0754         25          Website         cXXXXXXXgmailcom   \n",
       "\n",
       "       Sales_Agent         Location Delivery_Mode          Status  \n",
       "7417   SalesAgent6           Mumbai         Mode4            LOST  \n",
       "7418  SalesAgent12  Other Locations         Mode5            LOST  \n",
       "7419  SalesAgent11        Bangalore         Mode1  Not Responding  \n",
       "7420   SalesAgent4  Other Locations         Mode1    Just Enquiry  \n",
       "7421   SalesAgent3          Chennai         Mode1       CONVERTED  "
      ]
     },
     "execution_count": 7,
     "metadata": {},
     "output_type": "execute_result"
    }
   ],
   "source": [
    "data.tail()"
   ]
  },
  {
   "cell_type": "code",
   "execution_count": 8,
   "id": "6bd369d2",
   "metadata": {},
   "outputs": [
    {
     "data": {
      "text/plain": [
       "(7422, 9)"
      ]
     },
     "execution_count": 8,
     "metadata": {},
     "output_type": "execute_result"
    }
   ],
   "source": [
    "data.shape"
   ]
  },
  {
   "cell_type": "markdown",
   "id": "88b7a4c9",
   "metadata": {},
   "source": [
    "* The dataset contain 7422 observation with 9 feature."
   ]
  },
  {
   "cell_type": "code",
   "execution_count": 9,
   "id": "4d422d9e",
   "metadata": {},
   "outputs": [
    {
     "data": {
      "text/plain": [
       "Index(['Created', 'Product_ID', 'Source', 'Mobile', 'EMAIL', 'Sales_Agent',\n",
       "       'Location', 'Delivery_Mode', 'Status'],\n",
       "      dtype='object')"
      ]
     },
     "execution_count": 9,
     "metadata": {},
     "output_type": "execute_result"
    }
   ],
   "source": [
    "data.columns"
   ]
  },
  {
   "cell_type": "markdown",
   "id": "ec61dfd0",
   "metadata": {},
   "source": [
    "* Total 9 feature is present in the dataset including target variable i.e Status"
   ]
  },
  {
   "cell_type": "code",
   "execution_count": 10,
   "id": "b8fcbe3f",
   "metadata": {},
   "outputs": [
    {
     "data": {
      "text/plain": [
       "Created          object\n",
       "Product_ID       object\n",
       "Source           object\n",
       "Mobile           object\n",
       "EMAIL            object\n",
       "Sales_Agent      object\n",
       "Location         object\n",
       "Delivery_Mode    object\n",
       "Status           object\n",
       "dtype: object"
      ]
     },
     "execution_count": 10,
     "metadata": {},
     "output_type": "execute_result"
    }
   ],
   "source": [
    "data.dtypes"
   ]
  },
  {
   "cell_type": "code",
   "execution_count": 11,
   "id": "246b2c82",
   "metadata": {},
   "outputs": [
    {
     "name": "stdout",
     "output_type": "stream",
     "text": [
      "<class 'pandas.core.frame.DataFrame'>\n",
      "RangeIndex: 7422 entries, 0 to 7421\n",
      "Data columns (total 9 columns):\n",
      " #   Column         Non-Null Count  Dtype \n",
      "---  ------         --------------  ----- \n",
      " 0   Created        7422 non-null   object\n",
      " 1   Product_ID     7422 non-null   object\n",
      " 2   Source         7422 non-null   object\n",
      " 3   Mobile         7422 non-null   object\n",
      " 4   EMAIL          7422 non-null   object\n",
      " 5   Sales_Agent    7422 non-null   object\n",
      " 6   Location       7422 non-null   object\n",
      " 7   Delivery_Mode  7422 non-null   object\n",
      " 8   Status         7422 non-null   object\n",
      "dtypes: object(9)\n",
      "memory usage: 522.0+ KB\n"
     ]
    }
   ],
   "source": [
    "data.info()"
   ]
  },
  {
   "cell_type": "markdown",
   "id": "dd42e8e3",
   "metadata": {},
   "source": [
    "### NUMERICAL FEATURES"
   ]
  },
  {
   "cell_type": "code",
   "execution_count": 12,
   "id": "02aa13ab",
   "metadata": {},
   "outputs": [
    {
     "data": {
      "text/plain": [
       "Index([], dtype='object')"
      ]
     },
     "execution_count": 12,
     "metadata": {},
     "output_type": "execute_result"
    }
   ],
   "source": [
    "num_data = data.select_dtypes(include=['int64','float64'])\n",
    "num_data.columns"
   ]
  },
  {
   "cell_type": "markdown",
   "id": "0e738418",
   "metadata": {},
   "source": [
    "- In this data there are no Numerical features available"
   ]
  },
  {
   "cell_type": "markdown",
   "id": "f822281a",
   "metadata": {},
   "source": [
    "### CATEGORICAL FEATURES"
   ]
  },
  {
   "cell_type": "code",
   "execution_count": 13,
   "id": "cb61d818",
   "metadata": {},
   "outputs": [
    {
     "data": {
      "text/plain": [
       "Index(['Created', 'Product_ID', 'Source', 'Mobile', 'EMAIL', 'Sales_Agent',\n",
       "       'Location', 'Delivery_Mode', 'Status'],\n",
       "      dtype='object')"
      ]
     },
     "execution_count": 13,
     "metadata": {},
     "output_type": "execute_result"
    }
   ],
   "source": [
    "cat_data=data.select_dtypes(include='O')\n",
    "cat_data.columns"
   ]
  },
  {
   "cell_type": "markdown",
   "id": "d44ec56f",
   "metadata": {},
   "source": [
    "### STATISTICAL MEASURES OF CATEGORICAL DATA"
   ]
  },
  {
   "cell_type": "code",
   "execution_count": 14,
   "id": "2c0a3c6f",
   "metadata": {},
   "outputs": [
    {
     "data": {
      "text/html": [
       "<div>\n",
       "<style scoped>\n",
       "    .dataframe tbody tr th:only-of-type {\n",
       "        vertical-align: middle;\n",
       "    }\n",
       "\n",
       "    .dataframe tbody tr th {\n",
       "        vertical-align: top;\n",
       "    }\n",
       "\n",
       "    .dataframe thead th {\n",
       "        text-align: right;\n",
       "    }\n",
       "</style>\n",
       "<table border=\"1\" class=\"dataframe\">\n",
       "  <thead>\n",
       "    <tr style=\"text-align: right;\">\n",
       "      <th></th>\n",
       "      <th>Created</th>\n",
       "      <th>Product_ID</th>\n",
       "      <th>Source</th>\n",
       "      <th>Mobile</th>\n",
       "      <th>EMAIL</th>\n",
       "      <th>Sales_Agent</th>\n",
       "      <th>Location</th>\n",
       "      <th>Delivery_Mode</th>\n",
       "      <th>Status</th>\n",
       "    </tr>\n",
       "  </thead>\n",
       "  <tbody>\n",
       "    <tr>\n",
       "      <th>count</th>\n",
       "      <td>7422</td>\n",
       "      <td>7422</td>\n",
       "      <td>7422</td>\n",
       "      <td>7422</td>\n",
       "      <td>7422</td>\n",
       "      <td>7422</td>\n",
       "      <td>7422</td>\n",
       "      <td>7422</td>\n",
       "      <td>7422</td>\n",
       "    </tr>\n",
       "    <tr>\n",
       "      <th>unique</th>\n",
       "      <td>6752</td>\n",
       "      <td>30</td>\n",
       "      <td>26</td>\n",
       "      <td>479</td>\n",
       "      <td>882</td>\n",
       "      <td>13</td>\n",
       "      <td>18</td>\n",
       "      <td>5</td>\n",
       "      <td>11</td>\n",
       "    </tr>\n",
       "    <tr>\n",
       "      <th>top</th>\n",
       "      <td>26092018 1130</td>\n",
       "      <td>18</td>\n",
       "      <td>Call</td>\n",
       "      <td></td>\n",
       "      <td>VALUE!</td>\n",
       "      <td>SalesAgent4</td>\n",
       "      <td>Other Locations</td>\n",
       "      <td>Mode5</td>\n",
       "      <td>Junk Lead</td>\n",
       "    </tr>\n",
       "    <tr>\n",
       "      <th>freq</th>\n",
       "      <td>4</td>\n",
       "      <td>1711</td>\n",
       "      <td>2547</td>\n",
       "      <td>1810</td>\n",
       "      <td>1701</td>\n",
       "      <td>1500</td>\n",
       "      <td>2500</td>\n",
       "      <td>2975</td>\n",
       "      <td>1536</td>\n",
       "    </tr>\n",
       "  </tbody>\n",
       "</table>\n",
       "</div>"
      ],
      "text/plain": [
       "              Created Product_ID Source Mobile   EMAIL  Sales_Agent  \\\n",
       "count            7422       7422   7422   7422    7422         7422   \n",
       "unique           6752         30     26    479     882           13   \n",
       "top     26092018 1130         18   Call         VALUE!  SalesAgent4   \n",
       "freq                4       1711   2547   1810    1701         1500   \n",
       "\n",
       "               Location Delivery_Mode     Status  \n",
       "count              7422          7422       7422  \n",
       "unique               18             5         11  \n",
       "top     Other Locations         Mode5  Junk Lead  \n",
       "freq               2500          2975       1536  "
      ]
     },
     "execution_count": 14,
     "metadata": {},
     "output_type": "execute_result"
    }
   ],
   "source": [
    "data.describe()"
   ]
  },
  {
   "cell_type": "markdown",
   "id": "886100a3",
   "metadata": {},
   "source": [
    "#### OBSERVATION"
   ]
  },
  {
   "cell_type": "markdown",
   "id": "46a4805b",
   "metadata": {},
   "source": [
    "**The most common entries in each column:**\n",
    "- **Product_ID:-** '26092018 1130' appeared 4 times.\n",
    "- **Source:-** '18' had the highest frequency with 1711 occurrences.\n",
    "- **Mobile and EMAIL:-** Some numbers appeared 1810 and 1701 times respectively.\n",
    "- **Sales_Agent:-** 'SalesAgent4' was involved in 1500 leads.\n",
    "- **Location:-** 'Other Locations' were frequent, totaling 2500.\n",
    "- **Delivery_Mode:-** 'Mode5' was prevalent with 2975 entries.\n",
    "- **Status:-** 'Junk Lead' occurred 1536 times.\n",
    "\n",
    "**Unique Values:**\n",
    "- **Product_ID:-** Among 7422 entries, there are 6752 unique Product IDs.\n",
    "- **Source:-** 30 unique sources were responsible for leads.\n",
    "- **Mobile and EMAIL:-** Numerous unique mobile and email entries, 479 and 882 respectively.\n",
    "- **Sales_Agent:-** 13 distinct sales agents handled the leads.\n",
    "- **Location and Delivery_Mode:-** 18 different locations and 5 modes of delivery.\n",
    "- **Status:-** 11 unique statuses, with 'Junk Lead' being the most frequent."
   ]
  },
  {
   "cell_type": "markdown",
   "id": "fdd4f99c",
   "metadata": {},
   "source": [
    "## EXPLORATORY DATA  ANALYSIS "
   ]
  },
  {
   "cell_type": "markdown",
   "id": "b21eca93",
   "metadata": {},
   "source": [
    "### 1. UNIVARIATE DATA ANALYSIS"
   ]
  },
  {
   "cell_type": "markdown",
   "id": "c09e4e3d",
   "metadata": {},
   "source": [
    "#### 1. PRODUCT_ID"
   ]
  },
  {
   "cell_type": "code",
   "execution_count": 15,
   "id": "af0b897d",
   "metadata": {},
   "outputs": [
    {
     "data": {
      "image/png": "[encoded data removed]",
      "text/plain": [
       "<Figure size 1200x500 with 1 Axes>"
      ]
     },
     "metadata": {},
     "output_type": "display_data"
    }
   ],
   "source": [
    "plt.figure(figsize=(12, 5))\n",
    "product_id_counts = data['Product_ID'].value_counts()\n",
    "sns.countplot(data.Product_ID)\n",
    "plt.xlabel('Product ID', fontsize=15)\n",
    "plt.ylabel('Count', fontsize=15)\n",
    "plt.title('Count of Each Product ID', fontsize=18)\n",
    "plt.show()"
   ]
  },
  {
   "cell_type": "markdown",
   "id": "4b0a2c9f",
   "metadata": {},
   "source": [
    "#### OBSERVATION/INSIGHTS:-\n",
    "\n",
    "- In the sales dataset, product IDs 9, 19, 18, 15, 27, and 5 have recorded the highest sales volumes, while the remaining product IDs have lower sales figures by comparison."
   ]
  },
  {
   "cell_type": "markdown",
   "id": "fe704bc6",
   "metadata": {},
   "source": [
    "#### 2. SOURCE"
   ]
  },
  {
   "cell_type": "code",
   "execution_count": 16,
   "id": "d65802e5",
   "metadata": {},
   "outputs": [
    {
     "data": {
      "image/png": "[encoded data removed]",
      "text/plain": [
       "<Figure size 1200x500 with 1 Axes>"
      ]
     },
     "metadata": {},
     "output_type": "display_data"
    }
   ],
   "source": [
    "plt.figure(figsize=(12, 5))\n",
    "sns.countplot(data.Source)\n",
    "plt.xlabel('Source', fontsize=15)\n",
    "plt.ylabel('Count', fontsize=15)\n",
    "plt.title('Count of Each Source', fontsize=18)\n",
    "plt.xticks(rotation=90)\n",
    "plt.show()"
   ]
  },
  {
   "cell_type": "markdown",
   "id": "083c732b",
   "metadata": {},
   "source": [
    "#### OBSERVATION/INSIGHTS:-\n",
    "\n",
    "- The sales dataset trends where the sources—website, call, live chat direct exhibit significantly higher sales figures compared to the remaining sources which register specifically lower sales "
   ]
  },
  {
   "cell_type": "markdown",
   "id": "43171925",
   "metadata": {},
   "source": [
    "#### 3. SALES_AGENT"
   ]
  },
  {
   "cell_type": "code",
   "execution_count": 17,
   "id": "191de75e",
   "metadata": {},
   "outputs": [
    {
     "data": {
      "image/png": "[encoded data removed]",
      "text/plain": [
       "<Figure size 1200x500 with 1 Axes>"
      ]
     },
     "metadata": {},
     "output_type": "display_data"
    }
   ],
   "source": [
    "plt.figure(figsize=(12, 5))\n",
    "sns.countplot(data.Sales_Agent)\n",
    "plt.xlabel('Sales_Agent', fontsize=15)\n",
    "plt.ylabel('Count', fontsize=15)\n",
    "plt.title('Count of Each Sales_Agent', fontsize=18)\n",
    "plt.xticks(rotation=90)\n",
    "plt.show()"
   ]
  },
  {
   "cell_type": "markdown",
   "id": "1aac5473",
   "metadata": {},
   "source": [
    "#### OBSERVATION/INSIGHTS:-\n",
    "\n",
    "- In the provided sales dataset the sales agents identified as sales_agent11, sales_agent3, sales_agent4, sales_agent9, sales_agent7, and sales_agent5 stand out for determine specifically high sales performance as compared to other sales agents."
   ]
  },
  {
   "cell_type": "markdown",
   "id": "6a01bda6",
   "metadata": {},
   "source": [
    "#### 4. LOCATION"
   ]
  },
  {
   "cell_type": "code",
   "execution_count": 18,
   "id": "de630797",
   "metadata": {},
   "outputs": [
    {
     "data": {
      "image/png": "[encoded data removed]",
      "text/plain": [
       "<Figure size 1200x500 with 1 Axes>"
      ]
     },
     "metadata": {},
     "output_type": "display_data"
    }
   ],
   "source": [
    "plt.figure(figsize=(12, 5))\n",
    "sns.countplot(data.Location)\n",
    "plt.xlabel('Location', fontsize=15)\n",
    "plt.ylabel('Count', fontsize=15)\n",
    "plt.title('Count of Each Location', fontsize=18)\n",
    "plt.xticks(rotation=90)\n",
    "plt.show()"
   ]
  },
  {
   "cell_type": "markdown",
   "id": "39e68f86",
   "metadata": {},
   "source": [
    "#### OBSERVATION/INSIGHTS:-\n",
    "\n",
    "- In the sales dataset the sales distribution along with locations shows that Bangalore and other unspecified locations collectively exhibit higher sales compared to Hyderabad, Chennai, Delhi, and Mumbai.\n",
    "- Hyderabad, Chennai, Delhi, and Mumbai indeed exhibit considerable sales figures.when directly compared to locations with very high sales, such as Bangalore and other unspecified locations.\n",
    "-  Additionally the remaining locations outside of these major cities indicate considerably lower sales in the dataset."
   ]
  },
  {
   "cell_type": "markdown",
   "id": "82ecf8aa",
   "metadata": {},
   "source": [
    "#### 5. DELIVERY_MODE"
   ]
  },
  {
   "cell_type": "code",
   "execution_count": 19,
   "id": "71fc237d",
   "metadata": {},
   "outputs": [
    {
     "data": {
      "image/png": "[encoded data removed]",
      "text/plain": [
       "<Figure size 1200x500 with 1 Axes>"
      ]
     },
     "metadata": {},
     "output_type": "display_data"
    }
   ],
   "source": [
    "plt.figure(figsize=(12, 5))\n",
    "sns.countplot(data.Delivery_Mode)\n",
    "plt.xlabel('Delivery_Mode', fontsize=15)\n",
    "plt.ylabel('Count', fontsize=15)\n",
    "plt.title('Count of Each Delivary_Mode', fontsize=18)\n",
    "plt.xticks(rotation=90)\n",
    "plt.show()"
   ]
  },
  {
   "cell_type": "markdown",
   "id": "8c4f9b44",
   "metadata": {},
   "source": [
    "#### OBSERVATION/INSIGHTS:-\n",
    "\n",
    "- In the sales dataset the sales associated with delivery modes specifically mode5, mode1, and mode3, stand out for determine higher sales figures in comparison to mode2 and mode4. "
   ]
  },
  {
   "cell_type": "markdown",
   "id": "1cd7de00",
   "metadata": {},
   "source": [
    "#### 6. STATUS"
   ]
  },
  {
   "cell_type": "code",
   "execution_count": 20,
   "id": "b81a730b",
   "metadata": {},
   "outputs": [
    {
     "data": {
      "image/png": "[encoded data removed]",
      "text/plain": [
       "<Figure size 1200x500 with 1 Axes>"
      ]
     },
     "metadata": {},
     "output_type": "display_data"
    }
   ],
   "source": [
    "plt.figure(figsize=(12, 5))\n",
    "sns.countplot(data.Status)\n",
    "plt.xlabel('Status', fontsize=15)\n",
    "plt.ylabel('Count', fontsize=15)\n",
    "plt.title('Count of Each Status', fontsize=18)\n",
    "plt.xticks(rotation=90)\n",
    "plt.show()"
   ]
  },
  {
   "cell_type": "markdown",
   "id": "5cd0613b",
   "metadata": {},
   "source": [
    "#### OBSERVATION/INSIGHTS:-\n",
    "\n",
    "- In the sales dataset, the status labeled as \"junk lead\" appears to have the highest sales figures. \n",
    "- Additionally, statuses such as potential, in progress positive, not responding, just enquiry, CONVERTED, in progress negative, and long term also high considerable sales compared to statuses such as open and converted. "
   ]
  },
  {
   "cell_type": "markdown",
   "id": "cad988c1",
   "metadata": {},
   "source": [
    "**Note:-** Due to the absence of numerical features and also lots of categories are present in categorical feature, bivariate and multivariate analysis are not feasible."
   ]
  },
  {
   "cell_type": "markdown",
   "id": "77fee7e1",
   "metadata": {},
   "source": [
    "## DATA PREPROCESSING"
   ]
  },
  {
   "cell_type": "markdown",
   "id": "913aec6a",
   "metadata": {},
   "source": [
    "### 1. HANDLE MISSING VALUES"
   ]
  },
  {
   "cell_type": "code",
   "execution_count": 21,
   "id": "ee1d56d6",
   "metadata": {},
   "outputs": [
    {
     "data": {
      "text/html": [
       "<div>\n",
       "<style scoped>\n",
       "    .dataframe tbody tr th:only-of-type {\n",
       "        vertical-align: middle;\n",
       "    }\n",
       "\n",
       "    .dataframe tbody tr th {\n",
       "        vertical-align: top;\n",
       "    }\n",
       "\n",
       "    .dataframe thead th {\n",
       "        text-align: right;\n",
       "    }\n",
       "</style>\n",
       "<table border=\"1\" class=\"dataframe\">\n",
       "  <thead>\n",
       "    <tr style=\"text-align: right;\">\n",
       "      <th></th>\n",
       "      <th>Created</th>\n",
       "      <th>Product_ID</th>\n",
       "      <th>Source</th>\n",
       "      <th>Mobile</th>\n",
       "      <th>EMAIL</th>\n",
       "      <th>Sales_Agent</th>\n",
       "      <th>Location</th>\n",
       "      <th>Delivery_Mode</th>\n",
       "      <th>Status</th>\n",
       "    </tr>\n",
       "  </thead>\n",
       "  <tbody>\n",
       "    <tr>\n",
       "      <th>0</th>\n",
       "      <td>14112018 1005</td>\n",
       "      <td>NaN</td>\n",
       "      <td>Website</td>\n",
       "      <td>984XXXXXXX</td>\n",
       "      <td>aXXXXXXXgmailcom</td>\n",
       "      <td>SalesAgent11</td>\n",
       "      <td>NaN</td>\n",
       "      <td>Mode5</td>\n",
       "      <td>Open</td>\n",
       "    </tr>\n",
       "    <tr>\n",
       "      <th>1</th>\n",
       "      <td>14112018 0922</td>\n",
       "      <td>NaN</td>\n",
       "      <td>Website</td>\n",
       "      <td>XXXXXXX</td>\n",
       "      <td>VALUE!</td>\n",
       "      <td>SalesAgent10</td>\n",
       "      <td>NaN</td>\n",
       "      <td>Mode5</td>\n",
       "      <td>Open</td>\n",
       "    </tr>\n",
       "    <tr>\n",
       "      <th>2</th>\n",
       "      <td>14112018 0921</td>\n",
       "      <td>NaN</td>\n",
       "      <td>Website</td>\n",
       "      <td>XXXXXXX</td>\n",
       "      <td>dXXXXXXXyahoocom</td>\n",
       "      <td>SalesAgent10</td>\n",
       "      <td>NaN</td>\n",
       "      <td>Mode5</td>\n",
       "      <td>Open</td>\n",
       "    </tr>\n",
       "    <tr>\n",
       "      <th>3</th>\n",
       "      <td>14112018 0846</td>\n",
       "      <td>NaN</td>\n",
       "      <td>Website</td>\n",
       "      <td>XXXXXXX</td>\n",
       "      <td>wXXXXXXXgmailcom</td>\n",
       "      <td>SalesAgent10</td>\n",
       "      <td>NaN</td>\n",
       "      <td>Mode5</td>\n",
       "      <td>Open</td>\n",
       "    </tr>\n",
       "    <tr>\n",
       "      <th>4</th>\n",
       "      <td>14112018 0734</td>\n",
       "      <td>NaN</td>\n",
       "      <td>Website</td>\n",
       "      <td>XXXXXXX</td>\n",
       "      <td>cXXXXXXXgmailcom</td>\n",
       "      <td>SalesAgent10</td>\n",
       "      <td>NaN</td>\n",
       "      <td>Mode5</td>\n",
       "      <td>Open</td>\n",
       "    </tr>\n",
       "  </tbody>\n",
       "</table>\n",
       "</div>"
      ],
      "text/plain": [
       "         Created Product_ID   Source      Mobile             EMAIL  \\\n",
       "0  14112018 1005        NaN  Website  984XXXXXXX  aXXXXXXXgmailcom   \n",
       "1  14112018 0922        NaN  Website     XXXXXXX            VALUE!   \n",
       "2  14112018 0921        NaN  Website     XXXXXXX  dXXXXXXXyahoocom   \n",
       "3  14112018 0846        NaN  Website     XXXXXXX  wXXXXXXXgmailcom   \n",
       "4  14112018 0734        NaN  Website     XXXXXXX  cXXXXXXXgmailcom   \n",
       "\n",
       "    Sales_Agent Location Delivery_Mode Status  \n",
       "0  SalesAgent11      NaN         Mode5   Open  \n",
       "1  SalesAgent10      NaN         Mode5   Open  \n",
       "2  SalesAgent10      NaN         Mode5   Open  \n",
       "3  SalesAgent10      NaN         Mode5   Open  \n",
       "4  SalesAgent10      NaN         Mode5   Open  "
      ]
     },
     "execution_count": 21,
     "metadata": {},
     "output_type": "execute_result"
    }
   ],
   "source": [
    "# Replace blank spaces to nan \n",
    "data.replace('',np.nan,inplace=True)\n",
    "data.head()"
   ]
  },
  {
   "cell_type": "code",
   "execution_count": 22,
   "id": "85072023",
   "metadata": {
    "scrolled": false
   },
   "outputs": [
    {
     "data": {
      "text/plain": [
       "Created             0\n",
       "Product_ID         58\n",
       "Source             17\n",
       "Mobile           1810\n",
       "EMAIL               0\n",
       "Sales_Agent        23\n",
       "Location           58\n",
       "Delivery_Mode       0\n",
       "Status              0\n",
       "dtype: int64"
      ]
     },
     "execution_count": 22,
     "metadata": {},
     "output_type": "execute_result"
    }
   ],
   "source": [
    "data.isnull().sum()"
   ]
  },
  {
   "cell_type": "markdown",
   "id": "9cd097ef",
   "metadata": {},
   "source": [
    "* Product-ID, Source, Mobile, Sales_Agent, Location have missing values present in these features."
   ]
  },
  {
   "cell_type": "markdown",
   "id": "70c23bc5",
   "metadata": {},
   "source": [
    "#### 1. PRODUCT-ID"
   ]
  },
  {
   "cell_type": "code",
   "execution_count": 23,
   "id": "8658c623",
   "metadata": {},
   "outputs": [
    {
     "data": {
      "text/plain": [
       "0    18\n",
       "Name: Product_ID, dtype: object"
      ]
     },
     "execution_count": 23,
     "metadata": {},
     "output_type": "execute_result"
    }
   ],
   "source": [
    "data[\"Product_ID\"].mode()"
   ]
  },
  {
   "cell_type": "code",
   "execution_count": 24,
   "id": "f3f34600",
   "metadata": {},
   "outputs": [],
   "source": [
    "data.loc[data[\"Product_ID\"].isnull()==True,\"Product_ID\"] = 18"
   ]
  },
  {
   "cell_type": "markdown",
   "id": "ebf3ce24",
   "metadata": {},
   "source": [
    "#### 2. SOURCE"
   ]
  },
  {
   "cell_type": "code",
   "execution_count": 25,
   "id": "4c44474d",
   "metadata": {},
   "outputs": [
    {
     "data": {
      "text/plain": [
       "0    Call\n",
       "Name: Source, dtype: object"
      ]
     },
     "execution_count": 25,
     "metadata": {},
     "output_type": "execute_result"
    }
   ],
   "source": [
    "data[\"Source\"].mode()"
   ]
  },
  {
   "cell_type": "code",
   "execution_count": 26,
   "id": "bde78395",
   "metadata": {},
   "outputs": [],
   "source": [
    "data.loc[data[\"Source\"].isnull()==True,\"Source\"] = 'Call'"
   ]
  },
  {
   "cell_type": "markdown",
   "id": "d910bf13",
   "metadata": {},
   "source": [
    "#### 3. SALES_AGENT"
   ]
  },
  {
   "cell_type": "code",
   "execution_count": 27,
   "id": "089b5fb6",
   "metadata": {},
   "outputs": [
    {
     "data": {
      "text/plain": [
       "0    SalesAgent4\n",
       "Name: Sales_Agent, dtype: object"
      ]
     },
     "execution_count": 27,
     "metadata": {},
     "output_type": "execute_result"
    }
   ],
   "source": [
    "data[\"Sales_Agent\"].mode()"
   ]
  },
  {
   "cell_type": "code",
   "execution_count": 28,
   "id": "4f402fd5",
   "metadata": {},
   "outputs": [],
   "source": [
    "data.loc[data[\"Sales_Agent\"].isnull()==True,\"Sales_Agent\"] = 'SalesAgent4'"
   ]
  },
  {
   "cell_type": "markdown",
   "id": "1a8fc129",
   "metadata": {},
   "source": [
    "#### 4. LOCATION"
   ]
  },
  {
   "cell_type": "code",
   "execution_count": 29,
   "id": "0f032133",
   "metadata": {},
   "outputs": [
    {
     "data": {
      "text/plain": [
       "0    Other Locations\n",
       "Name: Location, dtype: object"
      ]
     },
     "execution_count": 29,
     "metadata": {},
     "output_type": "execute_result"
    }
   ],
   "source": [
    "data[\"Location\"].mode()"
   ]
  },
  {
   "cell_type": "code",
   "execution_count": 30,
   "id": "5c1790ad",
   "metadata": {},
   "outputs": [],
   "source": [
    "data.loc[data[\"Location\"].isnull()==True,\"Location\"]= 'Other Locations'"
   ]
  },
  {
   "cell_type": "code",
   "execution_count": 31,
   "id": "3f64e3a1",
   "metadata": {},
   "outputs": [
    {
     "data": {
      "text/plain": [
       "Created             0\n",
       "Product_ID          0\n",
       "Source              0\n",
       "Mobile           1810\n",
       "EMAIL               0\n",
       "Sales_Agent         0\n",
       "Location            0\n",
       "Delivery_Mode       0\n",
       "Status              0\n",
       "dtype: int64"
      ]
     },
     "execution_count": 31,
     "metadata": {},
     "output_type": "execute_result"
    }
   ],
   "source": [
    "data.isnull().sum()"
   ]
  },
  {
   "cell_type": "markdown",
   "id": "daa38708",
   "metadata": {},
   "source": [
    "### 2. FEATURES IS CONTAIN LOTS OF DIFFERENT LABEL SO WE COMPRESSES AND MERGED THE LABEL\n",
    "\n",
    "#### 1. PRODUCT_ID"
   ]
  },
  {
   "cell_type": "code",
   "execution_count": 32,
   "id": "61c675f3",
   "metadata": {},
   "outputs": [
    {
     "data": {
      "image/png": "[encoded data removed]",
      "text/plain": [
       "<Figure size 700x300 with 1 Axes>"
      ]
     },
     "metadata": {},
     "output_type": "display_data"
    }
   ],
   "source": [
    "plt.figure(figsize=(7,3))\n",
    "sns.countplot(data.Product_ID)\n",
    "plt.xlabel('PRODUCT ID',fontsize=10)\n",
    "plt.show()"
   ]
  },
  {
   "cell_type": "markdown",
   "id": "849f7ed5",
   "metadata": {},
   "source": [
    "- In this feature 13 product id has been sold minimum so we can replace into minimum sold product"
   ]
  },
  {
   "cell_type": "code",
   "execution_count": 33,
   "id": "77aeb7fe",
   "metadata": {},
   "outputs": [],
   "source": [
    "Minimum_sold_product = ['11','22','3','17','6','8','13','24','16','23','0','28','7','4']\n",
    "data.loc[data['Product_ID'].isin(Minimum_sold_product), 'Product_ID'] = 'minimum sold'"
   ]
  },
  {
   "cell_type": "markdown",
   "id": "65f506da",
   "metadata": {},
   "source": [
    "#### 2. SOURCE"
   ]
  },
  {
   "cell_type": "markdown",
   "id": "b3712d19",
   "metadata": {},
   "source": [
    "- In the 'Source' feature which contains 25 distinct categories I've grouped them based on similarities into broader categories such as **'Live Chat', 'New Client', 'Social', 'Recommendation', and 'Campaign'.**\n",
    "\n",
    "**1. Live_Chat**"
   ]
  },
  {
   "cell_type": "code",
   "execution_count": 34,
   "id": "ff0d9dca",
   "metadata": {},
   "outputs": [],
   "source": [
    "# Replace multiple categories with 'live chat' using the mapping dictionary\n",
    "replace_to_LiveChat = {\n",
    "    'Live ChatDirect': 'live chat',\n",
    "    'Live ChatGoogle Organic': 'live chat',\n",
    "    'Live Chat PPC': 'live chat',\n",
    "    'Live ChatBlog': 'live chat',\n",
    "    'Live ChatCPC': 'live chat',\n",
    "    'Live ChatGoogle Ads': 'live chat',\n",
    "    'Live ChatAdwords Remarketing': 'live chat',\n",
    "    'Live ChatQuora': 'live chat',\n",
    "    'Live ChatYoutube': 'live chat',\n",
    "    'Live ChatJustdial': 'live chat'\n",
    "}\n",
    "data['Source'].replace(replace_to_LiveChat, inplace=True)"
   ]
  },
  {
   "cell_type": "markdown",
   "id": "17a5ae6c",
   "metadata": {},
   "source": [
    "**2. New_Client**"
   ]
  },
  {
   "cell_type": "code",
   "execution_count": 35,
   "id": "a9b5d2b8",
   "metadata": {},
   "outputs": [],
   "source": [
    "# List of categories to be replaced with 'new client'\n",
    "replace_to_NewClient = ['Existing Client', 'Personal Contact', 'CRM form', 'Existing Customer']\n",
    "data['Source'] = data['Source'].apply(lambda x: 'new client' if x in replace_to_NewClient else x)"
   ]
  },
  {
   "cell_type": "markdown",
   "id": "af4a9e6e",
   "metadata": {},
   "source": [
    "**3. Social**"
   ]
  },
  {
   "cell_type": "code",
   "execution_count": 36,
   "id": "12b6f7d1",
   "metadata": {},
   "outputs": [],
   "source": [
    "# Define a dictionary to map categories to 'social'\n",
    "replacement_dict = {'US Website': 'social', 'Just Dial': 'social'}\n",
    "\n",
    "# Map the categories to their replacements using the dictionary and fill the rest with the original values\n",
    "data['Source'] = data['Source'].map(replacement_dict).fillna(data['Source'])"
   ]
  },
  {
   "cell_type": "markdown",
   "id": "e3599cbd",
   "metadata": {},
   "source": [
    "**4. Recommendation**"
   ]
  },
  {
   "cell_type": "code",
   "execution_count": 37,
   "id": "9df68e62",
   "metadata": {},
   "outputs": [],
   "source": [
    "# Define a dictionary to map categories to 'recommendation'\n",
    "replacement_dict = {'Customer Referral': 'recommendation', 'By Recommendation': 'recommendation'}\n",
    "\n",
    "# Replace the categories with 'recommendation' using the dictionary\n",
    "data['Source'].replace(replacement_dict, inplace=True)"
   ]
  },
  {
   "cell_type": "markdown",
   "id": "d2f672a4",
   "metadata": {},
   "source": [
    "**5. Campaign**"
   ]
  },
  {
   "cell_type": "code",
   "execution_count": 38,
   "id": "8b107cbb",
   "metadata": {},
   "outputs": [],
   "source": [
    "# List of categories to be replaced with 'campaign'\n",
    "categories_to_replace = ['Campaign', 'Email Campaign', 'SMS Campaign', 'EMail Message']\n",
    "\n",
    "# Use a lambda function to replace values based on the list\n",
    "data['Source'] = data['Source'].map(lambda x: 'campaign' if x in categories_to_replace else x)"
   ]
  },
  {
   "cell_type": "code",
   "execution_count": 39,
   "id": "a9c0fe74",
   "metadata": {},
   "outputs": [
    {
     "data": {
      "text/plain": [
       "live chat         2677\n",
       "Call              2564\n",
       "Website           1594\n",
       "recommendation     212\n",
       "social             193\n",
       "new client         146\n",
       "campaign            34\n",
       "Other                2\n",
       "Name: Source, dtype: int64"
      ]
     },
     "execution_count": 39,
     "metadata": {},
     "output_type": "execute_result"
    }
   ],
   "source": [
    "data.Source.value_counts()"
   ]
  },
  {
   "cell_type": "markdown",
   "id": "09a750f1",
   "metadata": {},
   "source": [
    "#### 3. LOCATION\n",
    "\n",
    "**1. Other_Location**"
   ]
  },
  {
   "cell_type": "code",
   "execution_count": 40,
   "id": "f25844dc",
   "metadata": {},
   "outputs": [],
   "source": [
    "data.Location.replace(['Trivandrum','Kolkata','Howrah'],'Other Locations',inplace=True)"
   ]
  },
  {
   "cell_type": "markdown",
   "id": "4e6e384e",
   "metadata": {},
   "source": [
    "**2. Asia**"
   ]
  },
  {
   "cell_type": "code",
   "execution_count": 41,
   "id": "bc2ec1b8",
   "metadata": {},
   "outputs": [],
   "source": [
    "data.Location.replace(['UAE','Malaysia','Singapore'],'asia',inplace=True)"
   ]
  },
  {
   "cell_type": "markdown",
   "id": "5054ebfa",
   "metadata": {},
   "source": [
    "**3. West_Country**"
   ]
  },
  {
   "cell_type": "code",
   "execution_count": 42,
   "id": "4d48f2a0",
   "metadata": {},
   "outputs": [],
   "source": [
    "data.Location.replace(['USA','UK','AUSTRALIA','EUROPE'],'west country',inplace=True)"
   ]
  },
  {
   "cell_type": "code",
   "execution_count": 43,
   "id": "22f927f7",
   "metadata": {},
   "outputs": [
    {
     "data": {
      "text/plain": [
       "Other Locations    2672\n",
       "Bangalore          2084\n",
       "Chennai             909\n",
       "Hyderabad           528\n",
       "Delhi               471\n",
       "Mumbai              402\n",
       "Pune                142\n",
       "west country        114\n",
       "asia                100\n",
       "Name: Location, dtype: int64"
      ]
     },
     "execution_count": 43,
     "metadata": {},
     "output_type": "execute_result"
    }
   ],
   "source": [
    "data.Location.value_counts()"
   ]
  },
  {
   "cell_type": "markdown",
   "id": "79a12457",
   "metadata": {},
   "source": [
    "#### 4. STATUS\n",
    "\n",
    "**1. Low_Potential**"
   ]
  },
  {
   "cell_type": "code",
   "execution_count": 44,
   "id": "5b4609a8",
   "metadata": {},
   "outputs": [],
   "source": [
    "data.Status.replace(['Junk Lead','Not Responding','In Progress Negative','Just Enquiry','LOST'],'low potential',inplace=True)"
   ]
  },
  {
   "cell_type": "markdown",
   "id": "4f843f6d",
   "metadata": {},
   "source": [
    "**2. High_Potential**"
   ]
  },
  {
   "cell_type": "code",
   "execution_count": 45,
   "id": "d52b44c4",
   "metadata": {},
   "outputs": [],
   "source": [
    "data.Status.replace(['CONVERTED','Potential','Long Term','In Progress Positive','Open','converted'],'high potential',inplace=True)"
   ]
  },
  {
   "cell_type": "code",
   "execution_count": 46,
   "id": "05f1b7cb",
   "metadata": {},
   "outputs": [
    {
     "data": {
      "text/plain": [
       "low potential     4491\n",
       "high potential    2931\n",
       "Name: Status, dtype: int64"
      ]
     },
     "execution_count": 46,
     "metadata": {},
     "output_type": "execute_result"
    }
   ],
   "source": [
    "data.Status.value_counts()"
   ]
  },
  {
   "cell_type": "markdown",
   "id": "f041e3ac",
   "metadata": {},
   "source": [
    "## 3.HANDLE CATEGORICAL DATA "
   ]
  },
  {
   "cell_type": "markdown",
   "id": "eab37840",
   "metadata": {},
   "source": [
    "**1. PRODUCT_ID**"
   ]
  },
  {
   "cell_type": "code",
   "execution_count": 47,
   "id": "1e0a8205",
   "metadata": {},
   "outputs": [],
   "source": [
    "data.loc[data['Product_ID']=='minimum sold','Product_ID']=0"
   ]
  },
  {
   "cell_type": "markdown",
   "id": "a115d70e",
   "metadata": {},
   "source": [
    "**2. SOURCE**"
   ]
  },
  {
   "cell_type": "code",
   "execution_count": 48,
   "id": "567bea51",
   "metadata": {},
   "outputs": [],
   "source": [
    "data.loc[data['Source']=='live chat','Source']=7\n",
    "data.loc[data['Source']=='Call','Source']=6\n",
    "data.loc[data['Source']=='Website','Source']=5\n",
    "data.loc[data['Source']=='recommendation','Source']=4\n",
    "data.loc[data['Source']=='social','Source']=3\n",
    "data.loc[data['Source']=='new client','Source']=2\n",
    "data.loc[data['Source']=='campaign','Source']=1\n",
    "data.loc[data['Source']=='Other','Source']=0"
   ]
  },
  {
   "cell_type": "markdown",
   "id": "d4364d6a",
   "metadata": {},
   "source": [
    "**3. SALSE_AGENT**"
   ]
  },
  {
   "cell_type": "code",
   "execution_count": 49,
   "id": "53ba3758",
   "metadata": {},
   "outputs": [],
   "source": [
    "data.loc[data['Sales_Agent']=='SalesAgent4','Sales_Agent']=11\n",
    "data.loc[data['Sales_Agent']=='SalesAgent11','Sales_Agent']=10\n",
    "data.loc[data['Sales_Agent']=='SalesAgent5','Sales_Agent']=9\n",
    "data.loc[data['Sales_Agent']=='SalesAgent9','Sales_Agent']=8\n",
    "data.loc[data['Sales_Agent']=='SalesAgent3','Sales_Agent']=7\n",
    "data.loc[data['Sales_Agent']=='SalesAgent7','Sales_Agent']=6\n",
    "data.loc[data['Sales_Agent']=='SalesAgent2','Sales_Agent']=5\n",
    "data.loc[data['Sales_Agent']=='SalesAgent12','Sales_Agent']=4\n",
    "data.loc[data['Sales_Agent']=='SalesAgent6','Sales_Agent']=3\n",
    "data.loc[data['Sales_Agent']=='SalesAgent8','Sales_Agent']=2\n",
    "data.loc[data['Sales_Agent']=='SalesAgent10','Sales_Agent']=1\n",
    "data.loc[data['Sales_Agent']=='SalesAgent1','Sales_Agent']=0"
   ]
  },
  {
   "cell_type": "markdown",
   "id": "771a48c1",
   "metadata": {},
   "source": [
    "**4. LOCATION**"
   ]
  },
  {
   "cell_type": "code",
   "execution_count": 50,
   "id": "4489a25a",
   "metadata": {},
   "outputs": [],
   "source": [
    "data.loc[data['Location']=='Other Locations','Location']=8\n",
    "data.loc[data['Location']=='Bangalore','Location']=7\n",
    "data.loc[data['Location']=='Chennai','Location']=6\n",
    "data.loc[data['Location']=='Hyderabad','Location']=5\n",
    "data.loc[data['Location']=='Delhi','Location']=4\n",
    "data.loc[data['Location']=='Mumbai','Location']=3\n",
    "data.loc[data['Location']=='Pune','Location']=2\n",
    "data.loc[data['Location']=='west country','Location']=1\n",
    "data.loc[data['Location']=='asia','Location']=0"
   ]
  },
  {
   "cell_type": "markdown",
   "id": "df4302ab",
   "metadata": {},
   "source": [
    "**6. DELIVARY_MODE**"
   ]
  },
  {
   "cell_type": "code",
   "execution_count": 51,
   "id": "855f2880",
   "metadata": {},
   "outputs": [],
   "source": [
    "data.loc[data['Delivery_Mode'] == 'Mode5','Delivery_Mode']=4\n",
    "data.loc[data['Delivery_Mode'] == 'Mode1','Delivery_Mode']=3\n",
    "data.loc[data['Delivery_Mode'] == 'Mode3','Delivery_Mode']=2\n",
    "data.loc[data['Delivery_Mode'] == 'Mode4','Delivery_Mode']=1\n",
    "data.loc[data['Delivery_Mode'] == 'Mode2','Delivery_Mode']=0"
   ]
  },
  {
   "cell_type": "markdown",
   "id": "8cac6972",
   "metadata": {},
   "source": [
    "**7. STATUS**"
   ]
  },
  {
   "cell_type": "code",
   "execution_count": 52,
   "id": "84f924ae",
   "metadata": {},
   "outputs": [],
   "source": [
    "data.loc[data['Status']=='low potential','Status']=1\n",
    "data.loc[data['Status']=='high potential','Status']=0"
   ]
  },
  {
   "cell_type": "code",
   "execution_count": 53,
   "id": "1789effc",
   "metadata": {},
   "outputs": [
    {
     "data": {
      "text/html": [
       "<div>\n",
       "<style scoped>\n",
       "    .dataframe tbody tr th:only-of-type {\n",
       "        vertical-align: middle;\n",
       "    }\n",
       "\n",
       "    .dataframe tbody tr th {\n",
       "        vertical-align: top;\n",
       "    }\n",
       "\n",
       "    .dataframe thead th {\n",
       "        text-align: right;\n",
       "    }\n",
       "</style>\n",
       "<table border=\"1\" class=\"dataframe\">\n",
       "  <thead>\n",
       "    <tr style=\"text-align: right;\">\n",
       "      <th></th>\n",
       "      <th>Created</th>\n",
       "      <th>Product_ID</th>\n",
       "      <th>Source</th>\n",
       "      <th>Mobile</th>\n",
       "      <th>EMAIL</th>\n",
       "      <th>Sales_Agent</th>\n",
       "      <th>Location</th>\n",
       "      <th>Delivery_Mode</th>\n",
       "      <th>Status</th>\n",
       "    </tr>\n",
       "  </thead>\n",
       "  <tbody>\n",
       "    <tr>\n",
       "      <th>0</th>\n",
       "      <td>14112018 1005</td>\n",
       "      <td>18</td>\n",
       "      <td>5</td>\n",
       "      <td>984XXXXXXX</td>\n",
       "      <td>aXXXXXXXgmailcom</td>\n",
       "      <td>10</td>\n",
       "      <td>8</td>\n",
       "      <td>4</td>\n",
       "      <td>0</td>\n",
       "    </tr>\n",
       "    <tr>\n",
       "      <th>1</th>\n",
       "      <td>14112018 0922</td>\n",
       "      <td>18</td>\n",
       "      <td>5</td>\n",
       "      <td>XXXXXXX</td>\n",
       "      <td>VALUE!</td>\n",
       "      <td>1</td>\n",
       "      <td>8</td>\n",
       "      <td>4</td>\n",
       "      <td>0</td>\n",
       "    </tr>\n",
       "    <tr>\n",
       "      <th>2</th>\n",
       "      <td>14112018 0921</td>\n",
       "      <td>18</td>\n",
       "      <td>5</td>\n",
       "      <td>XXXXXXX</td>\n",
       "      <td>dXXXXXXXyahoocom</td>\n",
       "      <td>1</td>\n",
       "      <td>8</td>\n",
       "      <td>4</td>\n",
       "      <td>0</td>\n",
       "    </tr>\n",
       "    <tr>\n",
       "      <th>3</th>\n",
       "      <td>14112018 0846</td>\n",
       "      <td>18</td>\n",
       "      <td>5</td>\n",
       "      <td>XXXXXXX</td>\n",
       "      <td>wXXXXXXXgmailcom</td>\n",
       "      <td>1</td>\n",
       "      <td>8</td>\n",
       "      <td>4</td>\n",
       "      <td>0</td>\n",
       "    </tr>\n",
       "    <tr>\n",
       "      <th>4</th>\n",
       "      <td>14112018 0734</td>\n",
       "      <td>18</td>\n",
       "      <td>5</td>\n",
       "      <td>XXXXXXX</td>\n",
       "      <td>cXXXXXXXgmailcom</td>\n",
       "      <td>1</td>\n",
       "      <td>8</td>\n",
       "      <td>4</td>\n",
       "      <td>0</td>\n",
       "    </tr>\n",
       "  </tbody>\n",
       "</table>\n",
       "</div>"
      ],
      "text/plain": [
       "         Created Product_ID Source      Mobile             EMAIL Sales_Agent  \\\n",
       "0  14112018 1005         18      5  984XXXXXXX  aXXXXXXXgmailcom          10   \n",
       "1  14112018 0922         18      5     XXXXXXX            VALUE!           1   \n",
       "2  14112018 0921         18      5     XXXXXXX  dXXXXXXXyahoocom           1   \n",
       "3  14112018 0846         18      5     XXXXXXX  wXXXXXXXgmailcom           1   \n",
       "4  14112018 0734         18      5     XXXXXXX  cXXXXXXXgmailcom           1   \n",
       "\n",
       "  Location Delivery_Mode Status  \n",
       "0        8             4      0  \n",
       "1        8             4      0  \n",
       "2        8             4      0  \n",
       "3        8             4      0  \n",
       "4        8             4      0  "
      ]
     },
     "execution_count": 53,
     "metadata": {},
     "output_type": "execute_result"
    }
   ],
   "source": [
    "data.head()"
   ]
  },
  {
   "cell_type": "markdown",
   "id": "c3349472",
   "metadata": {},
   "source": [
    "## FEATURE SELECTION"
   ]
  },
  {
   "cell_type": "markdown",
   "id": "3fe99d41",
   "metadata": {},
   "source": [
    "### 1.DROP UNIQUE AND CONSTANT COLUMN"
   ]
  },
  {
   "cell_type": "code",
   "execution_count": 54,
   "id": "3e6073b6",
   "metadata": {},
   "outputs": [],
   "source": [
    "data.drop(['Created','Mobile','EMAIL'],axis=1,inplace=True)"
   ]
  },
  {
   "cell_type": "markdown",
   "id": "74432033",
   "metadata": {},
   "source": [
    "### 2.CHANGING DATA TYPE BEFORE GET CORRELATION"
   ]
  },
  {
   "cell_type": "code",
   "execution_count": 55,
   "id": "ceb117ea",
   "metadata": {},
   "outputs": [],
   "source": [
    "# Dictionary specifying columns and their respective desired data types\n",
    "data_type_dict = {'Product_ID': 'int64', 'Source': 'int64', 'Sales_Agent': 'int64', 'Location': 'int64', 'Delivery_Mode': 'int64', 'Status': 'int64'}\n",
    "\n",
    "# Convert specified columns to the desired data types using applymap\n",
    "data = data.applymap(lambda x: pd.to_numeric(x, errors='ignore') if data.columns.name not in data_type_dict else pd.to_numeric(x, errors='coerce', downcast=data_type_dict[data.columns.name]))"
   ]
  },
  {
   "cell_type": "code",
   "execution_count": 56,
   "id": "f334d93f",
   "metadata": {},
   "outputs": [
    {
     "name": "stdout",
     "output_type": "stream",
     "text": [
      "<class 'pandas.core.frame.DataFrame'>\n",
      "RangeIndex: 7422 entries, 0 to 7421\n",
      "Data columns (total 6 columns):\n",
      " #   Column         Non-Null Count  Dtype\n",
      "---  ------         --------------  -----\n",
      " 0   Product_ID     7422 non-null   int64\n",
      " 1   Source         7422 non-null   int64\n",
      " 2   Sales_Agent    7422 non-null   int64\n",
      " 3   Location       7422 non-null   int64\n",
      " 4   Delivery_Mode  7422 non-null   int64\n",
      " 5   Status         7422 non-null   int64\n",
      "dtypes: int64(6)\n",
      "memory usage: 348.0 KB\n"
     ]
    }
   ],
   "source": [
    "data.info()"
   ]
  },
  {
   "cell_type": "markdown",
   "id": "1a1edddf",
   "metadata": {},
   "source": [
    "### 3.CHECK CORRELATION"
   ]
  },
  {
   "cell_type": "code",
   "execution_count": 57,
   "id": "d5d0d436",
   "metadata": {},
   "outputs": [
    {
     "data": {
      "text/html": [
       "<div>\n",
       "<style scoped>\n",
       "    .dataframe tbody tr th:only-of-type {\n",
       "        vertical-align: middle;\n",
       "    }\n",
       "\n",
       "    .dataframe tbody tr th {\n",
       "        vertical-align: top;\n",
       "    }\n",
       "\n",
       "    .dataframe thead th {\n",
       "        text-align: right;\n",
       "    }\n",
       "</style>\n",
       "<table border=\"1\" class=\"dataframe\">\n",
       "  <thead>\n",
       "    <tr style=\"text-align: right;\">\n",
       "      <th></th>\n",
       "      <th>Product_ID</th>\n",
       "      <th>Source</th>\n",
       "      <th>Sales_Agent</th>\n",
       "      <th>Location</th>\n",
       "      <th>Delivery_Mode</th>\n",
       "      <th>Status</th>\n",
       "    </tr>\n",
       "  </thead>\n",
       "  <tbody>\n",
       "    <tr>\n",
       "      <th>Product_ID</th>\n",
       "      <td>1.000000</td>\n",
       "      <td>-0.009651</td>\n",
       "      <td>0.009770</td>\n",
       "      <td>-0.028297</td>\n",
       "      <td>-0.019310</td>\n",
       "      <td>-0.090575</td>\n",
       "    </tr>\n",
       "    <tr>\n",
       "      <th>Source</th>\n",
       "      <td>-0.009651</td>\n",
       "      <td>1.000000</td>\n",
       "      <td>0.020959</td>\n",
       "      <td>-0.156931</td>\n",
       "      <td>-0.035514</td>\n",
       "      <td>0.061368</td>\n",
       "    </tr>\n",
       "    <tr>\n",
       "      <th>Sales_Agent</th>\n",
       "      <td>0.009770</td>\n",
       "      <td>0.020959</td>\n",
       "      <td>1.000000</td>\n",
       "      <td>-0.114022</td>\n",
       "      <td>0.096164</td>\n",
       "      <td>0.087726</td>\n",
       "    </tr>\n",
       "    <tr>\n",
       "      <th>Location</th>\n",
       "      <td>-0.028297</td>\n",
       "      <td>-0.156931</td>\n",
       "      <td>-0.114022</td>\n",
       "      <td>1.000000</td>\n",
       "      <td>0.209398</td>\n",
       "      <td>0.080861</td>\n",
       "    </tr>\n",
       "    <tr>\n",
       "      <th>Delivery_Mode</th>\n",
       "      <td>-0.019310</td>\n",
       "      <td>-0.035514</td>\n",
       "      <td>0.096164</td>\n",
       "      <td>0.209398</td>\n",
       "      <td>1.000000</td>\n",
       "      <td>0.161352</td>\n",
       "    </tr>\n",
       "    <tr>\n",
       "      <th>Status</th>\n",
       "      <td>-0.090575</td>\n",
       "      <td>0.061368</td>\n",
       "      <td>0.087726</td>\n",
       "      <td>0.080861</td>\n",
       "      <td>0.161352</td>\n",
       "      <td>1.000000</td>\n",
       "    </tr>\n",
       "  </tbody>\n",
       "</table>\n",
       "</div>"
      ],
      "text/plain": [
       "               Product_ID    Source  Sales_Agent  Location  Delivery_Mode  \\\n",
       "Product_ID       1.000000 -0.009651     0.009770 -0.028297      -0.019310   \n",
       "Source          -0.009651  1.000000     0.020959 -0.156931      -0.035514   \n",
       "Sales_Agent      0.009770  0.020959     1.000000 -0.114022       0.096164   \n",
       "Location        -0.028297 -0.156931    -0.114022  1.000000       0.209398   \n",
       "Delivery_Mode   -0.019310 -0.035514     0.096164  0.209398       1.000000   \n",
       "Status          -0.090575  0.061368     0.087726  0.080861       0.161352   \n",
       "\n",
       "                 Status  \n",
       "Product_ID    -0.090575  \n",
       "Source         0.061368  \n",
       "Sales_Agent    0.087726  \n",
       "Location       0.080861  \n",
       "Delivery_Mode  0.161352  \n",
       "Status         1.000000  "
      ]
     },
     "execution_count": 57,
     "metadata": {},
     "output_type": "execute_result"
    }
   ],
   "source": [
    "data.corr()"
   ]
  },
  {
   "cell_type": "code",
   "execution_count": 58,
   "id": "72f3c5cc",
   "metadata": {},
   "outputs": [
    {
     "data": {
      "image/png": "[encoded data removed]",
      "text/plain": [
       "<Figure size 640x480 with 2 Axes>"
      ]
     },
     "metadata": {},
     "output_type": "display_data"
    }
   ],
   "source": [
    "sns.heatmap(data.corr(),annot=True,cmap=\"PiYG\",annot_kws={\"size\":10})\n",
    "plt.show()"
   ]
  },
  {
   "cell_type": "markdown",
   "id": "4b9a849b",
   "metadata": {},
   "source": [
    "* we analyzing the heatmap, it appears that there are no highly correlated features present. Therefore, we do not drop any feature based on correlation."
   ]
  },
  {
   "cell_type": "markdown",
   "id": "426f9a46",
   "metadata": {},
   "source": [
    "**I haven't addressed duplicates as I've compressed and merged labels, ensuring the dataset doesn't contain any duplicates due to label transformations.**"
   ]
  },
  {
   "cell_type": "markdown",
   "id": "744f3d4f",
   "metadata": {},
   "source": [
    "### SAVE PREPROCESS DATA"
   ]
  },
  {
   "cell_type": "code",
   "execution_count": 59,
   "id": "66499512",
   "metadata": {},
   "outputs": [
    {
     "data": {
      "text/html": [
       "<div>\n",
       "<style scoped>\n",
       "    .dataframe tbody tr th:only-of-type {\n",
       "        vertical-align: middle;\n",
       "    }\n",
       "\n",
       "    .dataframe tbody tr th {\n",
       "        vertical-align: top;\n",
       "    }\n",
       "\n",
       "    .dataframe thead th {\n",
       "        text-align: right;\n",
       "    }\n",
       "</style>\n",
       "<table border=\"1\" class=\"dataframe\">\n",
       "  <thead>\n",
       "    <tr style=\"text-align: right;\">\n",
       "      <th></th>\n",
       "      <th>Product_ID</th>\n",
       "      <th>Source</th>\n",
       "      <th>Sales_Agent</th>\n",
       "      <th>Location</th>\n",
       "      <th>Delivery_Mode</th>\n",
       "      <th>Status</th>\n",
       "    </tr>\n",
       "  </thead>\n",
       "  <tbody>\n",
       "    <tr>\n",
       "      <th>0</th>\n",
       "      <td>18</td>\n",
       "      <td>5</td>\n",
       "      <td>10</td>\n",
       "      <td>8</td>\n",
       "      <td>4</td>\n",
       "      <td>0</td>\n",
       "    </tr>\n",
       "    <tr>\n",
       "      <th>1</th>\n",
       "      <td>18</td>\n",
       "      <td>5</td>\n",
       "      <td>1</td>\n",
       "      <td>8</td>\n",
       "      <td>4</td>\n",
       "      <td>0</td>\n",
       "    </tr>\n",
       "    <tr>\n",
       "      <th>2</th>\n",
       "      <td>18</td>\n",
       "      <td>5</td>\n",
       "      <td>1</td>\n",
       "      <td>8</td>\n",
       "      <td>4</td>\n",
       "      <td>0</td>\n",
       "    </tr>\n",
       "    <tr>\n",
       "      <th>3</th>\n",
       "      <td>18</td>\n",
       "      <td>5</td>\n",
       "      <td>1</td>\n",
       "      <td>8</td>\n",
       "      <td>4</td>\n",
       "      <td>0</td>\n",
       "    </tr>\n",
       "    <tr>\n",
       "      <th>4</th>\n",
       "      <td>18</td>\n",
       "      <td>5</td>\n",
       "      <td>1</td>\n",
       "      <td>8</td>\n",
       "      <td>4</td>\n",
       "      <td>0</td>\n",
       "    </tr>\n",
       "  </tbody>\n",
       "</table>\n",
       "</div>"
      ],
      "text/plain": [
       "   Product_ID  Source  Sales_Agent  Location  Delivery_Mode  Status\n",
       "0          18       5           10         8              4       0\n",
       "1          18       5            1         8              4       0\n",
       "2          18       5            1         8              4       0\n",
       "3          18       5            1         8              4       0\n",
       "4          18       5            1         8              4       0"
      ]
     },
     "execution_count": 59,
     "metadata": {},
     "output_type": "execute_result"
    }
   ],
   "source": [
    "data.to_csv('Salse_EffectivenessPreprocessData.csv', index=False)\n",
    "df = pd.read_csv(\"Salse_EffectivenessPreprocessData.csv\")\n",
    "df.head()"
   ]
  },
  {
   "cell_type": "markdown",
   "id": "7692fb80",
   "metadata": {},
   "source": [
    "## MODEL CREATION & EVALUATION\n",
    "\n",
    "### Models: \n",
    "1. Logistic regression.\n",
    "2. Decision Tree Classifier\n",
    "3. Random Forest Classifier\n",
    "4. Grediant Boosting Classifier\n",
    "5. XGB classifier\n",
    "6. KNeighbourClassifier\n",
    "7. Bagging Classifier\n",
    "8. Artifical neural network"
   ]
  },
  {
   "cell_type": "markdown",
   "id": "18b677b7",
   "metadata": {},
   "source": [
    "### 1. DEFINE INDEPENDANT AND DEPENDANT FEATURES"
   ]
  },
  {
   "cell_type": "code",
   "execution_count": 60,
   "id": "a6fd32ca",
   "metadata": {},
   "outputs": [],
   "source": [
    "X = data.iloc[:,:-1]\n",
    "y = data.Status"
   ]
  },
  {
   "cell_type": "code",
   "execution_count": 61,
   "id": "bdb166ab",
   "metadata": {},
   "outputs": [
    {
     "data": {
      "text/html": [
       "<div>\n",
       "<style scoped>\n",
       "    .dataframe tbody tr th:only-of-type {\n",
       "        vertical-align: middle;\n",
       "    }\n",
       "\n",
       "    .dataframe tbody tr th {\n",
       "        vertical-align: top;\n",
       "    }\n",
       "\n",
       "    .dataframe thead th {\n",
       "        text-align: right;\n",
       "    }\n",
       "</style>\n",
       "<table border=\"1\" class=\"dataframe\">\n",
       "  <thead>\n",
       "    <tr style=\"text-align: right;\">\n",
       "      <th></th>\n",
       "      <th>Product_ID</th>\n",
       "      <th>Source</th>\n",
       "      <th>Sales_Agent</th>\n",
       "      <th>Location</th>\n",
       "      <th>Delivery_Mode</th>\n",
       "    </tr>\n",
       "  </thead>\n",
       "  <tbody>\n",
       "    <tr>\n",
       "      <th>0</th>\n",
       "      <td>18</td>\n",
       "      <td>5</td>\n",
       "      <td>10</td>\n",
       "      <td>8</td>\n",
       "      <td>4</td>\n",
       "    </tr>\n",
       "    <tr>\n",
       "      <th>1</th>\n",
       "      <td>18</td>\n",
       "      <td>5</td>\n",
       "      <td>1</td>\n",
       "      <td>8</td>\n",
       "      <td>4</td>\n",
       "    </tr>\n",
       "    <tr>\n",
       "      <th>2</th>\n",
       "      <td>18</td>\n",
       "      <td>5</td>\n",
       "      <td>1</td>\n",
       "      <td>8</td>\n",
       "      <td>4</td>\n",
       "    </tr>\n",
       "    <tr>\n",
       "      <th>3</th>\n",
       "      <td>18</td>\n",
       "      <td>5</td>\n",
       "      <td>1</td>\n",
       "      <td>8</td>\n",
       "      <td>4</td>\n",
       "    </tr>\n",
       "    <tr>\n",
       "      <th>4</th>\n",
       "      <td>18</td>\n",
       "      <td>5</td>\n",
       "      <td>1</td>\n",
       "      <td>8</td>\n",
       "      <td>4</td>\n",
       "    </tr>\n",
       "  </tbody>\n",
       "</table>\n",
       "</div>"
      ],
      "text/plain": [
       "   Product_ID  Source  Sales_Agent  Location  Delivery_Mode\n",
       "0          18       5           10         8              4\n",
       "1          18       5            1         8              4\n",
       "2          18       5            1         8              4\n",
       "3          18       5            1         8              4\n",
       "4          18       5            1         8              4"
      ]
     },
     "execution_count": 61,
     "metadata": {},
     "output_type": "execute_result"
    }
   ],
   "source": [
    "X.head()"
   ]
  },
  {
   "cell_type": "code",
   "execution_count": 62,
   "id": "120ef158",
   "metadata": {},
   "outputs": [
    {
     "data": {
      "text/plain": [
       "0    0\n",
       "1    0\n",
       "2    0\n",
       "3    0\n",
       "4    0\n",
       "Name: Status, dtype: int64"
      ]
     },
     "execution_count": 62,
     "metadata": {},
     "output_type": "execute_result"
    }
   ],
   "source": [
    "y.head()"
   ]
  },
  {
   "cell_type": "markdown",
   "id": "e47611d6",
   "metadata": {},
   "source": [
    "### 2. SPLITE TRANING AND TESTING DATA"
   ]
  },
  {
   "cell_type": "code",
   "execution_count": 63,
   "id": "26bbdd78",
   "metadata": {},
   "outputs": [],
   "source": [
    "# Creating traning and testing data\n",
    "from sklearn.model_selection import train_test_split\n",
    "X_train,X_test,y_train,y_test=train_test_split(X,y,test_size=0.20,random_state=42)"
   ]
  },
  {
   "cell_type": "code",
   "execution_count": 64,
   "id": "6efc96d8",
   "metadata": {},
   "outputs": [
    {
     "data": {
      "text/plain": [
       "(5937, 5)"
      ]
     },
     "execution_count": 64,
     "metadata": {},
     "output_type": "execute_result"
    }
   ],
   "source": [
    "X_train.shape"
   ]
  },
  {
   "cell_type": "code",
   "execution_count": 65,
   "id": "2220cd9f",
   "metadata": {},
   "outputs": [
    {
     "data": {
      "text/plain": [
       "(1485, 5)"
      ]
     },
     "execution_count": 65,
     "metadata": {},
     "output_type": "execute_result"
    }
   ],
   "source": [
    "X_test.shape"
   ]
  },
  {
   "cell_type": "markdown",
   "id": "94f50ce5",
   "metadata": {},
   "source": [
    "### 3. CHECK BALANCING DATA"
   ]
  },
  {
   "cell_type": "code",
   "execution_count": 66,
   "id": "a65f65c8",
   "metadata": {},
   "outputs": [
    {
     "data": {
      "image/png": "[encoded data removed]",
      "text/plain": [
       "<Figure size 500x300 with 1 Axes>"
      ]
     },
     "metadata": {},
     "output_type": "display_data"
    }
   ],
   "source": [
    "plt.figure(figsize=(5,3),facecolor=\"white\")\n",
    "sns.set_style(\"darkgrid\", {\"grid.color\": \".7\", \"grid.linestyle\": \":\"})\n",
    "sns.countplot(x=data[\"Status\"])\n",
    "plt.show()"
   ]
  },
  {
   "cell_type": "markdown",
   "id": "2d648fde",
   "metadata": {},
   "source": [
    "- Here Data is not Balanced"
   ]
  },
  {
   "cell_type": "code",
   "execution_count": 67,
   "id": "442e975b",
   "metadata": {},
   "outputs": [
    {
     "name": "stdout",
     "output_type": "stream",
     "text": [
      "Actual class Counter({1: 3601, 0: 2336})\n",
      "Smote class Counter({0: 3601, 1: 3601})\n"
     ]
    }
   ],
   "source": [
    "from imblearn.over_sampling import SMOTE\n",
    "from collections import Counter\n",
    "smote=SMOTE()\n",
    "X_smote,y_smote=smote.fit_resample(X_train,y_train)\n",
    "print(\"Actual class\",Counter(y_train))\n",
    "print(\"Smote class\",Counter(y_smote))"
   ]
  },
  {
   "cell_type": "markdown",
   "id": "440b19a0",
   "metadata": {},
   "source": [
    "## MODEL BUILDING"
   ]
  },
  {
   "cell_type": "markdown",
   "id": "a5f3376f",
   "metadata": {},
   "source": [
    "### 1. LOGISTIC REGRESSION"
   ]
  },
  {
   "cell_type": "code",
   "execution_count": 68,
   "id": "87570159",
   "metadata": {},
   "outputs": [],
   "source": [
    "# Import logistic regression model\n",
    "from sklearn.linear_model import LogisticRegression\n",
    "\n",
    "# Initialise model/Object\n",
    "log_model=LogisticRegression()\n",
    "\n",
    "# Train model with x_train and y_train\n",
    "log_model.fit(X_train,y_train)\n",
    "\n",
    "# Make prediction / test model\n",
    "logy_test_pred=log_model.predict(X_test)\n",
    "\n",
    "# Testing model on train data\n",
    "logy_train_pred=log_model.predict(X_train)"
   ]
  },
  {
   "cell_type": "markdown",
   "id": "de7b84ee",
   "metadata": {},
   "source": [
    "### TRAINING ACCURACY"
   ]
  },
  {
   "cell_type": "code",
   "execution_count": 69,
   "id": "0680b462",
   "metadata": {},
   "outputs": [
    {
     "name": "stdout",
     "output_type": "stream",
     "text": [
      "log_train_Accuracy: 60.67\n",
      "Logistic regression training Classification report:\n",
      "               precision    recall  f1-score   support\n",
      "\n",
      "           0       0.21      0.50      0.29       963\n",
      "           1       0.87      0.63      0.73      4974\n",
      "\n",
      "    accuracy                           0.61      5937\n",
      "   macro avg       0.54      0.56      0.51      5937\n",
      "weighted avg       0.76      0.61      0.66      5937\n",
      "\n"
     ]
    }
   ],
   "source": [
    "from sklearn.metrics import accuracy_score, recall_score, precision_score, f1_score, classification_report\n",
    "\n",
    "log_train_accuracy = accuracy_score(logy_train_pred, y_train)\n",
    "print(f\"log_train_Accuracy: {log_train_accuracy * 100:.2f}\")\n",
    "\n",
    "print(\"Logistic regression training Classification report:\\n\", classification_report(logy_train_pred, y_train))"
   ]
  },
  {
   "cell_type": "markdown",
   "id": "7c822c91",
   "metadata": {},
   "source": [
    "### TESTING ACCURACY"
   ]
  },
  {
   "cell_type": "code",
   "execution_count": 70,
   "id": "e7dd4a14",
   "metadata": {},
   "outputs": [
    {
     "name": "stdout",
     "output_type": "stream",
     "text": [
      "log_train_Accuracy: 61.08\n",
      "log_train_Classification report:\n",
      "               precision    recall  f1-score   support\n",
      "\n",
      "           0       0.22      0.53      0.31       243\n",
      "           1       0.87      0.63      0.73      1242\n",
      "\n",
      "    accuracy                           0.61      1485\n",
      "   macro avg       0.55      0.58      0.52      1485\n",
      "weighted avg       0.77      0.61      0.66      1485\n",
      "\n"
     ]
    }
   ],
   "source": [
    "log_test_accuracy = accuracy_score(logy_test_pred, y_test)\n",
    "print(f\"log_train_Accuracy: {log_test_accuracy * 100:.2f}\")\n",
    "\n",
    "print(\"log_train_Classification report:\\n\", classification_report(logy_test_pred, y_test))"
   ]
  },
  {
   "cell_type": "markdown",
   "id": "d2c1b36a",
   "metadata": {},
   "source": [
    "### ROC-AUC METHOD "
   ]
  },
  {
   "cell_type": "code",
   "execution_count": 71,
   "id": "680550bd",
   "metadata": {},
   "outputs": [
    {
     "name": "stdout",
     "output_type": "stream",
     "text": [
      "0.5457605514115759\n"
     ]
    }
   ],
   "source": [
    "from sklearn.metrics import roc_curve,auc\n",
    "false_positive_rate,true_positive_rate,thresholds=roc_curve(y_test,logy_test_pred)\n",
    "roc_auc_score=auc(false_positive_rate,true_positive_rate)\n",
    "print(roc_auc_score)"
   ]
  },
  {
   "cell_type": "code",
   "execution_count": 72,
   "id": "8b885fef",
   "metadata": {},
   "outputs": [
    {
     "data": {
      "image/png": "[encoded data removed]",
      "text/plain": [
       "<Figure size 600x300 with 1 Axes>"
      ]
     },
     "metadata": {},
     "output_type": "display_data"
    }
   ],
   "source": [
    "plt.figure(figsize=(6,3))\n",
    "plt.plot(false_positive_rate,true_positive_rate,color='darkorange', lw=2, label='ROC curve (area = %0.2f)' % roc_auc_score)\n",
    "plt.plot([0, 1], [0, 1], color='navy', lw=2, linestyle='--')\n",
    "plt.xlabel('False Positive Rate')\n",
    "plt.ylabel('True Positive Rate')\n",
    "plt.title('Receiver Operating Characteristic (ROC) Curve')\n",
    "plt.legend(loc='lower right')\n",
    "plt.show()"
   ]
  },
  {
   "cell_type": "markdown",
   "id": "f8578416",
   "metadata": {},
   "source": [
    "* Logistic regression model not perform well on training data."
   ]
  },
  {
   "cell_type": "markdown",
   "id": "046485b0",
   "metadata": {},
   "source": [
    "### 2. DECISION TREE CLASSIFIER"
   ]
  },
  {
   "cell_type": "code",
   "execution_count": 73,
   "id": "246e9857",
   "metadata": {},
   "outputs": [],
   "source": [
    "from sklearn.tree import DecisionTreeClassifier\n",
    "\n",
    "# Initialised model\n",
    "DT_model=DecisionTreeClassifier()\n",
    "\n",
    "# Training model training data\n",
    "DT_model.fit(X_smote,y_smote)\n",
    "\n",
    "# Testing model on test data\n",
    "DTy_test_pred=DT_model.predict(X_test)\n",
    "\n",
    "# Testing model on train data\n",
    "DTy_train_pred=DT_model.predict(X_train)"
   ]
  },
  {
   "cell_type": "markdown",
   "id": "6ec40927",
   "metadata": {},
   "source": [
    "### TRAINING ACCURACY"
   ]
  },
  {
   "cell_type": "code",
   "execution_count": 74,
   "id": "8f2fe224",
   "metadata": {},
   "outputs": [
    {
     "name": "stdout",
     "output_type": "stream",
     "text": [
      "DecisionTree_train_Accuracy: 82.21\n",
      "DecisionTree training Classification report:\n",
      "               precision    recall  f1-score   support\n",
      "\n",
      "           0       0.89      0.72      0.80      2860\n",
      "           1       0.78      0.91      0.84      3077\n",
      "\n",
      "    accuracy                           0.82      5937\n",
      "   macro avg       0.83      0.82      0.82      5937\n",
      "weighted avg       0.83      0.82      0.82      5937\n",
      "\n"
     ]
    }
   ],
   "source": [
    "from sklearn.metrics import accuracy_score, recall_score, precision_score, f1_score, classification_report\n",
    "\n",
    "DT_train_accuracy = accuracy_score(DTy_train_pred, y_train)\n",
    "print(f\"DecisionTree_train_Accuracy: {DT_train_accuracy * 100:.2f}\")\n",
    "\n",
    "print(\"DecisionTree training Classification report:\\n\", classification_report(DTy_train_pred, y_train))"
   ]
  },
  {
   "cell_type": "markdown",
   "id": "4ba31ba7",
   "metadata": {},
   "source": [
    "### TESTING ACCURACY"
   ]
  },
  {
   "cell_type": "code",
   "execution_count": 75,
   "id": "b48814e5",
   "metadata": {},
   "outputs": [
    {
     "name": "stdout",
     "output_type": "stream",
     "text": [
      "DecisionTree_test_Accuracy: 68.82\n",
      "DecisionTree_test_Classification report:\n",
      "               precision    recall  f1-score   support\n",
      "\n",
      "           0       0.67      0.60      0.63       668\n",
      "           1       0.70      0.76      0.73       817\n",
      "\n",
      "    accuracy                           0.69      1485\n",
      "   macro avg       0.69      0.68      0.68      1485\n",
      "weighted avg       0.69      0.69      0.69      1485\n",
      "\n"
     ]
    }
   ],
   "source": [
    "DT_test_accuracy = accuracy_score(DTy_test_pred, y_test)\n",
    "print(f\"DecisionTree_test_Accuracy: {DT_test_accuracy * 100:.2f}\")\n",
    "\n",
    "print(\"DecisionTree_test_Classification report:\\n\", classification_report(DTy_test_pred, y_test))"
   ]
  },
  {
   "cell_type": "markdown",
   "id": "dd177591",
   "metadata": {},
   "source": [
    "### HYPERPARAMETER TUNNING"
   ]
  },
  {
   "cell_type": "code",
   "execution_count": 76,
   "id": "6d03ddd4",
   "metadata": {},
   "outputs": [
    {
     "name": "stdout",
     "output_type": "stream",
     "text": [
      "Fitting 3 folds for each of 13456 candidates, totalling 40368 fits\n"
     ]
    },
    {
     "data": {
      "text/plain": [
       "GridSearchCV(cv=3, estimator=DecisionTreeClassifier(), n_jobs=-1,\n",
       "             param_grid={'criterion': ('gini', 'entropy'),\n",
       "                         'max_depth': [1, 2, 3, 4, 5, 6, 7, 8, 9, 10, 11, 12,\n",
       "                                       13, 14, 15, 16, 17, 18, 19, 20, 21, 22,\n",
       "                                       23, 24, 25, 26, 27, 28, 29],\n",
       "                         'min_samples_leaf': [1, 2, 3, 4, 5, 6, 7, 8, 9, 10, 11,\n",
       "                                              12, 13, 14, 15, 16, 17, 18, 19,\n",
       "                                              20, 21, 22, 23, 24, 25, 26, 27,\n",
       "                                              28, 29],\n",
       "                         'min_samples_split': [2, 3, 4, 5],\n",
       "                         'splitter': ('best', 'random')},\n",
       "             scoring='accuracy', verbose=1)"
      ]
     },
     "execution_count": 76,
     "metadata": {},
     "output_type": "execute_result"
    }
   ],
   "source": [
    "from sklearn.model_selection import GridSearchCV\n",
    "grid_params={\"criterion\":(\"gini\",\"entropy\"),\n",
    "            \"splitter\":(\"best\",\"random\"),\n",
    "            \"max_depth\":list(range(1,30)),\n",
    "            \"min_samples_split\":[2,3,4,5],\n",
    "            \"min_samples_leaf\":list(range(1,30)),\n",
    "            }\n",
    "\n",
    "# Initialised model\n",
    "DecTC_Model=DecisionTreeClassifier(random_state=3)\n",
    "\n",
    "grid=GridSearchCV(DT_model,grid_params,scoring=\"accuracy\", n_jobs=-1, verbose=1, cv=3)\n",
    "grid.fit(X_smote,y_smote)"
   ]
  },
  {
   "cell_type": "code",
   "execution_count": 77,
   "id": "43448fd1",
   "metadata": {},
   "outputs": [
    {
     "name": "stdout",
     "output_type": "stream",
     "text": [
      "{'criterion': 'entropy', 'max_depth': 23, 'min_samples_leaf': 1, 'min_samples_split': 4, 'splitter': 'random'}\n"
     ]
    }
   ],
   "source": [
    "print(grid.best_params_)"
   ]
  },
  {
   "cell_type": "code",
   "execution_count": 78,
   "id": "618e99b1",
   "metadata": {},
   "outputs": [],
   "source": [
    "DecTC_Model=DecisionTreeClassifier(criterion='entropy', max_depth= 23, min_samples_leaf = 1, min_samples_split= 4, splitter= 'random')\n",
    "# Train model\n",
    "DecTC_Model.fit(X_smote,y_smote)\n",
    "# Test model with test data\n",
    "DecTCy_test_pred=DecTC_Model.predict(X_test)\n",
    "# Test model with train data\n",
    "DecTCy_train_pred=DecTC_Model.predict(X_train)"
   ]
  },
  {
   "cell_type": "markdown",
   "id": "b30c63c6",
   "metadata": {},
   "source": [
    "### TESTING ACCURACY"
   ]
  },
  {
   "cell_type": "code",
   "execution_count": 79,
   "id": "9b94dbd4",
   "metadata": {},
   "outputs": [
    {
     "name": "stdout",
     "output_type": "stream",
     "text": [
      "DecisionTree_test_Accuracy: 68.75\n",
      "DecisionTree test Classification report:\n",
      "               precision    recall  f1-score   support\n",
      "\n",
      "           0       0.67      0.60      0.63       661\n",
      "           1       0.70      0.76      0.73       824\n",
      "\n",
      "    accuracy                           0.69      1485\n",
      "   macro avg       0.68      0.68      0.68      1485\n",
      "weighted avg       0.69      0.69      0.69      1485\n",
      "\n"
     ]
    }
   ],
   "source": [
    "from sklearn.metrics import accuracy_score, recall_score, precision_score, f1_score, classification_report\n",
    "\n",
    "DecTC_test_accuracy = accuracy_score(DecTCy_test_pred, y_test)\n",
    "print(f\"DecisionTree_test_Accuracy: {DecTC_test_accuracy * 100:.2f}\")\n",
    "\n",
    "print(\"DecisionTree test Classification report:\\n\", classification_report(DecTCy_test_pred, y_test))"
   ]
  },
  {
   "cell_type": "markdown",
   "id": "94f3678e",
   "metadata": {},
   "source": [
    "### 3. RANDOM FOREST CLASSIFIER"
   ]
  },
  {
   "cell_type": "code",
   "execution_count": 80,
   "id": "a47dea84",
   "metadata": {},
   "outputs": [],
   "source": [
    "from sklearn.ensemble import RandomForestClassifier\n",
    "\n",
    "# Initialised model\n",
    "RFC_model=RandomForestClassifier()\n",
    "\n",
    "# Train model with training data\n",
    "RFC_model.fit(X_smote,y_smote)\n",
    "\n",
    "# Testing on test data\n",
    "RFCy_test_pred=RFC_model.predict(X_test)\n",
    "\n",
    "# Testing on train data\n",
    "RFCy_train_pred=RFC_model.predict(X_train)"
   ]
  },
  {
   "cell_type": "markdown",
   "id": "6b7f7051",
   "metadata": {},
   "source": [
    "### TRAINING ACCURACY"
   ]
  },
  {
   "cell_type": "code",
   "execution_count": 81,
   "id": "6d463dfe",
   "metadata": {},
   "outputs": [
    {
     "name": "stdout",
     "output_type": "stream",
     "text": [
      "Training accuracy of random forest classifier: 82.44904834091292\n",
      "Random forest train Classification report:\n",
      "               precision    recall  f1-score   support\n",
      "\n",
      "           0       0.74      0.85      0.79      2336\n",
      "           1       0.89      0.81      0.85      3601\n",
      "\n",
      "    accuracy                           0.82      5937\n",
      "   macro avg       0.82      0.83      0.82      5937\n",
      "weighted avg       0.83      0.82      0.83      5937\n",
      "\n"
     ]
    }
   ],
   "source": [
    "RFCy_train_accuracy = accuracy_score(y_train,RFCy_train_pred)\n",
    "print(\"Training accuracy of random forest classifier:\",RFCy_train_accuracy*100)\n",
    "print(\"Random forest train Classification report:\"'\\n',classification_report(y_train,RFCy_train_pred))"
   ]
  },
  {
   "cell_type": "markdown",
   "id": "8f5342d0",
   "metadata": {},
   "source": [
    "### TESTING ACCURACY"
   ]
  },
  {
   "cell_type": "code",
   "execution_count": 82,
   "id": "1179b7d3",
   "metadata": {},
   "outputs": [
    {
     "name": "stdout",
     "output_type": "stream",
     "text": [
      "Testing accuracy of random forest classifier: 69.36026936026936\n",
      "Random Forest test Classification report:\n",
      "               precision    recall  f1-score   support\n",
      "\n",
      "           0       0.61      0.64      0.63       595\n",
      "           1       0.75      0.73      0.74       890\n",
      "\n",
      "    accuracy                           0.69      1485\n",
      "   macro avg       0.68      0.68      0.68      1485\n",
      "weighted avg       0.70      0.69      0.69      1485\n",
      "\n"
     ]
    }
   ],
   "source": [
    "RFCy_test_accuracy = accuracy_score(y_test,RFCy_test_pred)\n",
    "print(\"Testing accuracy of random forest classifier:\",RFCy_test_accuracy*100)\n",
    "print(\"Random Forest test Classification report:\"'\\n',classification_report(y_test,RFCy_test_pred))"
   ]
  },
  {
   "cell_type": "markdown",
   "id": "33cf0767",
   "metadata": {},
   "source": [
    "### HYPERPARAMETER TUNING"
   ]
  },
  {
   "cell_type": "code",
   "execution_count": 83,
   "id": "5bdd7c8c",
   "metadata": {},
   "outputs": [
    {
     "name": "stdout",
     "output_type": "stream",
     "text": [
      "Fitting 5 folds for each of 100 candidates, totalling 500 fits\n",
      "[CV] END bootstrap=True, max_depth=15, max_features=sqrt, min_samples_leaf=18, min_samples_split=2, n_estimators=200; total time=   0.7s\n",
      "[CV] END bootstrap=True, max_depth=15, max_features=sqrt, min_samples_leaf=18, min_samples_split=2, n_estimators=200; total time=   0.6s\n",
      "[CV] END bootstrap=True, max_depth=15, max_features=sqrt, min_samples_leaf=18, min_samples_split=2, n_estimators=200; total time=   0.7s\n",
      "[CV] END bootstrap=True, max_depth=15, max_features=sqrt, min_samples_leaf=18, min_samples_split=2, n_estimators=200; total time=   0.6s\n",
      "[CV] END bootstrap=True, max_depth=15, max_features=sqrt, min_samples_leaf=18, min_samples_split=2, n_estimators=200; total time=   0.6s\n",
      "[CV] END bootstrap=False, max_depth=5, max_features=auto, min_samples_leaf=12, min_samples_split=2, n_estimators=680; total time=   1.9s\n",
      "[CV] END bootstrap=False, max_depth=5, max_features=auto, min_samples_leaf=12, min_samples_split=2, n_estimators=680; total time=   1.8s\n",
      "[CV] END bootstrap=False, max_depth=5, max_features=auto, min_samples_leaf=12, min_samples_split=2, n_estimators=680; total time=   1.6s\n",
      "[CV] END bootstrap=False, max_depth=5, max_features=auto, min_samples_leaf=12, min_samples_split=2, n_estimators=680; total time=   1.3s\n",
      "[CV] END bootstrap=False, max_depth=5, max_features=auto, min_samples_leaf=12, min_samples_split=2, n_estimators=680; total time=   1.3s\n",
      "[CV] END bootstrap=True, max_depth=15, max_features=sqrt, min_samples_leaf=13, min_samples_split=8, n_estimators=440; total time=   1.0s\n",
      "[CV] END bootstrap=True, max_depth=15, max_features=sqrt, min_samples_leaf=13, min_samples_split=8, n_estimators=440; total time=   1.0s\n",
      "[CV] END bootstrap=True, max_depth=15, max_features=sqrt, min_samples_leaf=13, min_samples_split=8, n_estimators=440; total time=   1.0s\n",
      "[CV] END bootstrap=True, max_depth=15, max_features=sqrt, min_samples_leaf=13, min_samples_split=8, n_estimators=440; total time=   1.0s\n",
      "[CV] END bootstrap=True, max_depth=15, max_features=sqrt, min_samples_leaf=13, min_samples_split=8, n_estimators=440; total time=   1.0s\n",
      "[CV] END bootstrap=False, max_depth=16, max_features=sqrt, min_samples_leaf=15, min_samples_split=8, n_estimators=680; total time=   1.9s\n",
      "[CV] END bootstrap=False, max_depth=16, max_features=sqrt, min_samples_leaf=15, min_samples_split=8, n_estimators=680; total time=   1.9s\n",
      "[CV] END bootstrap=False, max_depth=16, max_features=sqrt, min_samples_leaf=15, min_samples_split=8, n_estimators=680; total time=   1.8s\n",
      "[CV] END bootstrap=False, max_depth=16, max_features=sqrt, min_samples_leaf=15, min_samples_split=8, n_estimators=680; total time=   1.8s\n",
      "[CV] END bootstrap=False, max_depth=16, max_features=sqrt, min_samples_leaf=15, min_samples_split=8, n_estimators=680; total time=   1.9s\n",
      "[CV] END bootstrap=True, max_depth=9, max_features=sqrt, min_samples_leaf=1, min_samples_split=8, n_estimators=1000; total time=   2.5s\n",
      "[CV] END bootstrap=True, max_depth=9, max_features=sqrt, min_samples_leaf=1, min_samples_split=8, n_estimators=1000; total time=   2.4s\n",
      "[CV] END bootstrap=True, max_depth=9, max_features=sqrt, min_samples_leaf=1, min_samples_split=8, n_estimators=1000; total time=   2.7s\n",
      "[CV] END bootstrap=True, max_depth=9, max_features=sqrt, min_samples_leaf=1, min_samples_split=8, n_estimators=1000; total time=   2.5s\n",
      "[CV] END bootstrap=True, max_depth=9, max_features=sqrt, min_samples_leaf=1, min_samples_split=8, n_estimators=1000; total time=   2.4s\n",
      "[CV] END bootstrap=True, max_depth=11, max_features=sqrt, min_samples_leaf=3, min_samples_split=8, n_estimators=520; total time=   1.3s\n",
      "[CV] END bootstrap=True, max_depth=11, max_features=sqrt, min_samples_leaf=3, min_samples_split=8, n_estimators=520; total time=   1.4s\n",
      "[CV] END bootstrap=True, max_depth=11, max_features=sqrt, min_samples_leaf=3, min_samples_split=8, n_estimators=520; total time=   1.3s\n",
      "[CV] END bootstrap=True, max_depth=11, max_features=sqrt, min_samples_leaf=3, min_samples_split=8, n_estimators=520; total time=   1.3s\n",
      "[CV] END bootstrap=True, max_depth=11, max_features=sqrt, min_samples_leaf=3, min_samples_split=8, n_estimators=520; total time=   1.3s\n",
      "[CV] END bootstrap=True, max_depth=6, max_features=auto, min_samples_leaf=14, min_samples_split=2, n_estimators=280; total time=   0.5s\n",
      "[CV] END bootstrap=True, max_depth=6, max_features=auto, min_samples_leaf=14, min_samples_split=2, n_estimators=280; total time=   0.5s\n",
      "[CV] END bootstrap=True, max_depth=6, max_features=auto, min_samples_leaf=14, min_samples_split=2, n_estimators=280; total time=   0.5s\n",
      "[CV] END bootstrap=True, max_depth=6, max_features=auto, min_samples_leaf=14, min_samples_split=2, n_estimators=280; total time=   0.5s\n",
      "[CV] END bootstrap=True, max_depth=6, max_features=auto, min_samples_leaf=14, min_samples_split=2, n_estimators=280; total time=   0.5s\n",
      "[CV] END bootstrap=False, max_depth=2, max_features=auto, min_samples_leaf=2, min_samples_split=2, n_estimators=440; total time=   0.5s\n",
      "[CV] END bootstrap=False, max_depth=2, max_features=auto, min_samples_leaf=2, min_samples_split=2, n_estimators=440; total time=   0.5s\n",
      "[CV] END bootstrap=False, max_depth=2, max_features=auto, min_samples_leaf=2, min_samples_split=2, n_estimators=440; total time=   0.5s\n",
      "[CV] END bootstrap=False, max_depth=2, max_features=auto, min_samples_leaf=2, min_samples_split=2, n_estimators=440; total time=   0.6s\n",
      "[CV] END bootstrap=False, max_depth=2, max_features=auto, min_samples_leaf=2, min_samples_split=2, n_estimators=440; total time=   0.6s\n",
      "[CV] END bootstrap=True, max_depth=14, max_features=auto, min_samples_leaf=8, min_samples_split=8, n_estimators=280; total time=   0.6s\n",
      "[CV] END bootstrap=True, max_depth=14, max_features=auto, min_samples_leaf=8, min_samples_split=8, n_estimators=280; total time=   0.6s\n",
      "[CV] END bootstrap=True, max_depth=14, max_features=auto, min_samples_leaf=8, min_samples_split=8, n_estimators=280; total time=   0.6s\n",
      "[CV] END bootstrap=True, max_depth=14, max_features=auto, min_samples_leaf=8, min_samples_split=8, n_estimators=280; total time=   0.6s\n",
      "[CV] END bootstrap=True, max_depth=14, max_features=auto, min_samples_leaf=8, min_samples_split=8, n_estimators=280; total time=   0.6s\n",
      "[CV] END bootstrap=False, max_depth=18, max_features=auto, min_samples_leaf=3, min_samples_split=2, n_estimators=920; total time=   3.2s\n",
      "[CV] END bootstrap=False, max_depth=18, max_features=auto, min_samples_leaf=3, min_samples_split=2, n_estimators=920; total time=   3.2s\n",
      "[CV] END bootstrap=False, max_depth=18, max_features=auto, min_samples_leaf=3, min_samples_split=2, n_estimators=920; total time=   3.1s\n",
      "[CV] END bootstrap=False, max_depth=18, max_features=auto, min_samples_leaf=3, min_samples_split=2, n_estimators=920; total time=   3.2s\n",
      "[CV] END bootstrap=False, max_depth=18, max_features=auto, min_samples_leaf=3, min_samples_split=2, n_estimators=920; total time=   3.2s\n",
      "[CV] END bootstrap=True, max_depth=18, max_features=sqrt, min_samples_leaf=15, min_samples_split=2, n_estimators=280; total time=   0.7s\n",
      "[CV] END bootstrap=True, max_depth=18, max_features=sqrt, min_samples_leaf=15, min_samples_split=2, n_estimators=280; total time=   0.6s\n",
      "[CV] END bootstrap=True, max_depth=18, max_features=sqrt, min_samples_leaf=15, min_samples_split=2, n_estimators=280; total time=   0.6s\n",
      "[CV] END bootstrap=True, max_depth=18, max_features=sqrt, min_samples_leaf=15, min_samples_split=2, n_estimators=280; total time=   0.6s\n",
      "[CV] END bootstrap=True, max_depth=18, max_features=sqrt, min_samples_leaf=15, min_samples_split=2, n_estimators=280; total time=   0.6s\n",
      "[CV] END bootstrap=False, max_depth=19, max_features=auto, min_samples_leaf=15, min_samples_split=6, n_estimators=200; total time=   0.5s\n",
      "[CV] END bootstrap=False, max_depth=19, max_features=auto, min_samples_leaf=15, min_samples_split=6, n_estimators=200; total time=   0.5s\n",
      "[CV] END bootstrap=False, max_depth=19, max_features=auto, min_samples_leaf=15, min_samples_split=6, n_estimators=200; total time=   0.5s\n",
      "[CV] END bootstrap=False, max_depth=19, max_features=auto, min_samples_leaf=15, min_samples_split=6, n_estimators=200; total time=   0.5s\n",
      "[CV] END bootstrap=False, max_depth=19, max_features=auto, min_samples_leaf=15, min_samples_split=6, n_estimators=200; total time=   0.5s\n"
     ]
    },
    {
     "name": "stdout",
     "output_type": "stream",
     "text": [
      "[CV] END bootstrap=False, max_depth=4, max_features=sqrt, min_samples_leaf=2, min_samples_split=2, n_estimators=520; total time=   0.9s\n",
      "[CV] END bootstrap=False, max_depth=4, max_features=sqrt, min_samples_leaf=2, min_samples_split=2, n_estimators=520; total time=   0.8s\n",
      "[CV] END bootstrap=False, max_depth=4, max_features=sqrt, min_samples_leaf=2, min_samples_split=2, n_estimators=520; total time=   0.9s\n",
      "[CV] END bootstrap=False, max_depth=4, max_features=sqrt, min_samples_leaf=2, min_samples_split=2, n_estimators=520; total time=   0.9s\n",
      "[CV] END bootstrap=False, max_depth=4, max_features=sqrt, min_samples_leaf=2, min_samples_split=2, n_estimators=520; total time=   0.9s\n",
      "[CV] END bootstrap=False, max_depth=1, max_features=auto, min_samples_leaf=16, min_samples_split=2, n_estimators=280; total time=   0.2s\n",
      "[CV] END bootstrap=False, max_depth=1, max_features=auto, min_samples_leaf=16, min_samples_split=2, n_estimators=280; total time=   0.2s\n",
      "[CV] END bootstrap=False, max_depth=1, max_features=auto, min_samples_leaf=16, min_samples_split=2, n_estimators=280; total time=   0.2s\n",
      "[CV] END bootstrap=False, max_depth=1, max_features=auto, min_samples_leaf=16, min_samples_split=2, n_estimators=280; total time=   0.2s\n",
      "[CV] END bootstrap=False, max_depth=1, max_features=auto, min_samples_leaf=16, min_samples_split=2, n_estimators=280; total time=   0.2s\n",
      "[CV] END bootstrap=True, max_depth=9, max_features=sqrt, min_samples_leaf=18, min_samples_split=6, n_estimators=360; total time=   0.7s\n",
      "[CV] END bootstrap=True, max_depth=9, max_features=sqrt, min_samples_leaf=18, min_samples_split=6, n_estimators=360; total time=   0.7s\n",
      "[CV] END bootstrap=True, max_depth=9, max_features=sqrt, min_samples_leaf=18, min_samples_split=6, n_estimators=360; total time=   0.7s\n",
      "[CV] END bootstrap=True, max_depth=9, max_features=sqrt, min_samples_leaf=18, min_samples_split=6, n_estimators=360; total time=   0.7s\n",
      "[CV] END bootstrap=True, max_depth=9, max_features=sqrt, min_samples_leaf=18, min_samples_split=6, n_estimators=360; total time=   0.7s\n",
      "[CV] END bootstrap=True, max_depth=14, max_features=sqrt, min_samples_leaf=18, min_samples_split=6, n_estimators=1000; total time=   2.3s\n",
      "[CV] END bootstrap=True, max_depth=14, max_features=sqrt, min_samples_leaf=18, min_samples_split=6, n_estimators=1000; total time=   2.3s\n",
      "[CV] END bootstrap=True, max_depth=14, max_features=sqrt, min_samples_leaf=18, min_samples_split=6, n_estimators=1000; total time=   2.3s\n",
      "[CV] END bootstrap=True, max_depth=14, max_features=sqrt, min_samples_leaf=18, min_samples_split=6, n_estimators=1000; total time=   2.3s\n",
      "[CV] END bootstrap=True, max_depth=14, max_features=sqrt, min_samples_leaf=18, min_samples_split=6, n_estimators=1000; total time=   2.3s\n",
      "[CV] END bootstrap=False, max_depth=6, max_features=sqrt, min_samples_leaf=15, min_samples_split=8, n_estimators=200; total time=   0.4s\n",
      "[CV] END bootstrap=False, max_depth=6, max_features=sqrt, min_samples_leaf=15, min_samples_split=8, n_estimators=200; total time=   0.3s\n",
      "[CV] END bootstrap=False, max_depth=6, max_features=sqrt, min_samples_leaf=15, min_samples_split=8, n_estimators=200; total time=   0.3s\n",
      "[CV] END bootstrap=False, max_depth=6, max_features=sqrt, min_samples_leaf=15, min_samples_split=8, n_estimators=200; total time=   0.3s\n",
      "[CV] END bootstrap=False, max_depth=6, max_features=sqrt, min_samples_leaf=15, min_samples_split=8, n_estimators=200; total time=   0.3s\n",
      "[CV] END bootstrap=True, max_depth=4, max_features=sqrt, min_samples_leaf=9, min_samples_split=6, n_estimators=200; total time=   0.3s\n",
      "[CV] END bootstrap=True, max_depth=4, max_features=sqrt, min_samples_leaf=9, min_samples_split=6, n_estimators=200; total time=   0.3s\n",
      "[CV] END bootstrap=True, max_depth=4, max_features=sqrt, min_samples_leaf=9, min_samples_split=6, n_estimators=200; total time=   0.3s\n",
      "[CV] END bootstrap=True, max_depth=4, max_features=sqrt, min_samples_leaf=9, min_samples_split=6, n_estimators=200; total time=   0.3s\n",
      "[CV] END bootstrap=True, max_depth=4, max_features=sqrt, min_samples_leaf=9, min_samples_split=6, n_estimators=200; total time=   0.3s\n",
      "[CV] END bootstrap=True, max_depth=13, max_features=auto, min_samples_leaf=7, min_samples_split=8, n_estimators=440; total time=   1.1s\n",
      "[CV] END bootstrap=True, max_depth=13, max_features=auto, min_samples_leaf=7, min_samples_split=8, n_estimators=440; total time=   1.0s\n",
      "[CV] END bootstrap=True, max_depth=13, max_features=auto, min_samples_leaf=7, min_samples_split=8, n_estimators=440; total time=   1.0s\n",
      "[CV] END bootstrap=True, max_depth=13, max_features=auto, min_samples_leaf=7, min_samples_split=8, n_estimators=440; total time=   1.0s\n",
      "[CV] END bootstrap=True, max_depth=13, max_features=auto, min_samples_leaf=7, min_samples_split=8, n_estimators=440; total time=   1.1s\n",
      "[CV] END bootstrap=False, max_depth=15, max_features=sqrt, min_samples_leaf=10, min_samples_split=2, n_estimators=520; total time=   1.5s\n",
      "[CV] END bootstrap=False, max_depth=15, max_features=sqrt, min_samples_leaf=10, min_samples_split=2, n_estimators=520; total time=   1.4s\n",
      "[CV] END bootstrap=False, max_depth=15, max_features=sqrt, min_samples_leaf=10, min_samples_split=2, n_estimators=520; total time=   1.5s\n",
      "[CV] END bootstrap=False, max_depth=15, max_features=sqrt, min_samples_leaf=10, min_samples_split=2, n_estimators=520; total time=   1.6s\n",
      "[CV] END bootstrap=False, max_depth=15, max_features=sqrt, min_samples_leaf=10, min_samples_split=2, n_estimators=520; total time=   1.6s\n",
      "[CV] END bootstrap=True, max_depth=11, max_features=sqrt, min_samples_leaf=8, min_samples_split=2, n_estimators=360; total time=   0.9s\n",
      "[CV] END bootstrap=True, max_depth=11, max_features=sqrt, min_samples_leaf=8, min_samples_split=2, n_estimators=360; total time=   0.9s\n",
      "[CV] END bootstrap=True, max_depth=11, max_features=sqrt, min_samples_leaf=8, min_samples_split=2, n_estimators=360; total time=   0.8s\n",
      "[CV] END bootstrap=True, max_depth=11, max_features=sqrt, min_samples_leaf=8, min_samples_split=2, n_estimators=360; total time=   0.8s\n",
      "[CV] END bootstrap=True, max_depth=11, max_features=sqrt, min_samples_leaf=8, min_samples_split=2, n_estimators=360; total time=   0.8s\n",
      "[CV] END bootstrap=False, max_depth=1, max_features=sqrt, min_samples_leaf=10, min_samples_split=2, n_estimators=280; total time=   0.2s\n",
      "[CV] END bootstrap=False, max_depth=1, max_features=sqrt, min_samples_leaf=10, min_samples_split=2, n_estimators=280; total time=   0.2s\n",
      "[CV] END bootstrap=False, max_depth=1, max_features=sqrt, min_samples_leaf=10, min_samples_split=2, n_estimators=280; total time=   0.2s\n",
      "[CV] END bootstrap=False, max_depth=1, max_features=sqrt, min_samples_leaf=10, min_samples_split=2, n_estimators=280; total time=   0.2s\n",
      "[CV] END bootstrap=False, max_depth=1, max_features=sqrt, min_samples_leaf=10, min_samples_split=2, n_estimators=280; total time=   0.2s\n",
      "[CV] END bootstrap=True, max_depth=17, max_features=sqrt, min_samples_leaf=6, min_samples_split=8, n_estimators=200; total time=   0.5s\n",
      "[CV] END bootstrap=True, max_depth=17, max_features=sqrt, min_samples_leaf=6, min_samples_split=8, n_estimators=200; total time=   0.4s\n",
      "[CV] END bootstrap=True, max_depth=17, max_features=sqrt, min_samples_leaf=6, min_samples_split=8, n_estimators=200; total time=   0.4s\n",
      "[CV] END bootstrap=True, max_depth=17, max_features=sqrt, min_samples_leaf=6, min_samples_split=8, n_estimators=200; total time=   0.4s\n",
      "[CV] END bootstrap=True, max_depth=17, max_features=sqrt, min_samples_leaf=6, min_samples_split=8, n_estimators=200; total time=   0.4s\n",
      "[CV] END bootstrap=False, max_depth=4, max_features=auto, min_samples_leaf=13, min_samples_split=8, n_estimators=520; total time=   0.9s\n",
      "[CV] END bootstrap=False, max_depth=4, max_features=auto, min_samples_leaf=13, min_samples_split=8, n_estimators=520; total time=   0.8s\n",
      "[CV] END bootstrap=False, max_depth=4, max_features=auto, min_samples_leaf=13, min_samples_split=8, n_estimators=520; total time=   0.8s\n",
      "[CV] END bootstrap=False, max_depth=4, max_features=auto, min_samples_leaf=13, min_samples_split=8, n_estimators=520; total time=   0.9s\n",
      "[CV] END bootstrap=False, max_depth=4, max_features=auto, min_samples_leaf=13, min_samples_split=8, n_estimators=520; total time=   0.9s\n"
     ]
    },
    {
     "name": "stdout",
     "output_type": "stream",
     "text": [
      "[CV] END bootstrap=False, max_depth=13, max_features=auto, min_samples_leaf=5, min_samples_split=6, n_estimators=600; total time=   1.9s\n",
      "[CV] END bootstrap=False, max_depth=13, max_features=auto, min_samples_leaf=5, min_samples_split=6, n_estimators=600; total time=   1.9s\n",
      "[CV] END bootstrap=False, max_depth=13, max_features=auto, min_samples_leaf=5, min_samples_split=6, n_estimators=600; total time=   1.8s\n",
      "[CV] END bootstrap=False, max_depth=13, max_features=auto, min_samples_leaf=5, min_samples_split=6, n_estimators=600; total time=   1.8s\n",
      "[CV] END bootstrap=False, max_depth=13, max_features=auto, min_samples_leaf=5, min_samples_split=6, n_estimators=600; total time=   1.8s\n",
      "[CV] END bootstrap=False, max_depth=10, max_features=auto, min_samples_leaf=9, min_samples_split=2, n_estimators=840; total time=   2.3s\n",
      "[CV] END bootstrap=False, max_depth=10, max_features=auto, min_samples_leaf=9, min_samples_split=2, n_estimators=840; total time=   2.3s\n",
      "[CV] END bootstrap=False, max_depth=10, max_features=auto, min_samples_leaf=9, min_samples_split=2, n_estimators=840; total time=   2.3s\n",
      "[CV] END bootstrap=False, max_depth=10, max_features=auto, min_samples_leaf=9, min_samples_split=2, n_estimators=840; total time=   2.3s\n",
      "[CV] END bootstrap=False, max_depth=10, max_features=auto, min_samples_leaf=9, min_samples_split=2, n_estimators=840; total time=   2.5s\n",
      "[CV] END bootstrap=True, max_depth=5, max_features=auto, min_samples_leaf=1, min_samples_split=6, n_estimators=200; total time=   0.3s\n",
      "[CV] END bootstrap=True, max_depth=5, max_features=auto, min_samples_leaf=1, min_samples_split=6, n_estimators=200; total time=   0.3s\n",
      "[CV] END bootstrap=True, max_depth=5, max_features=auto, min_samples_leaf=1, min_samples_split=6, n_estimators=200; total time=   0.3s\n",
      "[CV] END bootstrap=True, max_depth=5, max_features=auto, min_samples_leaf=1, min_samples_split=6, n_estimators=200; total time=   0.3s\n",
      "[CV] END bootstrap=True, max_depth=5, max_features=auto, min_samples_leaf=1, min_samples_split=6, n_estimators=200; total time=   0.3s\n",
      "[CV] END bootstrap=True, max_depth=7, max_features=auto, min_samples_leaf=9, min_samples_split=8, n_estimators=680; total time=   1.5s\n",
      "[CV] END bootstrap=True, max_depth=7, max_features=auto, min_samples_leaf=9, min_samples_split=8, n_estimators=680; total time=   1.4s\n",
      "[CV] END bootstrap=True, max_depth=7, max_features=auto, min_samples_leaf=9, min_samples_split=8, n_estimators=680; total time=   1.4s\n",
      "[CV] END bootstrap=True, max_depth=7, max_features=auto, min_samples_leaf=9, min_samples_split=8, n_estimators=680; total time=   1.4s\n",
      "[CV] END bootstrap=True, max_depth=7, max_features=auto, min_samples_leaf=9, min_samples_split=8, n_estimators=680; total time=   1.4s\n",
      "[CV] END bootstrap=False, max_depth=10, max_features=auto, min_samples_leaf=19, min_samples_split=8, n_estimators=1000; total time=   2.6s\n",
      "[CV] END bootstrap=False, max_depth=10, max_features=auto, min_samples_leaf=19, min_samples_split=8, n_estimators=1000; total time=   2.6s\n",
      "[CV] END bootstrap=False, max_depth=10, max_features=auto, min_samples_leaf=19, min_samples_split=8, n_estimators=1000; total time=   2.6s\n",
      "[CV] END bootstrap=False, max_depth=10, max_features=auto, min_samples_leaf=19, min_samples_split=8, n_estimators=1000; total time=   2.6s\n",
      "[CV] END bootstrap=False, max_depth=10, max_features=auto, min_samples_leaf=19, min_samples_split=8, n_estimators=1000; total time=   2.6s\n",
      "[CV] END bootstrap=True, max_depth=4, max_features=sqrt, min_samples_leaf=18, min_samples_split=2, n_estimators=920; total time=   1.6s\n",
      "[CV] END bootstrap=True, max_depth=4, max_features=sqrt, min_samples_leaf=18, min_samples_split=2, n_estimators=920; total time=   1.5s\n",
      "[CV] END bootstrap=True, max_depth=4, max_features=sqrt, min_samples_leaf=18, min_samples_split=2, n_estimators=920; total time=   1.5s\n",
      "[CV] END bootstrap=True, max_depth=4, max_features=sqrt, min_samples_leaf=18, min_samples_split=2, n_estimators=920; total time=   1.5s\n",
      "[CV] END bootstrap=True, max_depth=4, max_features=sqrt, min_samples_leaf=18, min_samples_split=2, n_estimators=920; total time=   1.6s\n",
      "[CV] END bootstrap=False, max_depth=17, max_features=sqrt, min_samples_leaf=2, min_samples_split=8, n_estimators=200; total time=   0.6s\n",
      "[CV] END bootstrap=False, max_depth=17, max_features=sqrt, min_samples_leaf=2, min_samples_split=8, n_estimators=200; total time=   0.6s\n",
      "[CV] END bootstrap=False, max_depth=17, max_features=sqrt, min_samples_leaf=2, min_samples_split=8, n_estimators=200; total time=   0.6s\n",
      "[CV] END bootstrap=False, max_depth=17, max_features=sqrt, min_samples_leaf=2, min_samples_split=8, n_estimators=200; total time=   0.7s\n",
      "[CV] END bootstrap=False, max_depth=17, max_features=sqrt, min_samples_leaf=2, min_samples_split=8, n_estimators=200; total time=   0.6s\n",
      "[CV] END bootstrap=True, max_depth=17, max_features=sqrt, min_samples_leaf=14, min_samples_split=6, n_estimators=920; total time=   2.2s\n",
      "[CV] END bootstrap=True, max_depth=17, max_features=sqrt, min_samples_leaf=14, min_samples_split=6, n_estimators=920; total time=   2.3s\n",
      "[CV] END bootstrap=True, max_depth=17, max_features=sqrt, min_samples_leaf=14, min_samples_split=6, n_estimators=920; total time=   2.2s\n",
      "[CV] END bootstrap=True, max_depth=17, max_features=sqrt, min_samples_leaf=14, min_samples_split=6, n_estimators=920; total time=   2.2s\n",
      "[CV] END bootstrap=True, max_depth=17, max_features=sqrt, min_samples_leaf=14, min_samples_split=6, n_estimators=920; total time=   2.4s\n",
      "[CV] END bootstrap=False, max_depth=6, max_features=auto, min_samples_leaf=2, min_samples_split=8, n_estimators=520; total time=   1.1s\n",
      "[CV] END bootstrap=False, max_depth=6, max_features=auto, min_samples_leaf=2, min_samples_split=8, n_estimators=520; total time=   1.1s\n",
      "[CV] END bootstrap=False, max_depth=6, max_features=auto, min_samples_leaf=2, min_samples_split=8, n_estimators=520; total time=   1.1s\n",
      "[CV] END bootstrap=False, max_depth=6, max_features=auto, min_samples_leaf=2, min_samples_split=8, n_estimators=520; total time=   1.1s\n",
      "[CV] END bootstrap=False, max_depth=6, max_features=auto, min_samples_leaf=2, min_samples_split=8, n_estimators=520; total time=   1.1s\n",
      "[CV] END bootstrap=False, max_depth=9, max_features=auto, min_samples_leaf=14, min_samples_split=8, n_estimators=440; total time=   1.1s\n",
      "[CV] END bootstrap=False, max_depth=9, max_features=auto, min_samples_leaf=14, min_samples_split=8, n_estimators=440; total time=   1.2s\n",
      "[CV] END bootstrap=False, max_depth=9, max_features=auto, min_samples_leaf=14, min_samples_split=8, n_estimators=440; total time=   1.1s\n",
      "[CV] END bootstrap=False, max_depth=9, max_features=auto, min_samples_leaf=14, min_samples_split=8, n_estimators=440; total time=   1.1s\n",
      "[CV] END bootstrap=False, max_depth=9, max_features=auto, min_samples_leaf=14, min_samples_split=8, n_estimators=440; total time=   1.2s\n",
      "[CV] END bootstrap=True, max_depth=13, max_features=auto, min_samples_leaf=3, min_samples_split=8, n_estimators=760; total time=   2.1s\n",
      "[CV] END bootstrap=True, max_depth=13, max_features=auto, min_samples_leaf=3, min_samples_split=8, n_estimators=760; total time=   2.1s\n",
      "[CV] END bootstrap=True, max_depth=13, max_features=auto, min_samples_leaf=3, min_samples_split=8, n_estimators=760; total time=   2.2s\n",
      "[CV] END bootstrap=True, max_depth=13, max_features=auto, min_samples_leaf=3, min_samples_split=8, n_estimators=760; total time=   2.1s\n",
      "[CV] END bootstrap=True, max_depth=13, max_features=auto, min_samples_leaf=3, min_samples_split=8, n_estimators=760; total time=   2.0s\n",
      "[CV] END bootstrap=True, max_depth=15, max_features=auto, min_samples_leaf=15, min_samples_split=8, n_estimators=840; total time=   1.9s\n",
      "[CV] END bootstrap=True, max_depth=15, max_features=auto, min_samples_leaf=15, min_samples_split=8, n_estimators=840; total time=   1.9s\n",
      "[CV] END bootstrap=True, max_depth=15, max_features=auto, min_samples_leaf=15, min_samples_split=8, n_estimators=840; total time=   1.9s\n",
      "[CV] END bootstrap=True, max_depth=15, max_features=auto, min_samples_leaf=15, min_samples_split=8, n_estimators=840; total time=   2.0s\n",
      "[CV] END bootstrap=True, max_depth=15, max_features=auto, min_samples_leaf=15, min_samples_split=8, n_estimators=840; total time=   1.9s\n"
     ]
    },
    {
     "name": "stdout",
     "output_type": "stream",
     "text": [
      "[CV] END bootstrap=True, max_depth=13, max_features=auto, min_samples_leaf=4, min_samples_split=2, n_estimators=1000; total time=   2.7s\n",
      "[CV] END bootstrap=True, max_depth=13, max_features=auto, min_samples_leaf=4, min_samples_split=2, n_estimators=1000; total time=   2.7s\n",
      "[CV] END bootstrap=True, max_depth=13, max_features=auto, min_samples_leaf=4, min_samples_split=2, n_estimators=1000; total time=   2.7s\n",
      "[CV] END bootstrap=True, max_depth=13, max_features=auto, min_samples_leaf=4, min_samples_split=2, n_estimators=1000; total time=   2.6s\n",
      "[CV] END bootstrap=True, max_depth=13, max_features=auto, min_samples_leaf=4, min_samples_split=2, n_estimators=1000; total time=   2.7s\n",
      "[CV] END bootstrap=True, max_depth=10, max_features=sqrt, min_samples_leaf=2, min_samples_split=6, n_estimators=520; total time=   1.3s\n",
      "[CV] END bootstrap=True, max_depth=10, max_features=sqrt, min_samples_leaf=2, min_samples_split=6, n_estimators=520; total time=   1.3s\n",
      "[CV] END bootstrap=True, max_depth=10, max_features=sqrt, min_samples_leaf=2, min_samples_split=6, n_estimators=520; total time=   1.3s\n",
      "[CV] END bootstrap=True, max_depth=10, max_features=sqrt, min_samples_leaf=2, min_samples_split=6, n_estimators=520; total time=   1.3s\n",
      "[CV] END bootstrap=True, max_depth=10, max_features=sqrt, min_samples_leaf=2, min_samples_split=6, n_estimators=520; total time=   1.5s\n",
      "[CV] END bootstrap=False, max_depth=2, max_features=sqrt, min_samples_leaf=3, min_samples_split=6, n_estimators=600; total time=   0.7s\n",
      "[CV] END bootstrap=False, max_depth=2, max_features=sqrt, min_samples_leaf=3, min_samples_split=6, n_estimators=600; total time=   0.7s\n",
      "[CV] END bootstrap=False, max_depth=2, max_features=sqrt, min_samples_leaf=3, min_samples_split=6, n_estimators=600; total time=   0.7s\n",
      "[CV] END bootstrap=False, max_depth=2, max_features=sqrt, min_samples_leaf=3, min_samples_split=6, n_estimators=600; total time=   0.7s\n",
      "[CV] END bootstrap=False, max_depth=2, max_features=sqrt, min_samples_leaf=3, min_samples_split=6, n_estimators=600; total time=   0.7s\n",
      "[CV] END bootstrap=False, max_depth=9, max_features=sqrt, min_samples_leaf=2, min_samples_split=8, n_estimators=760; total time=   2.0s\n",
      "[CV] END bootstrap=False, max_depth=9, max_features=sqrt, min_samples_leaf=2, min_samples_split=8, n_estimators=760; total time=   2.0s\n",
      "[CV] END bootstrap=False, max_depth=9, max_features=sqrt, min_samples_leaf=2, min_samples_split=8, n_estimators=760; total time=   2.0s\n",
      "[CV] END bootstrap=False, max_depth=9, max_features=sqrt, min_samples_leaf=2, min_samples_split=8, n_estimators=760; total time=   2.0s\n",
      "[CV] END bootstrap=False, max_depth=9, max_features=sqrt, min_samples_leaf=2, min_samples_split=8, n_estimators=760; total time=   2.0s\n",
      "[CV] END bootstrap=False, max_depth=8, max_features=sqrt, min_samples_leaf=14, min_samples_split=6, n_estimators=760; total time=   1.8s\n",
      "[CV] END bootstrap=False, max_depth=8, max_features=sqrt, min_samples_leaf=14, min_samples_split=6, n_estimators=760; total time=   1.9s\n",
      "[CV] END bootstrap=False, max_depth=8, max_features=sqrt, min_samples_leaf=14, min_samples_split=6, n_estimators=760; total time=   1.8s\n",
      "[CV] END bootstrap=False, max_depth=8, max_features=sqrt, min_samples_leaf=14, min_samples_split=6, n_estimators=760; total time=   1.8s\n",
      "[CV] END bootstrap=False, max_depth=8, max_features=sqrt, min_samples_leaf=14, min_samples_split=6, n_estimators=760; total time=   1.8s\n",
      "[CV] END bootstrap=False, max_depth=7, max_features=auto, min_samples_leaf=5, min_samples_split=2, n_estimators=280; total time=   0.6s\n",
      "[CV] END bootstrap=False, max_depth=7, max_features=auto, min_samples_leaf=5, min_samples_split=2, n_estimators=280; total time=   0.6s\n",
      "[CV] END bootstrap=False, max_depth=7, max_features=auto, min_samples_leaf=5, min_samples_split=2, n_estimators=280; total time=   0.6s\n",
      "[CV] END bootstrap=False, max_depth=7, max_features=auto, min_samples_leaf=5, min_samples_split=2, n_estimators=280; total time=   0.6s\n",
      "[CV] END bootstrap=False, max_depth=7, max_features=auto, min_samples_leaf=5, min_samples_split=2, n_estimators=280; total time=   0.6s\n",
      "[CV] END bootstrap=True, max_depth=3, max_features=auto, min_samples_leaf=17, min_samples_split=6, n_estimators=600; total time=   1.0s\n",
      "[CV] END bootstrap=True, max_depth=3, max_features=auto, min_samples_leaf=17, min_samples_split=6, n_estimators=600; total time=   0.9s\n",
      "[CV] END bootstrap=True, max_depth=3, max_features=auto, min_samples_leaf=17, min_samples_split=6, n_estimators=600; total time=   0.9s\n",
      "[CV] END bootstrap=True, max_depth=3, max_features=auto, min_samples_leaf=17, min_samples_split=6, n_estimators=600; total time=   0.9s\n",
      "[CV] END bootstrap=True, max_depth=3, max_features=auto, min_samples_leaf=17, min_samples_split=6, n_estimators=600; total time=   0.9s\n",
      "[CV] END bootstrap=True, max_depth=4, max_features=sqrt, min_samples_leaf=7, min_samples_split=8, n_estimators=920; total time=   1.6s\n",
      "[CV] END bootstrap=True, max_depth=4, max_features=sqrt, min_samples_leaf=7, min_samples_split=8, n_estimators=920; total time=   1.7s\n",
      "[CV] END bootstrap=True, max_depth=4, max_features=sqrt, min_samples_leaf=7, min_samples_split=8, n_estimators=920; total time=   1.6s\n",
      "[CV] END bootstrap=True, max_depth=4, max_features=sqrt, min_samples_leaf=7, min_samples_split=8, n_estimators=920; total time=   1.6s\n",
      "[CV] END bootstrap=True, max_depth=4, max_features=sqrt, min_samples_leaf=7, min_samples_split=8, n_estimators=920; total time=   1.6s\n",
      "[CV] END bootstrap=False, max_depth=10, max_features=sqrt, min_samples_leaf=5, min_samples_split=2, n_estimators=200; total time=   0.5s\n",
      "[CV] END bootstrap=False, max_depth=10, max_features=sqrt, min_samples_leaf=5, min_samples_split=2, n_estimators=200; total time=   0.5s\n",
      "[CV] END bootstrap=False, max_depth=10, max_features=sqrt, min_samples_leaf=5, min_samples_split=2, n_estimators=200; total time=   0.5s\n",
      "[CV] END bootstrap=False, max_depth=10, max_features=sqrt, min_samples_leaf=5, min_samples_split=2, n_estimators=200; total time=   0.5s\n",
      "[CV] END bootstrap=False, max_depth=10, max_features=sqrt, min_samples_leaf=5, min_samples_split=2, n_estimators=200; total time=   0.5s\n",
      "[CV] END bootstrap=False, max_depth=14, max_features=sqrt, min_samples_leaf=11, min_samples_split=8, n_estimators=520; total time=   1.5s\n",
      "[CV] END bootstrap=False, max_depth=14, max_features=sqrt, min_samples_leaf=11, min_samples_split=8, n_estimators=520; total time=   1.4s\n",
      "[CV] END bootstrap=False, max_depth=14, max_features=sqrt, min_samples_leaf=11, min_samples_split=8, n_estimators=520; total time=   1.4s\n",
      "[CV] END bootstrap=False, max_depth=14, max_features=sqrt, min_samples_leaf=11, min_samples_split=8, n_estimators=520; total time=   1.6s\n",
      "[CV] END bootstrap=False, max_depth=14, max_features=sqrt, min_samples_leaf=11, min_samples_split=8, n_estimators=520; total time=   1.7s\n",
      "[CV] END bootstrap=False, max_depth=9, max_features=sqrt, min_samples_leaf=4, min_samples_split=2, n_estimators=600; total time=   1.9s\n",
      "[CV] END bootstrap=False, max_depth=9, max_features=sqrt, min_samples_leaf=4, min_samples_split=2, n_estimators=600; total time=   1.9s\n",
      "[CV] END bootstrap=False, max_depth=9, max_features=sqrt, min_samples_leaf=4, min_samples_split=2, n_estimators=600; total time=   1.6s\n",
      "[CV] END bootstrap=False, max_depth=9, max_features=sqrt, min_samples_leaf=4, min_samples_split=2, n_estimators=600; total time=   1.6s\n",
      "[CV] END bootstrap=False, max_depth=9, max_features=sqrt, min_samples_leaf=4, min_samples_split=2, n_estimators=600; total time=   1.6s\n",
      "[CV] END bootstrap=True, max_depth=2, max_features=auto, min_samples_leaf=4, min_samples_split=6, n_estimators=920; total time=   1.3s\n",
      "[CV] END bootstrap=True, max_depth=2, max_features=auto, min_samples_leaf=4, min_samples_split=6, n_estimators=920; total time=   1.3s\n",
      "[CV] END bootstrap=True, max_depth=2, max_features=auto, min_samples_leaf=4, min_samples_split=6, n_estimators=920; total time=   1.3s\n",
      "[CV] END bootstrap=True, max_depth=2, max_features=auto, min_samples_leaf=4, min_samples_split=6, n_estimators=920; total time=   1.3s\n",
      "[CV] END bootstrap=True, max_depth=2, max_features=auto, min_samples_leaf=4, min_samples_split=6, n_estimators=920; total time=   1.3s\n",
      "[CV] END bootstrap=False, max_depth=6, max_features=auto, min_samples_leaf=17, min_samples_split=2, n_estimators=840; total time=   1.8s\n"
     ]
    },
    {
     "name": "stdout",
     "output_type": "stream",
     "text": [
      "[CV] END bootstrap=False, max_depth=6, max_features=auto, min_samples_leaf=17, min_samples_split=2, n_estimators=840; total time=   1.9s\n",
      "[CV] END bootstrap=False, max_depth=6, max_features=auto, min_samples_leaf=17, min_samples_split=2, n_estimators=840; total time=   1.8s\n",
      "[CV] END bootstrap=False, max_depth=6, max_features=auto, min_samples_leaf=17, min_samples_split=2, n_estimators=840; total time=   1.8s\n",
      "[CV] END bootstrap=False, max_depth=6, max_features=auto, min_samples_leaf=17, min_samples_split=2, n_estimators=840; total time=   1.8s\n",
      "[CV] END bootstrap=False, max_depth=4, max_features=sqrt, min_samples_leaf=8, min_samples_split=6, n_estimators=200; total time=   0.3s\n",
      "[CV] END bootstrap=False, max_depth=4, max_features=sqrt, min_samples_leaf=8, min_samples_split=6, n_estimators=200; total time=   0.3s\n",
      "[CV] END bootstrap=False, max_depth=4, max_features=sqrt, min_samples_leaf=8, min_samples_split=6, n_estimators=200; total time=   0.3s\n",
      "[CV] END bootstrap=False, max_depth=4, max_features=sqrt, min_samples_leaf=8, min_samples_split=6, n_estimators=200; total time=   0.3s\n",
      "[CV] END bootstrap=False, max_depth=4, max_features=sqrt, min_samples_leaf=8, min_samples_split=6, n_estimators=200; total time=   0.3s\n",
      "[CV] END bootstrap=True, max_depth=13, max_features=auto, min_samples_leaf=18, min_samples_split=2, n_estimators=1000; total time=   2.3s\n",
      "[CV] END bootstrap=True, max_depth=13, max_features=auto, min_samples_leaf=18, min_samples_split=2, n_estimators=1000; total time=   2.3s\n",
      "[CV] END bootstrap=True, max_depth=13, max_features=auto, min_samples_leaf=18, min_samples_split=2, n_estimators=1000; total time=   2.3s\n",
      "[CV] END bootstrap=True, max_depth=13, max_features=auto, min_samples_leaf=18, min_samples_split=2, n_estimators=1000; total time=   2.2s\n",
      "[CV] END bootstrap=True, max_depth=13, max_features=auto, min_samples_leaf=18, min_samples_split=2, n_estimators=1000; total time=   2.3s\n",
      "[CV] END bootstrap=False, max_depth=3, max_features=auto, min_samples_leaf=2, min_samples_split=2, n_estimators=760; total time=   1.2s\n",
      "[CV] END bootstrap=False, max_depth=3, max_features=auto, min_samples_leaf=2, min_samples_split=2, n_estimators=760; total time=   1.1s\n",
      "[CV] END bootstrap=False, max_depth=3, max_features=auto, min_samples_leaf=2, min_samples_split=2, n_estimators=760; total time=   1.1s\n",
      "[CV] END bootstrap=False, max_depth=3, max_features=auto, min_samples_leaf=2, min_samples_split=2, n_estimators=760; total time=   1.1s\n",
      "[CV] END bootstrap=False, max_depth=3, max_features=auto, min_samples_leaf=2, min_samples_split=2, n_estimators=760; total time=   1.1s\n",
      "[CV] END bootstrap=False, max_depth=17, max_features=sqrt, min_samples_leaf=6, min_samples_split=8, n_estimators=760; total time=   2.3s\n",
      "[CV] END bootstrap=False, max_depth=17, max_features=sqrt, min_samples_leaf=6, min_samples_split=8, n_estimators=760; total time=   2.3s\n",
      "[CV] END bootstrap=False, max_depth=17, max_features=sqrt, min_samples_leaf=6, min_samples_split=8, n_estimators=760; total time=   2.3s\n",
      "[CV] END bootstrap=False, max_depth=17, max_features=sqrt, min_samples_leaf=6, min_samples_split=8, n_estimators=760; total time=   2.3s\n",
      "[CV] END bootstrap=False, max_depth=17, max_features=sqrt, min_samples_leaf=6, min_samples_split=8, n_estimators=760; total time=   2.3s\n",
      "[CV] END bootstrap=True, max_depth=6, max_features=sqrt, min_samples_leaf=16, min_samples_split=6, n_estimators=440; total time=   0.8s\n",
      "[CV] END bootstrap=True, max_depth=6, max_features=sqrt, min_samples_leaf=16, min_samples_split=6, n_estimators=440; total time=   0.8s\n",
      "[CV] END bootstrap=True, max_depth=6, max_features=sqrt, min_samples_leaf=16, min_samples_split=6, n_estimators=440; total time=   0.9s\n",
      "[CV] END bootstrap=True, max_depth=6, max_features=sqrt, min_samples_leaf=16, min_samples_split=6, n_estimators=440; total time=   0.8s\n",
      "[CV] END bootstrap=True, max_depth=6, max_features=sqrt, min_samples_leaf=16, min_samples_split=6, n_estimators=440; total time=   0.8s\n",
      "[CV] END bootstrap=True, max_depth=6, max_features=sqrt, min_samples_leaf=10, min_samples_split=2, n_estimators=200; total time=   0.3s\n",
      "[CV] END bootstrap=True, max_depth=6, max_features=sqrt, min_samples_leaf=10, min_samples_split=2, n_estimators=200; total time=   0.3s\n",
      "[CV] END bootstrap=True, max_depth=6, max_features=sqrt, min_samples_leaf=10, min_samples_split=2, n_estimators=200; total time=   0.3s\n",
      "[CV] END bootstrap=True, max_depth=6, max_features=sqrt, min_samples_leaf=10, min_samples_split=2, n_estimators=200; total time=   0.3s\n",
      "[CV] END bootstrap=True, max_depth=6, max_features=sqrt, min_samples_leaf=10, min_samples_split=2, n_estimators=200; total time=   0.3s\n",
      "[CV] END bootstrap=False, max_depth=11, max_features=sqrt, min_samples_leaf=2, min_samples_split=6, n_estimators=1000; total time=   3.1s\n",
      "[CV] END bootstrap=False, max_depth=11, max_features=sqrt, min_samples_leaf=2, min_samples_split=6, n_estimators=1000; total time=   3.0s\n",
      "[CV] END bootstrap=False, max_depth=11, max_features=sqrt, min_samples_leaf=2, min_samples_split=6, n_estimators=1000; total time=   3.1s\n",
      "[CV] END bootstrap=False, max_depth=11, max_features=sqrt, min_samples_leaf=2, min_samples_split=6, n_estimators=1000; total time=   3.1s\n",
      "[CV] END bootstrap=False, max_depth=11, max_features=sqrt, min_samples_leaf=2, min_samples_split=6, n_estimators=1000; total time=   3.0s\n",
      "[CV] END bootstrap=True, max_depth=14, max_features=auto, min_samples_leaf=13, min_samples_split=6, n_estimators=200; total time=   0.4s\n",
      "[CV] END bootstrap=True, max_depth=14, max_features=auto, min_samples_leaf=13, min_samples_split=6, n_estimators=200; total time=   0.4s\n",
      "[CV] END bootstrap=True, max_depth=14, max_features=auto, min_samples_leaf=13, min_samples_split=6, n_estimators=200; total time=   0.4s\n",
      "[CV] END bootstrap=True, max_depth=14, max_features=auto, min_samples_leaf=13, min_samples_split=6, n_estimators=200; total time=   0.4s\n",
      "[CV] END bootstrap=True, max_depth=14, max_features=auto, min_samples_leaf=13, min_samples_split=6, n_estimators=200; total time=   0.4s\n",
      "[CV] END bootstrap=True, max_depth=15, max_features=sqrt, min_samples_leaf=18, min_samples_split=2, n_estimators=440; total time=   0.9s\n",
      "[CV] END bootstrap=True, max_depth=15, max_features=sqrt, min_samples_leaf=18, min_samples_split=2, n_estimators=440; total time=   0.9s\n",
      "[CV] END bootstrap=True, max_depth=15, max_features=sqrt, min_samples_leaf=18, min_samples_split=2, n_estimators=440; total time=   0.9s\n",
      "[CV] END bootstrap=True, max_depth=15, max_features=sqrt, min_samples_leaf=18, min_samples_split=2, n_estimators=440; total time=   0.9s\n",
      "[CV] END bootstrap=True, max_depth=15, max_features=sqrt, min_samples_leaf=18, min_samples_split=2, n_estimators=440; total time=   0.9s\n",
      "[CV] END bootstrap=True, max_depth=15, max_features=auto, min_samples_leaf=18, min_samples_split=8, n_estimators=360; total time=   0.7s\n",
      "[CV] END bootstrap=True, max_depth=15, max_features=auto, min_samples_leaf=18, min_samples_split=8, n_estimators=360; total time=   0.7s\n",
      "[CV] END bootstrap=True, max_depth=15, max_features=auto, min_samples_leaf=18, min_samples_split=8, n_estimators=360; total time=   0.7s\n",
      "[CV] END bootstrap=True, max_depth=15, max_features=auto, min_samples_leaf=18, min_samples_split=8, n_estimators=360; total time=   0.7s\n",
      "[CV] END bootstrap=True, max_depth=15, max_features=auto, min_samples_leaf=18, min_samples_split=8, n_estimators=360; total time=   0.8s\n",
      "[CV] END bootstrap=False, max_depth=12, max_features=sqrt, min_samples_leaf=9, min_samples_split=6, n_estimators=1000; total time=   3.1s\n",
      "[CV] END bootstrap=False, max_depth=12, max_features=sqrt, min_samples_leaf=9, min_samples_split=6, n_estimators=1000; total time=   3.0s\n",
      "[CV] END bootstrap=False, max_depth=12, max_features=sqrt, min_samples_leaf=9, min_samples_split=6, n_estimators=1000; total time=   2.9s\n",
      "[CV] END bootstrap=False, max_depth=12, max_features=sqrt, min_samples_leaf=9, min_samples_split=6, n_estimators=1000; total time=   2.9s\n",
      "[CV] END bootstrap=False, max_depth=12, max_features=sqrt, min_samples_leaf=9, min_samples_split=6, n_estimators=1000; total time=   3.0s\n",
      "[CV] END bootstrap=True, max_depth=7, max_features=auto, min_samples_leaf=16, min_samples_split=8, n_estimators=200; total time=   0.4s\n"
     ]
    },
    {
     "name": "stdout",
     "output_type": "stream",
     "text": [
      "[CV] END bootstrap=True, max_depth=7, max_features=auto, min_samples_leaf=16, min_samples_split=8, n_estimators=200; total time=   0.4s\n",
      "[CV] END bootstrap=True, max_depth=7, max_features=auto, min_samples_leaf=16, min_samples_split=8, n_estimators=200; total time=   0.4s\n",
      "[CV] END bootstrap=True, max_depth=7, max_features=auto, min_samples_leaf=16, min_samples_split=8, n_estimators=200; total time=   0.4s\n",
      "[CV] END bootstrap=True, max_depth=7, max_features=auto, min_samples_leaf=16, min_samples_split=8, n_estimators=200; total time=   0.4s\n",
      "[CV] END bootstrap=True, max_depth=7, max_features=auto, min_samples_leaf=10, min_samples_split=8, n_estimators=360; total time=   0.8s\n",
      "[CV] END bootstrap=True, max_depth=7, max_features=auto, min_samples_leaf=10, min_samples_split=8, n_estimators=360; total time=   0.7s\n",
      "[CV] END bootstrap=True, max_depth=7, max_features=auto, min_samples_leaf=10, min_samples_split=8, n_estimators=360; total time=   0.8s\n",
      "[CV] END bootstrap=True, max_depth=7, max_features=auto, min_samples_leaf=10, min_samples_split=8, n_estimators=360; total time=   0.8s\n",
      "[CV] END bootstrap=True, max_depth=7, max_features=auto, min_samples_leaf=10, min_samples_split=8, n_estimators=360; total time=   0.8s\n",
      "[CV] END bootstrap=False, max_depth=15, max_features=auto, min_samples_leaf=1, min_samples_split=8, n_estimators=600; total time=   2.2s\n",
      "[CV] END bootstrap=False, max_depth=15, max_features=auto, min_samples_leaf=1, min_samples_split=8, n_estimators=600; total time=   2.2s\n",
      "[CV] END bootstrap=False, max_depth=15, max_features=auto, min_samples_leaf=1, min_samples_split=8, n_estimators=600; total time=   2.2s\n",
      "[CV] END bootstrap=False, max_depth=15, max_features=auto, min_samples_leaf=1, min_samples_split=8, n_estimators=600; total time=   2.1s\n",
      "[CV] END bootstrap=False, max_depth=15, max_features=auto, min_samples_leaf=1, min_samples_split=8, n_estimators=600; total time=   2.2s\n",
      "[CV] END bootstrap=False, max_depth=3, max_features=auto, min_samples_leaf=11, min_samples_split=6, n_estimators=760; total time=   1.1s\n",
      "[CV] END bootstrap=False, max_depth=3, max_features=auto, min_samples_leaf=11, min_samples_split=6, n_estimators=760; total time=   1.1s\n",
      "[CV] END bootstrap=False, max_depth=3, max_features=auto, min_samples_leaf=11, min_samples_split=6, n_estimators=760; total time=   1.1s\n",
      "[CV] END bootstrap=False, max_depth=3, max_features=auto, min_samples_leaf=11, min_samples_split=6, n_estimators=760; total time=   1.2s\n",
      "[CV] END bootstrap=False, max_depth=3, max_features=auto, min_samples_leaf=11, min_samples_split=6, n_estimators=760; total time=   1.2s\n",
      "[CV] END bootstrap=False, max_depth=11, max_features=auto, min_samples_leaf=19, min_samples_split=2, n_estimators=840; total time=   2.3s\n",
      "[CV] END bootstrap=False, max_depth=11, max_features=auto, min_samples_leaf=19, min_samples_split=2, n_estimators=840; total time=   2.2s\n",
      "[CV] END bootstrap=False, max_depth=11, max_features=auto, min_samples_leaf=19, min_samples_split=2, n_estimators=840; total time=   2.2s\n",
      "[CV] END bootstrap=False, max_depth=11, max_features=auto, min_samples_leaf=19, min_samples_split=2, n_estimators=840; total time=   2.2s\n",
      "[CV] END bootstrap=False, max_depth=11, max_features=auto, min_samples_leaf=19, min_samples_split=2, n_estimators=840; total time=   2.2s\n",
      "[CV] END bootstrap=True, max_depth=3, max_features=sqrt, min_samples_leaf=16, min_samples_split=8, n_estimators=440; total time=   0.6s\n",
      "[CV] END bootstrap=True, max_depth=3, max_features=sqrt, min_samples_leaf=16, min_samples_split=8, n_estimators=440; total time=   0.6s\n",
      "[CV] END bootstrap=True, max_depth=3, max_features=sqrt, min_samples_leaf=16, min_samples_split=8, n_estimators=440; total time=   0.7s\n",
      "[CV] END bootstrap=True, max_depth=3, max_features=sqrt, min_samples_leaf=16, min_samples_split=8, n_estimators=440; total time=   0.6s\n",
      "[CV] END bootstrap=True, max_depth=3, max_features=sqrt, min_samples_leaf=16, min_samples_split=8, n_estimators=440; total time=   0.6s\n",
      "[CV] END bootstrap=False, max_depth=5, max_features=sqrt, min_samples_leaf=19, min_samples_split=2, n_estimators=280; total time=   0.5s\n",
      "[CV] END bootstrap=False, max_depth=5, max_features=sqrt, min_samples_leaf=19, min_samples_split=2, n_estimators=280; total time=   0.5s\n",
      "[CV] END bootstrap=False, max_depth=5, max_features=sqrt, min_samples_leaf=19, min_samples_split=2, n_estimators=280; total time=   0.5s\n",
      "[CV] END bootstrap=False, max_depth=5, max_features=sqrt, min_samples_leaf=19, min_samples_split=2, n_estimators=280; total time=   0.5s\n",
      "[CV] END bootstrap=False, max_depth=5, max_features=sqrt, min_samples_leaf=19, min_samples_split=2, n_estimators=280; total time=   0.5s\n",
      "[CV] END bootstrap=True, max_depth=12, max_features=sqrt, min_samples_leaf=17, min_samples_split=6, n_estimators=440; total time=   1.0s\n",
      "[CV] END bootstrap=True, max_depth=12, max_features=sqrt, min_samples_leaf=17, min_samples_split=6, n_estimators=440; total time=   0.9s\n",
      "[CV] END bootstrap=True, max_depth=12, max_features=sqrt, min_samples_leaf=17, min_samples_split=6, n_estimators=440; total time=   0.9s\n",
      "[CV] END bootstrap=True, max_depth=12, max_features=sqrt, min_samples_leaf=17, min_samples_split=6, n_estimators=440; total time=   0.9s\n",
      "[CV] END bootstrap=True, max_depth=12, max_features=sqrt, min_samples_leaf=17, min_samples_split=6, n_estimators=440; total time=   0.9s\n",
      "[CV] END bootstrap=False, max_depth=14, max_features=sqrt, min_samples_leaf=10, min_samples_split=2, n_estimators=360; total time=   1.0s\n",
      "[CV] END bootstrap=False, max_depth=14, max_features=sqrt, min_samples_leaf=10, min_samples_split=2, n_estimators=360; total time=   1.0s\n",
      "[CV] END bootstrap=False, max_depth=14, max_features=sqrt, min_samples_leaf=10, min_samples_split=2, n_estimators=360; total time=   1.0s\n",
      "[CV] END bootstrap=False, max_depth=14, max_features=sqrt, min_samples_leaf=10, min_samples_split=2, n_estimators=360; total time=   1.0s\n",
      "[CV] END bootstrap=False, max_depth=14, max_features=sqrt, min_samples_leaf=10, min_samples_split=2, n_estimators=360; total time=   1.0s\n",
      "[CV] END bootstrap=True, max_depth=19, max_features=auto, min_samples_leaf=15, min_samples_split=8, n_estimators=600; total time=   1.4s\n",
      "[CV] END bootstrap=True, max_depth=19, max_features=auto, min_samples_leaf=15, min_samples_split=8, n_estimators=600; total time=   1.3s\n",
      "[CV] END bootstrap=True, max_depth=19, max_features=auto, min_samples_leaf=15, min_samples_split=8, n_estimators=600; total time=   1.3s\n",
      "[CV] END bootstrap=True, max_depth=19, max_features=auto, min_samples_leaf=15, min_samples_split=8, n_estimators=600; total time=   1.4s\n",
      "[CV] END bootstrap=True, max_depth=19, max_features=auto, min_samples_leaf=15, min_samples_split=8, n_estimators=600; total time=   1.4s\n",
      "[CV] END bootstrap=False, max_depth=18, max_features=auto, min_samples_leaf=12, min_samples_split=8, n_estimators=680; total time=   1.9s\n",
      "[CV] END bootstrap=False, max_depth=18, max_features=auto, min_samples_leaf=12, min_samples_split=8, n_estimators=680; total time=   1.9s\n",
      "[CV] END bootstrap=False, max_depth=18, max_features=auto, min_samples_leaf=12, min_samples_split=8, n_estimators=680; total time=   1.9s\n",
      "[CV] END bootstrap=False, max_depth=18, max_features=auto, min_samples_leaf=12, min_samples_split=8, n_estimators=680; total time=   1.9s\n",
      "[CV] END bootstrap=False, max_depth=18, max_features=auto, min_samples_leaf=12, min_samples_split=8, n_estimators=680; total time=   2.0s\n",
      "[CV] END bootstrap=True, max_depth=19, max_features=sqrt, min_samples_leaf=1, min_samples_split=6, n_estimators=200; total time=   0.5s\n",
      "[CV] END bootstrap=True, max_depth=19, max_features=sqrt, min_samples_leaf=1, min_samples_split=6, n_estimators=200; total time=   0.5s\n",
      "[CV] END bootstrap=True, max_depth=19, max_features=sqrt, min_samples_leaf=1, min_samples_split=6, n_estimators=200; total time=   0.5s\n",
      "[CV] END bootstrap=True, max_depth=19, max_features=sqrt, min_samples_leaf=1, min_samples_split=6, n_estimators=200; total time=   0.5s\n",
      "[CV] END bootstrap=True, max_depth=19, max_features=sqrt, min_samples_leaf=1, min_samples_split=6, n_estimators=200; total time=   0.5s\n",
      "[CV] END bootstrap=True, max_depth=7, max_features=auto, min_samples_leaf=18, min_samples_split=2, n_estimators=760; total time=   1.6s\n"
     ]
    },
    {
     "name": "stdout",
     "output_type": "stream",
     "text": [
      "[CV] END bootstrap=True, max_depth=7, max_features=auto, min_samples_leaf=18, min_samples_split=2, n_estimators=760; total time=   1.5s\n",
      "[CV] END bootstrap=True, max_depth=7, max_features=auto, min_samples_leaf=18, min_samples_split=2, n_estimators=760; total time=   1.5s\n",
      "[CV] END bootstrap=True, max_depth=7, max_features=auto, min_samples_leaf=18, min_samples_split=2, n_estimators=760; total time=   1.6s\n",
      "[CV] END bootstrap=True, max_depth=7, max_features=auto, min_samples_leaf=18, min_samples_split=2, n_estimators=760; total time=   1.6s\n",
      "[CV] END bootstrap=False, max_depth=8, max_features=sqrt, min_samples_leaf=17, min_samples_split=8, n_estimators=920; total time=   2.4s\n",
      "[CV] END bootstrap=False, max_depth=8, max_features=sqrt, min_samples_leaf=17, min_samples_split=8, n_estimators=920; total time=   2.4s\n",
      "[CV] END bootstrap=False, max_depth=8, max_features=sqrt, min_samples_leaf=17, min_samples_split=8, n_estimators=920; total time=   2.2s\n",
      "[CV] END bootstrap=False, max_depth=8, max_features=sqrt, min_samples_leaf=17, min_samples_split=8, n_estimators=920; total time=   2.3s\n",
      "[CV] END bootstrap=False, max_depth=8, max_features=sqrt, min_samples_leaf=17, min_samples_split=8, n_estimators=920; total time=   2.2s\n",
      "[CV] END bootstrap=False, max_depth=5, max_features=auto, min_samples_leaf=10, min_samples_split=8, n_estimators=760; total time=   1.4s\n",
      "[CV] END bootstrap=False, max_depth=5, max_features=auto, min_samples_leaf=10, min_samples_split=8, n_estimators=760; total time=   1.4s\n",
      "[CV] END bootstrap=False, max_depth=5, max_features=auto, min_samples_leaf=10, min_samples_split=8, n_estimators=760; total time=   1.4s\n",
      "[CV] END bootstrap=False, max_depth=5, max_features=auto, min_samples_leaf=10, min_samples_split=8, n_estimators=760; total time=   1.4s\n",
      "[CV] END bootstrap=False, max_depth=5, max_features=auto, min_samples_leaf=10, min_samples_split=8, n_estimators=760; total time=   1.5s\n",
      "[CV] END bootstrap=False, max_depth=17, max_features=auto, min_samples_leaf=2, min_samples_split=8, n_estimators=280; total time=   0.9s\n",
      "[CV] END bootstrap=False, max_depth=17, max_features=auto, min_samples_leaf=2, min_samples_split=8, n_estimators=280; total time=   0.9s\n",
      "[CV] END bootstrap=False, max_depth=17, max_features=auto, min_samples_leaf=2, min_samples_split=8, n_estimators=280; total time=   0.9s\n",
      "[CV] END bootstrap=False, max_depth=17, max_features=auto, min_samples_leaf=2, min_samples_split=8, n_estimators=280; total time=   0.9s\n",
      "[CV] END bootstrap=False, max_depth=17, max_features=auto, min_samples_leaf=2, min_samples_split=8, n_estimators=280; total time=   0.9s\n",
      "[CV] END bootstrap=True, max_depth=9, max_features=sqrt, min_samples_leaf=3, min_samples_split=2, n_estimators=840; total time=   2.0s\n",
      "[CV] END bootstrap=True, max_depth=9, max_features=sqrt, min_samples_leaf=3, min_samples_split=2, n_estimators=840; total time=   2.0s\n",
      "[CV] END bootstrap=True, max_depth=9, max_features=sqrt, min_samples_leaf=3, min_samples_split=2, n_estimators=840; total time=   2.0s\n",
      "[CV] END bootstrap=True, max_depth=9, max_features=sqrt, min_samples_leaf=3, min_samples_split=2, n_estimators=840; total time=   2.0s\n",
      "[CV] END bootstrap=True, max_depth=9, max_features=sqrt, min_samples_leaf=3, min_samples_split=2, n_estimators=840; total time=   2.0s\n",
      "[CV] END bootstrap=False, max_depth=17, max_features=auto, min_samples_leaf=13, min_samples_split=6, n_estimators=840; total time=   2.3s\n",
      "[CV] END bootstrap=False, max_depth=17, max_features=auto, min_samples_leaf=13, min_samples_split=6, n_estimators=840; total time=   2.3s\n",
      "[CV] END bootstrap=False, max_depth=17, max_features=auto, min_samples_leaf=13, min_samples_split=6, n_estimators=840; total time=   2.3s\n",
      "[CV] END bootstrap=False, max_depth=17, max_features=auto, min_samples_leaf=13, min_samples_split=6, n_estimators=840; total time=   2.3s\n",
      "[CV] END bootstrap=False, max_depth=17, max_features=auto, min_samples_leaf=13, min_samples_split=6, n_estimators=840; total time=   2.4s\n",
      "[CV] END bootstrap=True, max_depth=17, max_features=sqrt, min_samples_leaf=5, min_samples_split=6, n_estimators=200; total time=   0.5s\n",
      "[CV] END bootstrap=True, max_depth=17, max_features=sqrt, min_samples_leaf=5, min_samples_split=6, n_estimators=200; total time=   0.5s\n",
      "[CV] END bootstrap=True, max_depth=17, max_features=sqrt, min_samples_leaf=5, min_samples_split=6, n_estimators=200; total time=   0.5s\n",
      "[CV] END bootstrap=True, max_depth=17, max_features=sqrt, min_samples_leaf=5, min_samples_split=6, n_estimators=200; total time=   0.5s\n",
      "[CV] END bootstrap=True, max_depth=17, max_features=sqrt, min_samples_leaf=5, min_samples_split=6, n_estimators=200; total time=   0.5s\n",
      "[CV] END bootstrap=False, max_depth=11, max_features=auto, min_samples_leaf=12, min_samples_split=8, n_estimators=440; total time=   1.3s\n",
      "[CV] END bootstrap=False, max_depth=11, max_features=auto, min_samples_leaf=12, min_samples_split=8, n_estimators=440; total time=   1.3s\n",
      "[CV] END bootstrap=False, max_depth=11, max_features=auto, min_samples_leaf=12, min_samples_split=8, n_estimators=440; total time=   1.3s\n",
      "[CV] END bootstrap=False, max_depth=11, max_features=auto, min_samples_leaf=12, min_samples_split=8, n_estimators=440; total time=   1.3s\n",
      "[CV] END bootstrap=False, max_depth=11, max_features=auto, min_samples_leaf=12, min_samples_split=8, n_estimators=440; total time=   1.4s\n",
      "[CV] END bootstrap=False, max_depth=15, max_features=sqrt, min_samples_leaf=9, min_samples_split=2, n_estimators=600; total time=   2.0s\n",
      "[CV] END bootstrap=False, max_depth=15, max_features=sqrt, min_samples_leaf=9, min_samples_split=2, n_estimators=600; total time=   1.9s\n",
      "[CV] END bootstrap=False, max_depth=15, max_features=sqrt, min_samples_leaf=9, min_samples_split=2, n_estimators=600; total time=   1.8s\n",
      "[CV] END bootstrap=False, max_depth=15, max_features=sqrt, min_samples_leaf=9, min_samples_split=2, n_estimators=600; total time=   1.8s\n",
      "[CV] END bootstrap=False, max_depth=15, max_features=sqrt, min_samples_leaf=9, min_samples_split=2, n_estimators=600; total time=   1.8s\n",
      "[CV] END bootstrap=False, max_depth=9, max_features=sqrt, min_samples_leaf=9, min_samples_split=6, n_estimators=440; total time=   1.2s\n",
      "[CV] END bootstrap=False, max_depth=9, max_features=sqrt, min_samples_leaf=9, min_samples_split=6, n_estimators=440; total time=   1.2s\n",
      "[CV] END bootstrap=False, max_depth=9, max_features=sqrt, min_samples_leaf=9, min_samples_split=6, n_estimators=440; total time=   1.2s\n",
      "[CV] END bootstrap=False, max_depth=9, max_features=sqrt, min_samples_leaf=9, min_samples_split=6, n_estimators=440; total time=   1.2s\n",
      "[CV] END bootstrap=False, max_depth=9, max_features=sqrt, min_samples_leaf=9, min_samples_split=6, n_estimators=440; total time=   1.2s\n",
      "[CV] END bootstrap=False, max_depth=1, max_features=sqrt, min_samples_leaf=10, min_samples_split=2, n_estimators=200; total time=   0.1s\n",
      "[CV] END bootstrap=False, max_depth=1, max_features=sqrt, min_samples_leaf=10, min_samples_split=2, n_estimators=200; total time=   0.2s\n",
      "[CV] END bootstrap=False, max_depth=1, max_features=sqrt, min_samples_leaf=10, min_samples_split=2, n_estimators=200; total time=   0.2s\n",
      "[CV] END bootstrap=False, max_depth=1, max_features=sqrt, min_samples_leaf=10, min_samples_split=2, n_estimators=200; total time=   0.1s\n",
      "[CV] END bootstrap=False, max_depth=1, max_features=sqrt, min_samples_leaf=10, min_samples_split=2, n_estimators=200; total time=   0.2s\n",
      "[CV] END bootstrap=True, max_depth=1, max_features=sqrt, min_samples_leaf=8, min_samples_split=8, n_estimators=200; total time=   0.2s\n",
      "[CV] END bootstrap=True, max_depth=1, max_features=sqrt, min_samples_leaf=8, min_samples_split=8, n_estimators=200; total time=   0.2s\n",
      "[CV] END bootstrap=True, max_depth=1, max_features=sqrt, min_samples_leaf=8, min_samples_split=8, n_estimators=200; total time=   0.2s\n",
      "[CV] END bootstrap=True, max_depth=1, max_features=sqrt, min_samples_leaf=8, min_samples_split=8, n_estimators=200; total time=   0.2s\n",
      "[CV] END bootstrap=True, max_depth=1, max_features=sqrt, min_samples_leaf=8, min_samples_split=8, n_estimators=200; total time=   0.2s\n",
      "[CV] END bootstrap=True, max_depth=7, max_features=auto, min_samples_leaf=11, min_samples_split=8, n_estimators=440; total time=   0.9s\n"
     ]
    },
    {
     "name": "stdout",
     "output_type": "stream",
     "text": [
      "[CV] END bootstrap=True, max_depth=7, max_features=auto, min_samples_leaf=11, min_samples_split=8, n_estimators=440; total time=   0.9s\n",
      "[CV] END bootstrap=True, max_depth=7, max_features=auto, min_samples_leaf=11, min_samples_split=8, n_estimators=440; total time=   0.9s\n",
      "[CV] END bootstrap=True, max_depth=7, max_features=auto, min_samples_leaf=11, min_samples_split=8, n_estimators=440; total time=   1.0s\n",
      "[CV] END bootstrap=True, max_depth=7, max_features=auto, min_samples_leaf=11, min_samples_split=8, n_estimators=440; total time=   1.0s\n",
      "[CV] END bootstrap=False, max_depth=13, max_features=auto, min_samples_leaf=1, min_samples_split=8, n_estimators=360; total time=   1.3s\n",
      "[CV] END bootstrap=False, max_depth=13, max_features=auto, min_samples_leaf=1, min_samples_split=8, n_estimators=360; total time=   1.2s\n",
      "[CV] END bootstrap=False, max_depth=13, max_features=auto, min_samples_leaf=1, min_samples_split=8, n_estimators=360; total time=   1.2s\n",
      "[CV] END bootstrap=False, max_depth=13, max_features=auto, min_samples_leaf=1, min_samples_split=8, n_estimators=360; total time=   1.3s\n",
      "[CV] END bootstrap=False, max_depth=13, max_features=auto, min_samples_leaf=1, min_samples_split=8, n_estimators=360; total time=   1.2s\n",
      "[CV] END bootstrap=False, max_depth=14, max_features=sqrt, min_samples_leaf=15, min_samples_split=8, n_estimators=200; total time=   0.5s\n",
      "[CV] END bootstrap=False, max_depth=14, max_features=sqrt, min_samples_leaf=15, min_samples_split=8, n_estimators=200; total time=   0.5s\n",
      "[CV] END bootstrap=False, max_depth=14, max_features=sqrt, min_samples_leaf=15, min_samples_split=8, n_estimators=200; total time=   0.5s\n",
      "[CV] END bootstrap=False, max_depth=14, max_features=sqrt, min_samples_leaf=15, min_samples_split=8, n_estimators=200; total time=   0.5s\n",
      "[CV] END bootstrap=False, max_depth=14, max_features=sqrt, min_samples_leaf=15, min_samples_split=8, n_estimators=200; total time=   0.5s\n",
      "[CV] END bootstrap=True, max_depth=6, max_features=auto, min_samples_leaf=15, min_samples_split=2, n_estimators=360; total time=   0.6s\n",
      "[CV] END bootstrap=True, max_depth=6, max_features=auto, min_samples_leaf=15, min_samples_split=2, n_estimators=360; total time=   0.7s\n",
      "[CV] END bootstrap=True, max_depth=6, max_features=auto, min_samples_leaf=15, min_samples_split=2, n_estimators=360; total time=   0.7s\n",
      "[CV] END bootstrap=True, max_depth=6, max_features=auto, min_samples_leaf=15, min_samples_split=2, n_estimators=360; total time=   0.7s\n",
      "[CV] END bootstrap=True, max_depth=6, max_features=auto, min_samples_leaf=15, min_samples_split=2, n_estimators=360; total time=   0.7s\n",
      "[CV] END bootstrap=False, max_depth=6, max_features=sqrt, min_samples_leaf=19, min_samples_split=6, n_estimators=200; total time=   0.3s\n",
      "[CV] END bootstrap=False, max_depth=6, max_features=sqrt, min_samples_leaf=19, min_samples_split=6, n_estimators=200; total time=   0.3s\n",
      "[CV] END bootstrap=False, max_depth=6, max_features=sqrt, min_samples_leaf=19, min_samples_split=6, n_estimators=200; total time=   0.3s\n",
      "[CV] END bootstrap=False, max_depth=6, max_features=sqrt, min_samples_leaf=19, min_samples_split=6, n_estimators=200; total time=   0.3s\n",
      "[CV] END bootstrap=False, max_depth=6, max_features=sqrt, min_samples_leaf=19, min_samples_split=6, n_estimators=200; total time=   0.3s\n",
      "[CV] END bootstrap=True, max_depth=6, max_features=sqrt, min_samples_leaf=14, min_samples_split=2, n_estimators=760; total time=   1.5s\n",
      "[CV] END bootstrap=True, max_depth=6, max_features=sqrt, min_samples_leaf=14, min_samples_split=2, n_estimators=760; total time=   1.5s\n",
      "[CV] END bootstrap=True, max_depth=6, max_features=sqrt, min_samples_leaf=14, min_samples_split=2, n_estimators=760; total time=   1.4s\n",
      "[CV] END bootstrap=True, max_depth=6, max_features=sqrt, min_samples_leaf=14, min_samples_split=2, n_estimators=760; total time=   1.5s\n",
      "[CV] END bootstrap=True, max_depth=6, max_features=sqrt, min_samples_leaf=14, min_samples_split=2, n_estimators=760; total time=   1.5s\n",
      "[CV] END bootstrap=False, max_depth=18, max_features=auto, min_samples_leaf=10, min_samples_split=8, n_estimators=600; total time=   1.7s\n",
      "[CV] END bootstrap=False, max_depth=18, max_features=auto, min_samples_leaf=10, min_samples_split=8, n_estimators=600; total time=   1.7s\n",
      "[CV] END bootstrap=False, max_depth=18, max_features=auto, min_samples_leaf=10, min_samples_split=8, n_estimators=600; total time=   1.7s\n",
      "[CV] END bootstrap=False, max_depth=18, max_features=auto, min_samples_leaf=10, min_samples_split=8, n_estimators=600; total time=   1.7s\n",
      "[CV] END bootstrap=False, max_depth=18, max_features=auto, min_samples_leaf=10, min_samples_split=8, n_estimators=600; total time=   1.8s\n",
      "[CV] END bootstrap=True, max_depth=4, max_features=sqrt, min_samples_leaf=17, min_samples_split=8, n_estimators=600; total time=   1.0s\n",
      "[CV] END bootstrap=True, max_depth=4, max_features=sqrt, min_samples_leaf=17, min_samples_split=8, n_estimators=600; total time=   1.0s\n",
      "[CV] END bootstrap=True, max_depth=4, max_features=sqrt, min_samples_leaf=17, min_samples_split=8, n_estimators=600; total time=   1.0s\n",
      "[CV] END bootstrap=True, max_depth=4, max_features=sqrt, min_samples_leaf=17, min_samples_split=8, n_estimators=600; total time=   1.0s\n",
      "[CV] END bootstrap=True, max_depth=4, max_features=sqrt, min_samples_leaf=17, min_samples_split=8, n_estimators=600; total time=   1.0s\n",
      "[CV] END bootstrap=True, max_depth=4, max_features=auto, min_samples_leaf=13, min_samples_split=8, n_estimators=280; total time=   0.4s\n",
      "[CV] END bootstrap=True, max_depth=4, max_features=auto, min_samples_leaf=13, min_samples_split=8, n_estimators=280; total time=   0.4s\n",
      "[CV] END bootstrap=True, max_depth=4, max_features=auto, min_samples_leaf=13, min_samples_split=8, n_estimators=280; total time=   0.4s\n",
      "[CV] END bootstrap=True, max_depth=4, max_features=auto, min_samples_leaf=13, min_samples_split=8, n_estimators=280; total time=   0.4s\n",
      "[CV] END bootstrap=True, max_depth=4, max_features=auto, min_samples_leaf=13, min_samples_split=8, n_estimators=280; total time=   0.4s\n",
      "[CV] END bootstrap=True, max_depth=19, max_features=auto, min_samples_leaf=17, min_samples_split=2, n_estimators=440; total time=   1.0s\n",
      "[CV] END bootstrap=True, max_depth=19, max_features=auto, min_samples_leaf=17, min_samples_split=2, n_estimators=440; total time=   0.9s\n",
      "[CV] END bootstrap=True, max_depth=19, max_features=auto, min_samples_leaf=17, min_samples_split=2, n_estimators=440; total time=   1.1s\n",
      "[CV] END bootstrap=True, max_depth=19, max_features=auto, min_samples_leaf=17, min_samples_split=2, n_estimators=440; total time=   1.0s\n",
      "[CV] END bootstrap=True, max_depth=19, max_features=auto, min_samples_leaf=17, min_samples_split=2, n_estimators=440; total time=   1.0s\n",
      "[CV] END bootstrap=True, max_depth=4, max_features=sqrt, min_samples_leaf=16, min_samples_split=6, n_estimators=440; total time=   0.7s\n",
      "[CV] END bootstrap=True, max_depth=4, max_features=sqrt, min_samples_leaf=16, min_samples_split=6, n_estimators=440; total time=   0.8s\n",
      "[CV] END bootstrap=True, max_depth=4, max_features=sqrt, min_samples_leaf=16, min_samples_split=6, n_estimators=440; total time=   0.8s\n",
      "[CV] END bootstrap=True, max_depth=4, max_features=sqrt, min_samples_leaf=16, min_samples_split=6, n_estimators=440; total time=   0.7s\n",
      "[CV] END bootstrap=True, max_depth=4, max_features=sqrt, min_samples_leaf=16, min_samples_split=6, n_estimators=440; total time=   0.8s\n",
      "[CV] END bootstrap=False, max_depth=17, max_features=sqrt, min_samples_leaf=8, min_samples_split=8, n_estimators=280; total time=   0.8s\n",
      "[CV] END bootstrap=False, max_depth=17, max_features=sqrt, min_samples_leaf=8, min_samples_split=8, n_estimators=280; total time=   0.9s\n",
      "[CV] END bootstrap=False, max_depth=17, max_features=sqrt, min_samples_leaf=8, min_samples_split=8, n_estimators=280; total time=   0.9s\n",
      "[CV] END bootstrap=False, max_depth=17, max_features=sqrt, min_samples_leaf=8, min_samples_split=8, n_estimators=280; total time=   0.9s\n",
      "[CV] END bootstrap=False, max_depth=17, max_features=sqrt, min_samples_leaf=8, min_samples_split=8, n_estimators=280; total time=   0.8s\n",
      "[CV] END bootstrap=True, max_depth=8, max_features=auto, min_samples_leaf=3, min_samples_split=2, n_estimators=920; total time=   2.1s\n"
     ]
    },
    {
     "name": "stdout",
     "output_type": "stream",
     "text": [
      "[CV] END bootstrap=True, max_depth=8, max_features=auto, min_samples_leaf=3, min_samples_split=2, n_estimators=920; total time=   2.0s\n",
      "[CV] END bootstrap=True, max_depth=8, max_features=auto, min_samples_leaf=3, min_samples_split=2, n_estimators=920; total time=   2.0s\n",
      "[CV] END bootstrap=True, max_depth=8, max_features=auto, min_samples_leaf=3, min_samples_split=2, n_estimators=920; total time=   2.1s\n",
      "[CV] END bootstrap=True, max_depth=8, max_features=auto, min_samples_leaf=3, min_samples_split=2, n_estimators=920; total time=   2.2s\n",
      "[CV] END bootstrap=True, max_depth=4, max_features=auto, min_samples_leaf=9, min_samples_split=8, n_estimators=920; total time=   1.6s\n",
      "[CV] END bootstrap=True, max_depth=4, max_features=auto, min_samples_leaf=9, min_samples_split=8, n_estimators=920; total time=   1.5s\n",
      "[CV] END bootstrap=True, max_depth=4, max_features=auto, min_samples_leaf=9, min_samples_split=8, n_estimators=920; total time=   1.5s\n",
      "[CV] END bootstrap=True, max_depth=4, max_features=auto, min_samples_leaf=9, min_samples_split=8, n_estimators=920; total time=   1.5s\n",
      "[CV] END bootstrap=True, max_depth=4, max_features=auto, min_samples_leaf=9, min_samples_split=8, n_estimators=920; total time=   1.5s\n",
      "[CV] END bootstrap=True, max_depth=8, max_features=auto, min_samples_leaf=5, min_samples_split=8, n_estimators=1000; total time=   2.3s\n",
      "[CV] END bootstrap=True, max_depth=8, max_features=auto, min_samples_leaf=5, min_samples_split=8, n_estimators=1000; total time=   2.2s\n",
      "[CV] END bootstrap=True, max_depth=8, max_features=auto, min_samples_leaf=5, min_samples_split=8, n_estimators=1000; total time=   2.2s\n",
      "[CV] END bootstrap=True, max_depth=8, max_features=auto, min_samples_leaf=5, min_samples_split=8, n_estimators=1000; total time=   2.2s\n",
      "[CV] END bootstrap=True, max_depth=8, max_features=auto, min_samples_leaf=5, min_samples_split=8, n_estimators=1000; total time=   2.3s\n",
      "[CV] END bootstrap=True, max_depth=7, max_features=auto, min_samples_leaf=8, min_samples_split=8, n_estimators=440; total time=   0.9s\n",
      "[CV] END bootstrap=True, max_depth=7, max_features=auto, min_samples_leaf=8, min_samples_split=8, n_estimators=440; total time=   0.9s\n",
      "[CV] END bootstrap=True, max_depth=7, max_features=auto, min_samples_leaf=8, min_samples_split=8, n_estimators=440; total time=   0.9s\n",
      "[CV] END bootstrap=True, max_depth=7, max_features=auto, min_samples_leaf=8, min_samples_split=8, n_estimators=440; total time=   0.9s\n",
      "[CV] END bootstrap=True, max_depth=7, max_features=auto, min_samples_leaf=8, min_samples_split=8, n_estimators=440; total time=   0.9s\n"
     ]
    },
    {
     "data": {
      "text/plain": [
       "RandomizedSearchCV(cv=5, estimator=RandomForestClassifier(), n_iter=100,\n",
       "                   n_jobs=1,\n",
       "                   param_distributions={'bootstrap': [True, False],\n",
       "                                        'max_depth': [1, 2, 3, 4, 5, 6, 7, 8, 9,\n",
       "                                                      10, 11, 12, 13, 14, 15,\n",
       "                                                      16, 17, 18, 19],\n",
       "                                        'max_features': ['auto', 'sqrt'],\n",
       "                                        'min_samples_leaf': [1, 2, 3, 4, 5, 6,\n",
       "                                                             7, 8, 9, 10, 11,\n",
       "                                                             12, 13, 14, 15, 16,\n",
       "                                                             17, 18, 19],\n",
       "                                        'min_samples_split': [2, 8, 6],\n",
       "                                        'n_estimators': [200, 280, 360, 440,\n",
       "                                                         520, 600, 680, 760,\n",
       "                                                         840, 920, 1000]},\n",
       "                   scoring='accuracy', verbose=2)"
      ]
     },
     "execution_count": 83,
     "metadata": {},
     "output_type": "execute_result"
    }
   ],
   "source": [
    "from sklearn.model_selection import RandomizedSearchCV\n",
    "n_estimators=[int(x) for x in np.linspace(200,1000,11)]\n",
    "max_features=[\"auto\",\"sqrt\"]\n",
    "max_depth=list(range(1,20))\n",
    "min_samples_split=[2,8,6]\n",
    "min_samples_leaf=list(range(1,20))\n",
    "bootstrap=[True,False]\n",
    "\n",
    "grid_params={\"n_estimators\":n_estimators,\"max_features\":max_features,\"max_depth\":max_depth,\"min_samples_split\":min_samples_split,\"min_samples_leaf\":min_samples_leaf,\"bootstrap\":bootstrap}\n",
    "\n",
    "# Initialised model\n",
    "RFC2_model=RandomForestClassifier(random_state=3)\n",
    "\n",
    "RFC_grid=RandomizedSearchCV(RFC_model,grid_params,cv=5,scoring=\"accuracy\",n_iter=100,verbose=2,n_jobs=1)\n",
    "RFC_grid.fit(X_smote,y_smote)"
   ]
  },
  {
   "cell_type": "code",
   "execution_count": 84,
   "id": "1e5bd4bb",
   "metadata": {},
   "outputs": [
    {
     "name": "stdout",
     "output_type": "stream",
     "text": [
      "{'n_estimators': 200, 'min_samples_split': 6, 'min_samples_leaf': 1, 'max_features': 'sqrt', 'max_depth': 19, 'bootstrap': True}\n"
     ]
    }
   ],
   "source": [
    "# best parameter\n",
    "print(RFC_grid.best_params_)"
   ]
  },
  {
   "cell_type": "code",
   "execution_count": 85,
   "id": "9494189e",
   "metadata": {},
   "outputs": [],
   "source": [
    "# Initialised model\n",
    "RFC2_model=RandomForestClassifier(n_estimators= 200, min_samples_split=6, min_samples_leaf= 1, max_features= 'sqrt', max_depth= 19, bootstrap= True)\n",
    "\n",
    "# Train model\n",
    "RFC2_model.fit(X_smote,y_smote)\n",
    "\n",
    "# Test Model\n",
    "RFC2y_test_pred=RFC_model.predict(X_test)"
   ]
  },
  {
   "cell_type": "code",
   "execution_count": 86,
   "id": "957f048d",
   "metadata": {},
   "outputs": [
    {
     "name": "stdout",
     "output_type": "stream",
     "text": [
      "Random Forest Testing accuracy after hyper parameter tunning: 69.36026936026936\n"
     ]
    }
   ],
   "source": [
    "RFC2_test_accuracy = accuracy_score(y_test,RFC2y_test_pred)\n",
    "print(\"Random Forest Testing accuracy after hyper parameter tunning:\",RFC2_test_accuracy*100)"
   ]
  },
  {
   "cell_type": "markdown",
   "id": "1fbe3515",
   "metadata": {},
   "source": [
    "### 4. GRADIENT BOOSTING CLASSIFIER"
   ]
  },
  {
   "cell_type": "code",
   "execution_count": 87,
   "id": "5b2c317a",
   "metadata": {},
   "outputs": [],
   "source": [
    "from sklearn.ensemble import GradientBoostingClassifier\n",
    "\n",
    "# Initialised model\n",
    "GB_model=GradientBoostingClassifier(n_estimators=400)\n",
    "\n",
    "# Model train with Traning data\n",
    "GB_model.fit(X_smote,y_smote)\n",
    "\n",
    "# Test model with Testing data\n",
    "GBy_test_pred=GB_model.predict(X_test)\n",
    "\n",
    "# Test model with Training data\n",
    "GBy_train_pred=GB_model.predict(X_train)"
   ]
  },
  {
   "cell_type": "markdown",
   "id": "88813b4d",
   "metadata": {},
   "source": [
    "### TRAINING ACCURACY"
   ]
  },
  {
   "cell_type": "code",
   "execution_count": 88,
   "id": "5199aac5",
   "metadata": {},
   "outputs": [
    {
     "name": "stdout",
     "output_type": "stream",
     "text": [
      "Grediant boosting classifier training accuracy: 73.23564089607547\n",
      "Grediant boosting Classification report of training:\n",
      "               precision    recall  f1-score   support\n",
      "\n",
      "           0       0.64      0.75      0.69      2336\n",
      "           1       0.82      0.72      0.77      3601\n",
      "\n",
      "    accuracy                           0.73      5937\n",
      "   macro avg       0.73      0.74      0.73      5937\n",
      "weighted avg       0.74      0.73      0.74      5937\n",
      "\n"
     ]
    }
   ],
   "source": [
    "GB_train_accuracy = accuracy_score(y_train,GBy_train_pred)\n",
    "print(\"Grediant boosting classifier training accuracy:\",GB_train_accuracy*100)\n",
    "print(\"Grediant boosting Classification report of training:\"'\\n',classification_report(y_train,GBy_train_pred))"
   ]
  },
  {
   "cell_type": "markdown",
   "id": "834330bc",
   "metadata": {},
   "source": [
    "### TESTING ACCURACY"
   ]
  },
  {
   "cell_type": "code",
   "execution_count": 89,
   "id": "b7908f9a",
   "metadata": {},
   "outputs": [
    {
     "name": "stdout",
     "output_type": "stream",
     "text": [
      "Grediant boosting classifier testing accuracy: 72.25589225589225\n",
      "Grediant boosting Classification report of testing:\n",
      "               precision    recall  f1-score   support\n",
      "\n",
      "           0       0.64      0.72      0.68       595\n",
      "           1       0.80      0.72      0.76       890\n",
      "\n",
      "    accuracy                           0.72      1485\n",
      "   macro avg       0.72      0.72      0.72      1485\n",
      "weighted avg       0.73      0.72      0.72      1485\n",
      "\n"
     ]
    }
   ],
   "source": [
    "GB_test_accuracy = accuracy_score(y_test,GBy_test_pred)\n",
    "print(\"Grediant boosting classifier testing accuracy:\",GB_test_accuracy*100)\n",
    "print(\"Grediant boosting Classification report of testing:\"'\\n',classification_report(y_test,GBy_test_pred))"
   ]
  },
  {
   "cell_type": "markdown",
   "id": "18f94970",
   "metadata": {},
   "source": [
    "### 5. XG BOOSTING CLASSIFIER"
   ]
  },
  {
   "cell_type": "code",
   "execution_count": 90,
   "id": "78026479",
   "metadata": {},
   "outputs": [],
   "source": [
    "from xgboost import XGBClassifier\n",
    "\n",
    "# Initialised model\n",
    "XGB_model=XGBClassifier()\n",
    "\n",
    "# train model with training data\n",
    "XGB_model.fit(X_smote,y_smote)\n",
    "\n",
    "# test model with testing data\n",
    "XGBy_test_pred=XGB_model.predict(X_test)\n",
    "\n",
    "# Make prediction on train data\n",
    "XGBy_train_pred=XGB_model.predict(X_train)"
   ]
  },
  {
   "cell_type": "markdown",
   "id": "fc57a43f",
   "metadata": {},
   "source": [
    "### TRAINING ACCURACY"
   ]
  },
  {
   "cell_type": "code",
   "execution_count": 91,
   "id": "b77dfd2a",
   "metadata": {},
   "outputs": [
    {
     "name": "stdout",
     "output_type": "stream",
     "text": [
      "Training accuracy of xgb model 78.00235809331312\n",
      "XGB Classifiaction report on training: \n",
      "               precision    recall  f1-score   support\n",
      "\n",
      "           0       0.81      0.69      0.74      2740\n",
      "           1       0.76      0.86      0.81      3197\n",
      "\n",
      "    accuracy                           0.78      5937\n",
      "   macro avg       0.78      0.77      0.78      5937\n",
      "weighted avg       0.78      0.78      0.78      5937\n",
      "\n"
     ]
    }
   ],
   "source": [
    "XGBy_train_accuracy = accuracy_score(XGBy_train_pred,y_train)\n",
    "print(\"Training accuracy of xgb model\",XGBy_train_accuracy*100)\n",
    "print(\"XGB Classifiaction report on training: \\n\",classification_report(XGBy_train_pred,y_train))"
   ]
  },
  {
   "cell_type": "markdown",
   "id": "da4bcd78",
   "metadata": {},
   "source": [
    "### TESTING ACCURACY"
   ]
  },
  {
   "cell_type": "code",
   "execution_count": 92,
   "id": "cbef516a",
   "metadata": {},
   "outputs": [
    {
     "name": "stdout",
     "output_type": "stream",
     "text": [
      "Testing accuracy of xgb model 71.11111111111111\n",
      "XGB Classifiaction report on testing: \n",
      "               precision    recall  f1-score   support\n",
      "\n",
      "           0       0.69      0.63      0.66       654\n",
      "           1       0.73      0.78      0.75       831\n",
      "\n",
      "    accuracy                           0.71      1485\n",
      "   macro avg       0.71      0.70      0.70      1485\n",
      "weighted avg       0.71      0.71      0.71      1485\n",
      "\n"
     ]
    }
   ],
   "source": [
    "XGBy_test_accuracy = accuracy_score(XGBy_test_pred,y_test)\n",
    "print(\"Testing accuracy of xgb model\",XGBy_test_accuracy*100)\n",
    "print(\"XGB Classifiaction report on testing: \\n\",classification_report(XGBy_test_pred,y_test))"
   ]
  },
  {
   "cell_type": "markdown",
   "id": "ab8b0f75",
   "metadata": {},
   "source": [
    "### HYPERPARAMETER TUNING"
   ]
  },
  {
   "cell_type": "code",
   "execution_count": 93,
   "id": "9bf5b3af",
   "metadata": {},
   "outputs": [
    {
     "name": "stdout",
     "output_type": "stream",
     "text": [
      "Fitting 3 folds for each of 100 candidates, totalling 300 fits\n"
     ]
    },
    {
     "data": {
      "text/plain": [
       "RandomizedSearchCV(cv=3,\n",
       "                   estimator=XGBClassifier(base_score=None, booster=None,\n",
       "                                           callbacks=None,\n",
       "                                           colsample_bylevel=None,\n",
       "                                           colsample_bynode=None,\n",
       "                                           colsample_bytree=None,\n",
       "                                           early_stopping_rounds=None,\n",
       "                                           enable_categorical=False,\n",
       "                                           eval_metric=None, feature_types=None,\n",
       "                                           gamma=None, gpu_id=None,\n",
       "                                           grow_policy=None,\n",
       "                                           importance_type=None,\n",
       "                                           interaction_constraints=None,\n",
       "                                           learning_rate...\n",
       "                                                  3.2, 6.4, 12.8, 25.6, 51.2,\n",
       "                                                  102.4, 200],\n",
       "                                        'learning_rate': [0.01, 0.03, 0.06, 0.1,\n",
       "                                                          0.15, 0.2, 0.25,\n",
       "                                                          0.300000012, 0.4, 0.5,\n",
       "                                                          0.6, 0.7],\n",
       "                                        'max_depth': [5, 6, 7, 8, 9, 10, 11, 12,\n",
       "                                                      13, 14],\n",
       "                                        'n_estimators': [50, 65, 80, 100, 115,\n",
       "                                                         130, 150],\n",
       "                                        'reg_alpha': [0, 0.0, 0.2, 0.4, 0.8,\n",
       "                                                      0.6, 3.2, 6.4, 12.8, 25.6,\n",
       "                                                      51.2, 102.4, 200],\n",
       "                                        'reg_lambda': [0.1, 0.2, 0.4, 0.8, 1.6,\n",
       "                                                       3.2, 6.4, 12.8, 25.6,\n",
       "                                                       51.2, 102.4, 200]},\n",
       "                   random_state=42, scoring='f1', verbose=2)"
      ]
     },
     "execution_count": 93,
     "metadata": {},
     "output_type": "execute_result"
    }
   ],
   "source": [
    "from sklearn.model_selection import RandomizedSearchCV\n",
    "\n",
    "grid_params= {'gamma':[0,0.1,0.2,0.4,0.8,1.6,3.2,6.4,12.8,25.6,51.2,102.4,200],\n",
    "             \"learning_rate\":[0.01,0.03,0.06,0.1,0.15,0.2,0.25,0.300000012,0.4,0.5,0.6,0.7],\n",
    "              \"max_depth\":[5,6,7,8,9,10,11,12,13,14],\n",
    "             \"n_estimators\":[50,65,80,100,115,130,150],\n",
    "             \"reg_alpha\":[0,0.,0.2,0.4,0.8,.6,3.2,6.4,12.8,25.6,51.2,102.4,200],\n",
    "             \"reg_lambda\":[0.1,0.2,0.4,0.8,1.6,3.2,6.4,12.8,25.6,51.2,102.4,200]}\n",
    "\n",
    "XGB2_model=XGBClassifier()\n",
    "XGB_Grid=RandomizedSearchCV(XGB_model,grid_params,cv=3,verbose=2,scoring='f1',n_jobs=-1,random_state=42,n_iter=100)\n",
    "\n",
    "XGB_Grid.fit(X_smote,y_smote)"
   ]
  },
  {
   "cell_type": "code",
   "execution_count": 94,
   "id": "43fbd972",
   "metadata": {},
   "outputs": [
    {
     "name": "stdout",
     "output_type": "stream",
     "text": [
      "{'reg_lambda': 0.4, 'reg_alpha': 0.6, 'n_estimators': 115, 'max_depth': 12, 'learning_rate': 0.1, 'gamma': 0}\n"
     ]
    }
   ],
   "source": [
    "print(XGB_Grid.best_params_)"
   ]
  },
  {
   "cell_type": "code",
   "execution_count": 95,
   "id": "6760d985",
   "metadata": {},
   "outputs": [],
   "source": [
    "XGB2_model=XGBClassifier(reg_lambda= 0.4, reg_alpha= 0.6, n_estimators= 115, max_depth=12, learning_rate = 0.1, gamma = 0)\n",
    "XGB2_model.fit(X_smote,y_smote)\n",
    "XGB2Y_test_pred=XGB2_model.predict(X_test)\n",
    "XGB2Y_train_pred=XGB2_model.predict(X_train)"
   ]
  },
  {
   "cell_type": "markdown",
   "id": "1960cb85",
   "metadata": {},
   "source": [
    "### TESTING ACCURACY"
   ]
  },
  {
   "cell_type": "code",
   "execution_count": 96,
   "id": "e66d922f",
   "metadata": {},
   "outputs": [
    {
     "name": "stdout",
     "output_type": "stream",
     "text": [
      "Accuracy score after hyperparameter tunning 70.3030303030303\n",
      "Classification report: \n",
      "               precision    recall  f1-score   support\n",
      "\n",
      "           0       0.65      0.62      0.64       624\n",
      "           1       0.74      0.76      0.75       861\n",
      "\n",
      "    accuracy                           0.70      1485\n",
      "   macro avg       0.69      0.69      0.69      1485\n",
      "weighted avg       0.70      0.70      0.70      1485\n",
      "\n"
     ]
    }
   ],
   "source": [
    "XGB2_accuracy = accuracy_score(XGB2Y_test_pred,y_test)\n",
    "print(\"Accuracy score after hyperparameter tunning\",XGB2_accuracy*100)\n",
    "print(\"Classification report: \\n\",classification_report(XGB2Y_test_pred,y_test))"
   ]
  },
  {
   "cell_type": "markdown",
   "id": "3c9b9911",
   "metadata": {},
   "source": [
    "### 6. KNN CLASSIFIER"
   ]
  },
  {
   "cell_type": "code",
   "execution_count": 97,
   "id": "62fb2a97",
   "metadata": {},
   "outputs": [
    {
     "name": "stdout",
     "output_type": "stream",
     "text": [
      "Error rate: [0.3656565656565657, 0.296969696969697, 0.3063973063973064, 0.30303030303030304, 0.296969696969697, 0.2936026936026936, 0.30976430976430974, 0.28888888888888886, 0.2996632996632997]\n"
     ]
    }
   ],
   "source": [
    "from sklearn.neighbors import KNeighborsClassifier\n",
    "\n",
    "# Creating empty list\n",
    "error_rate = [] \n",
    "for i in range(2,11):\n",
    "    knn = KNeighborsClassifier(n_neighbors=i)\n",
    "    knn.fit(X_train,y_train)\n",
    "    y_knn_predict = knn.predict(X_test)\n",
    "    error_rate.append(np.mean(y_knn_predict != y_test))\n",
    "print(\"Error rate:\",error_rate)"
   ]
  },
  {
   "cell_type": "code",
   "execution_count": 98,
   "id": "61b82e87",
   "metadata": {},
   "outputs": [
    {
     "data": {
      "image/png": "[encoded data removed]",
      "text/plain": [
       "<Figure size 1000x600 with 1 Axes>"
      ]
     },
     "metadata": {},
     "output_type": "display_data"
    }
   ],
   "source": [
    "# Step:2 Plotting the error rate\n",
    "plt.figure(figsize=(10,6))\n",
    "plt.plot(range(2,11),error_rate,color='blue', linestyle='dashed',marker='o',markerfacecolor='red', markersize=10)\n",
    "plt.title('Error Rate vs. K Value')\n",
    "plt.xlabel('K')\n",
    "plt.ylabel('Error Rate')\n",
    "plt.show()"
   ]
  },
  {
   "cell_type": "code",
   "execution_count": 99,
   "id": "41d2d425",
   "metadata": {},
   "outputs": [],
   "source": [
    "# Step:3 Get nearst neighbors\n",
    "knn1 = KNeighborsClassifier(n_neighbors=3)\n",
    "\n",
    "# Step:4 Fitting the training data\n",
    "knn1.fit(X_train,y_train)\n",
    "\n",
    "# Step:5 Prediction on testing data\n",
    "knn_test_predict = knn1.predict(X_test)\n",
    "\n",
    "# Step:6 Prediction on training data\n",
    "knn_train_predict = knn1.predict(X_train)"
   ]
  },
  {
   "cell_type": "markdown",
   "id": "db223b95",
   "metadata": {},
   "source": [
    "### TRAINING ACCURACY"
   ]
  },
  {
   "cell_type": "code",
   "execution_count": 100,
   "id": "85c532ef",
   "metadata": {},
   "outputs": [
    {
     "name": "stdout",
     "output_type": "stream",
     "text": [
      "Training accuracy of knn model  78.45713323227218\n",
      "Training classification report:\n",
      "               precision    recall  f1-score   support\n",
      "\n",
      "           0       0.71      0.74      0.72      2241\n",
      "           1       0.84      0.81      0.82      3696\n",
      "\n",
      "    accuracy                           0.78      5937\n",
      "   macro avg       0.77      0.77      0.77      5937\n",
      "weighted avg       0.79      0.78      0.79      5937\n",
      "\n"
     ]
    }
   ],
   "source": [
    "knn_train_accuracy = accuracy_score(y_train,knn_train_predict)\n",
    "print(\"Training accuracy of knn model \",knn_train_accuracy*100)\n",
    "print(\"Training classification report:\\n\",classification_report(knn_train_predict,y_train))"
   ]
  },
  {
   "cell_type": "markdown",
   "id": "683a8e8c",
   "metadata": {},
   "source": [
    "### TESTING ACCURACY"
   ]
  },
  {
   "cell_type": "code",
   "execution_count": 101,
   "id": "8af1901b",
   "metadata": {},
   "outputs": [
    {
     "name": "stdout",
     "output_type": "stream",
     "text": [
      "Testing accuracy of knn model 70.3030303030303\n",
      "Testing classification report: \n",
      "               precision    recall  f1-score   support\n",
      "\n",
      "           0       0.65      0.56      0.60       595\n",
      "           1       0.73      0.80      0.76       890\n",
      "\n",
      "    accuracy                           0.70      1485\n",
      "   macro avg       0.69      0.68      0.68      1485\n",
      "weighted avg       0.70      0.70      0.70      1485\n",
      "\n"
     ]
    }
   ],
   "source": [
    "knn_test_accuracy = accuracy_score(y_test,knn_test_predict)\n",
    "print(\"Testing accuracy of knn model\",knn_test_accuracy*100)\n",
    "print(\"Testing classification report: \\n\",classification_report(y_test,knn_test_predict))"
   ]
  },
  {
   "cell_type": "markdown",
   "id": "5102b19b",
   "metadata": {},
   "source": [
    "### 7. BAGGING CLASSIFIER"
   ]
  },
  {
   "cell_type": "code",
   "execution_count": 102,
   "id": "e1f30146",
   "metadata": {},
   "outputs": [],
   "source": [
    "from sklearn.ensemble import BaggingClassifier\n",
    "\n",
    "# Initialised model\n",
    "bag_model=BaggingClassifier(base_estimator=knn1,n_estimators=100)\n",
    "\n",
    "# train model\n",
    "bag_model.fit(X_smote,y_smote)\n",
    "\n",
    "# test model \n",
    "bagy_test_pred=bag_model.predict(X_test)"
   ]
  },
  {
   "cell_type": "markdown",
   "id": "f00204f6",
   "metadata": {},
   "source": [
    "### TESTING ACCURACY"
   ]
  },
  {
   "cell_type": "code",
   "execution_count": 103,
   "id": "96d10967",
   "metadata": {},
   "outputs": [
    {
     "name": "stdout",
     "output_type": "stream",
     "text": [
      "Score after bagging: 69.83164983164983\n"
     ]
    }
   ],
   "source": [
    "bagg_accuracy = accuracy_score(y_test,bagy_test_pred)\n",
    "print(\"Score after bagging:\",bagg_accuracy*100)"
   ]
  },
  {
   "cell_type": "markdown",
   "id": "768cca30",
   "metadata": {},
   "source": [
    "### 8. ARTIFICIAL NEURAL NETWORK "
   ]
  },
  {
   "cell_type": "code",
   "execution_count": 104,
   "id": "db93ffef",
   "metadata": {},
   "outputs": [],
   "source": [
    "from sklearn.neural_network import MLPClassifier\n",
    "MLP_model=MLPClassifier(hidden_layer_sizes=(60,2),\n",
    "                   learning_rate_init=0.1,\n",
    "                   max_iter=100,\n",
    "                   random_state=2)\n",
    "# train model\n",
    "MLP_model.fit(X_smote,y_smote)\n",
    "\n",
    "# Make prediction on test data\n",
    "MLPy_test_pred=MLP_model.predict(X_test)\n",
    "\n",
    "# Make prediction on train data\n",
    "MLPy_train_pred=MLP_model.predict(X_train)"
   ]
  },
  {
   "cell_type": "markdown",
   "id": "a0b463f7",
   "metadata": {},
   "source": [
    "### TRAINING ACCURACY"
   ]
  },
  {
   "cell_type": "code",
   "execution_count": 105,
   "id": "be954d1c",
   "metadata": {},
   "outputs": [
    {
     "name": "stdout",
     "output_type": "stream",
     "text": [
      "Training accuracy of MLP model is: 60.65352871820785\n",
      "Classification report of training:\n",
      "               precision    recall  f1-score   support\n",
      "\n",
      "           0       0.00      0.00      0.00         0\n",
      "           1       1.00      0.61      0.76      5937\n",
      "\n",
      "    accuracy                           0.61      5937\n",
      "   macro avg       0.50      0.30      0.38      5937\n",
      "weighted avg       1.00      0.61      0.76      5937\n",
      "\n"
     ]
    }
   ],
   "source": [
    "mlp_train_accuracy = accuracy_score(MLPy_train_pred,y_train)\n",
    "print(\"Training accuracy of MLP model is:\",mlp_train_accuracy*100)\n",
    "print(\"Classification report of training:\"'\\n',classification_report(MLPy_train_pred,y_train))"
   ]
  },
  {
   "cell_type": "markdown",
   "id": "249ef275",
   "metadata": {},
   "source": [
    "### TESTING ACCURACY"
   ]
  },
  {
   "cell_type": "code",
   "execution_count": 110,
   "id": "234ea8ed",
   "metadata": {},
   "outputs": [
    {
     "name": "stdout",
     "output_type": "stream",
     "text": [
      "Testing accuracy of MLP model is: 59.93265993265994\n",
      "Classification report of testing:\n",
      "               precision    recall  f1-score   support\n",
      "\n",
      "           0       0.00      0.00      0.00         0\n",
      "           1       1.00      0.60      0.75      1485\n",
      "\n",
      "    accuracy                           0.60      1485\n",
      "   macro avg       0.50      0.30      0.37      1485\n",
      "weighted avg       1.00      0.60      0.75      1485\n",
      "\n"
     ]
    }
   ],
   "source": [
    "mlp_test_accuracy = accuracy_score(MLPy_test_pred,y_test)\n",
    "print(\"Testing accuracy of MLP model is:\",mlp_test_accuracy*100)\n",
    "print(\"Classification report of testing:\"'\\n',classification_report(MLPy_test_pred,y_test))"
   ]
  },
  {
   "cell_type": "markdown",
   "id": "9a1645a9",
   "metadata": {},
   "source": [
    "### MODEL SAVING"
   ]
  },
  {
   "cell_type": "code",
   "execution_count": 113,
   "id": "268f984f",
   "metadata": {},
   "outputs": [],
   "source": [
    "import pickle\n",
    "GB_FILE =open(\"GB_classifier_model.pkl\",\"wb\")\n",
    "pickle.dump(GB_model,GB_FILE)"
   ]
  },
  {
   "cell_type": "markdown",
   "id": "6924a753",
   "metadata": {},
   "source": [
    "### CONCLUSION"
   ]
  },
  {
   "cell_type": "markdown",
   "id": "6cf7b54b",
   "metadata": {},
   "source": [
    "• In a project focused on improving sales by identifying high-quality leads, various machine learning models were tested using a dataset. The goal was to find the most effective model based on different performance measures like Accuracy, Recall, Precision, and F1 scores.\n",
    "\n",
    "•\tAfter evaluating these models, it was determined that the XG Boosting outperformed the others by achieving the highest accuracy score. This suggests that, compared to the other models tested, XG Boosting was most successful in accurately predicting lead quality, making it the top performer for this particular task.\n"
   ]
  },
  {
   "cell_type": "markdown",
   "id": "c366e7b8",
   "metadata": {},
   "source": [
    "#### --------------------------------------------------------------------------- Thank You ---------------------------------------------------------------------------"
   ]
  },
  {
   "cell_type": "code",
   "execution_count": null,
   "id": "c6d39fe1",
   "metadata": {},
   "outputs": [],
   "source": []
  }
 ],
 "metadata": {
  "kernelspec": {
   "display_name": "Python 3 (ipykernel)",
   "language": "python",
   "name": "python3"
  },
  "language_info": {
   "codemirror_mode": {
    "name": "ipython",
    "version": 3
   },
   "file_extension": ".py",
   "mimetype": "text/x-python",
   "name": "python",
   "nbconvert_exporter": "python",
   "pygments_lexer": "ipython3",
   "version": "3.9.13"
  }
 },
 "nbformat": 4,
 "nbformat_minor": 5
}
